{
 "cells": [
  {
   "cell_type": "code",
   "execution_count": 1,
   "metadata": {},
   "outputs": [
    {
     "data": {
      "text/html": [
       "<style>\n",
       "\n",
       ".rendered_html\n",
       "{\n",
       "  color: #2C5494;\n",
       "  font-family: Ubuntu;\n",
       "  font-size: 140%;\n",
       "  line-height: 1.1;\n",
       "  margin: 0.5em 0;\n",
       "  }\n",
       "\n",
       ".talk_title\n",
       "{\n",
       "  color: #498AF3;\n",
       "  font-size: 250%;\n",
       "  font-weight:bold;\n",
       "  line-height: 1.2; \n",
       "  margin: 10px 50px 10px;\n",
       "  }\n",
       "\n",
       ".subtitle\n",
       "{\n",
       "  color: #386BBC;\n",
       "  font-size: 180%;\n",
       "  font-weight:bold;\n",
       "  line-height: 1.2; \n",
       "  margin: 20px 50px 20px;\n",
       "  }\n",
       "\n",
       ".slide-header, p.slide-header\n",
       "{\n",
       "  color: #498AF3;\n",
       "  font-size: 200%;\n",
       "  font-weight:bold;\n",
       "  margin: 0px 20px 10px;\n",
       "  page-break-before: always;\n",
       "  text-align: center;\n",
       "  }\n",
       "\n",
       ".rendered_html h1\n",
       "{\n",
       "  color: #498AF3;\n",
       "  line-height: 1.2; \n",
       "  margin: 0.15em 0em 0.5em;\n",
       "  page-break-before: always;\n",
       "  text-align: center;\n",
       "  }\n",
       "\n",
       "\n",
       ".rendered_html h2\n",
       "{ \n",
       "  color: #386BBC;\n",
       "  line-height: 1.2;\n",
       "  margin: 1.1em 0em 0.5em;\n",
       "  }\n",
       "\n",
       ".rendered_html h3\n",
       "{ \n",
       "  font-size: 100%;\n",
       "  line-height: 1.2;\n",
       "  margin: 1.1em 0em 0.5em;\n",
       "  }\n",
       "\n",
       ".rendered_html li\n",
       "{\n",
       "  line-height: 1.8;\n",
       "  }\n",
       "\n",
       ".text_cell .input_prompt .CodeMirror-lines .output_area pre\n",
       "{\n",
       "    font-family: \"Ubuntu\";\n",
       "    font-size: 130%;\n",
       "}\n",
       "\n",
       ".gap-above\n",
       "{\n",
       "  padding-top: 200px;\n",
       "  }\n",
       "\n",
       ".gap01\n",
       "{\n",
       "  padding-top: 10px;\n",
       "  }\n",
       "\n",
       ".gap05\n",
       "{\n",
       "  padding-top: 50px;\n",
       "  }\n",
       "\n",
       ".gap1\n",
       "{\n",
       "  padding-top: 100px;\n",
       "  }\n",
       "\n",
       ".gap2\n",
       "{\n",
       "  padding-top: 200px;\n",
       "  }\n",
       "\n",
       ".gap3\n",
       "{\n",
       "  padding-top: 300px;\n",
       "  }\n",
       "\n",
       ".emph\n",
       "{\n",
       "  color: #386BBC;\n",
       "  }\n",
       "\n",
       ".warn\n",
       "{\n",
       "  color: red;\n",
       "  }\n",
       "\n",
       ".center\n",
       "{\n",
       "  text-align: center;\n",
       "  }\n",
       "\n",
       ".nb_link\n",
       "{\n",
       "    padding-bottom: 0.5em;\n",
       "}\n",
       "\n",
       "</style>"
      ],
      "text/plain": [
       "<IPython.core.display.HTML object>"
      ]
     },
     "metadata": {},
     "output_type": "display_data"
    }
   ],
   "source": [
    "%run ../talktools.py"
   ]
  },
  {
   "cell_type": "markdown",
   "metadata": {},
   "source": [
    "# Plotting and Visualization\n",
    "Python Computing for Data Science (AY250; [github](https://github.com/profjsb/python-seminar))\n",
    "\n",
    "J. S. Bloom (2016-2022)\n",
    "\n",
    "## Installation\n",
    "\n",
    "```bash\n",
    "pip install datashader holoviews hvplot\n",
    "conda install --channel conda-forge cartopy\n",
    "```\n",
    "\n",
    "Or `conda env update --prefix /path/to/your/env -f environment.yml`\n",
    "\n",
    "### A reminder:\n",
    "```bash\n",
    "# git clone https://github.com/profjsb/python-seminar\n",
    "cd python-seminar\n",
    "git pull\n",
    "```\n",
    "\n",
    "If you plan on going through the notebooks with me, I strongly suggest that you copy the .ipynb files, e.g.:\n",
    "```bash\n",
    "cp 01_plotting_and_viz_intro.ipynb my_01_plotting_and_viz_intro.ipynb\n",
    "```\n",
    "this will help avoid merge conflicts later on."
   ]
  },
  {
   "cell_type": "markdown",
   "metadata": {},
   "source": [
    "By now you know the basics of:\n",
    "\n",
    "- Numpy array creation and manipulation.\n",
    "- Display of data in numpy arrays: path towards interactive exploratory work.\n",
    "\n",
    "\n",
    "# Today's Plan\n",
    "\n",
    "\n",
    "1. Plotting and visualization: overview & motivation\n",
    "2. `Matplotlib` / `Seaborn`\n",
    "3. 3d rendering with `matplotlib` (also `yt`, briefly)\n",
    "4. Interactive with `matplotlib`, `widgets`, and `Bokeh`\n",
    "5. \"Big data\" exploration with `datashader`\n",
    "6. Vega and vega-lite via `altair`, `holoviews`, `bqplot`\n",
    "\n",
    "<img src=\"https://www.evernote.com/l/AUVM_nsHxwxMU4IwxVdaZlTaOxRad1hL-lAB/image.png\">\n",
    "Source: B. Grainger (PyData 2016) https://www.youtube.com/watch?v=aRxahWy-ul8\n",
    "\n",
    "**declarative**: what should be done, **imperative**: how it should be done\n",
    "\n",
    "(declarative overlays on matplotlib [plotnine](https://plotnine.readthedocs.io/en/stable/))\n",
    "\n",
    "Hopefully after this week you will:\n",
    "\n",
    "- Know how to make and polish figures to the point where they can go to a journal.\n",
    "- Understand matplotlib's internal model enough to:\n",
    "  - know where to look for knobs to fine-tune\n",
    "  - better understand the help and examples online\n",
    "  - use it as a development platform for complex visualization\n",
    "- Be able to build basic interactive viz (in the browser)\n"
   ]
  },
  {
   "cell_type": "markdown",
   "metadata": {},
   "source": [
    "# Plotting and visualization: overview & motivation\n",
    "\n",
    "Major uses of plotting and viz in (data) science workflows:\n",
    "\n",
    "  1. (Initial) **Understanding** - What's there? what's missing? What patterns are worth exploring? What more data do I need?\n",
    "  2. **Exploration** - deeper dive into the \"meaning\". Often cyclical/iterative.\n",
    "  3. **Presentation** - results, telling stories with data (and potentially allowing others to explore)\n",
    "      - different requirements for data science vs science"
   ]
  },
  {
   "cell_type": "markdown",
   "metadata": {},
   "source": [
    "## Always visualize your data!\n"
   ]
  },
  {
   "cell_type": "code",
   "execution_count": null,
   "metadata": {},
   "outputs": [],
   "source": [
    "%matplotlib inline\n",
    "import matplotlib.pyplot as plt\n",
    "\n",
    "# If you're reading in an image\n",
    "# !conda install pillow -y\n",
    "#import matplotlib.image as mpimg\n",
    "#data = mpimg.imread(\"data/my_data_file.jpg\")\n",
    "\n",
    "# or read in a numpy array\n",
    "import numpy as np\n",
    "data = np.load(\"data/my_data_file.npy\")"
   ]
  },
  {
   "cell_type": "code",
   "execution_count": null,
   "metadata": {},
   "outputs": [],
   "source": [
    "data.shape"
   ]
  },
  {
   "cell_type": "code",
   "execution_count": null,
   "metadata": {},
   "outputs": [],
   "source": [
    "import pandas as pd\n",
    "df = pd.DataFrame(data[:,:,0])\n",
    "df.info()"
   ]
  },
  {
   "cell_type": "code",
   "execution_count": null,
   "metadata": {},
   "outputs": [],
   "source": [
    "df.describe()"
   ]
  },
  {
   "cell_type": "code",
   "execution_count": null,
   "metadata": {},
   "outputs": [],
   "source": [
    "df.tail()"
   ]
  },
  {
   "cell_type": "code",
   "execution_count": null,
   "metadata": {},
   "outputs": [],
   "source": [
    "plt.imshow(data)\n",
    "plt.show()"
   ]
  },
  {
   "cell_type": "markdown",
   "metadata": {},
   "source": [
    "Looking at your data not just for images/arrays. Critical for point data too."
   ]
  },
  {
   "cell_type": "markdown",
   "metadata": {},
   "source": [
    "### Anscombe's Quartet\n",
    "\n",
    "<p><a href=\"https://commons.wikimedia.org/wiki/File:Anscombe%27s_quartet_3.svg#/media/File:Anscombe%27s_quartet_3.svg\"><img src=\"https://upload.wikimedia.org/wikipedia/commons/thumb/e/ec/Anscombe%27s_quartet_3.svg/1200px-Anscombe%27s_quartet_3.svg.png\" alt=\"Anscombe's quartet 3.svg\"></a><br>By <a href=\"//commons.wikimedia.org/wiki/File:Anscombe.svg\" title=\"File:Anscombe.svg\">Anscombe.svg</a>: <a href=\"//commons.wikimedia.org/wiki/User:Schutz\" title=\"User:Schutz\">Schutz</a>\n",
    "derivative work (label using subscripts): <a href=\"//commons.wikimedia.org/wiki/User:Avenue\" title=\"User:Avenue\">Avenue</a> (<a href=\"//commons.wikimedia.org/wiki/User_talk:Avenue\" title=\"User talk:Avenue\"><span class=\"signature-talk\">talk</span></a>) - <a href=\"//commons.wikimedia.org/wiki/File:Anscombe.svg\" title=\"File:Anscombe.svg\">Anscombe.svg</a>, <a href=\"http://creativecommons.org/licenses/by-sa/3.0\" title=\"Creative Commons Attribution-Share Alike 3.0\">CC BY-SA 3.0</a>, <a href=\"https://commons.wikimedia.org/w/index.php?curid=9838454\">https://commons.wikimedia.org/w/index.php?curid=9838454</a></p>\n",
    "\n",
    "<img src=\"https://www.evernote.com/l/AUX2p-SfsmVAyZk9cnT7OqaI55Ru3JOmlMkB/image.png\">\n",
    "\n",
    "https://en.wikipedia.org/wiki/Anscombe%27s_quartet"
   ]
  },
  {
   "cell_type": "code",
   "execution_count": null,
   "metadata": {
    "scrolled": true
   },
   "outputs": [],
   "source": [
    "from IPython.display import HTML\n",
    "HTML(\"\"\"\n",
    "<video width=\"620\" controls>\n",
    "  <source src=\"https://pbs.twimg.com/tweet_video/CrIDuOhWYAAVzcM.mp4\" type=\"video/mp4\">\n",
    "</video>\n",
    "\"\"\")"
   ]
  },
  {
   "cell_type": "markdown",
   "metadata": {},
   "source": [
    "From https://twitter.com/JustinMatejka/status/770682771656368128\"\n",
    "Called ... Anscombosaurus"
   ]
  },
  {
   "cell_type": "markdown",
   "metadata": {},
   "source": [
    "## How you decide to show data is part of the story itself\n",
    "\n",
    "Some basic thoughts:\n",
    "\n",
    " 1. No more lines, colors, points than you need to tell the story.\n",
    " 2. But, no removing data for no other reason that it doesn't tell your story.\n",
    " 3. Figures for talks and publications should be (almost) self-describing. An expert in your field should get the point.\n",
    " 4. Figures are the centerpiece of your paper: most people will remember a visual better than they'll remember your abstract.\n",
    " 5. I usually build the figures first, then write the meaty sections, then the conclusions, then the abstract, then the title.\n",
    " \n",
    "\"Ten Simple Rules for Better Figures\":\n",
    "http://journals.plos.org/ploscompbiol/article?id=10.1371/journal.pcbi.1003833"
   ]
  },
  {
   "cell_type": "markdown",
   "metadata": {},
   "source": [
    "## Voyager\n",
    "\n",
    "\"mixed-initiative system that blends manual and automated chart specification to help analysts engage in both open-ended exploration and targeted question answering\"\n",
    "\n",
    "Paper: https://idl.cs.washington.edu/papers/voyager2\n",
    "\n",
    "Explorer: https://vega.github.io/voyager2/\n"
   ]
  },
  {
   "cell_type": "markdown",
   "metadata": {},
   "source": [
    "## Pie Charts: no.\n",
    "\n",
    "Only two exceptions where this is ok..."
   ]
  },
  {
   "cell_type": "markdown",
   "metadata": {},
   "source": [
    "<img src=\"http://i1.wp.com/flowingdata.com/wp-content/uploads/2008/09/Pie-I-have-Eaten.jpg\">"
   ]
  },
  {
   "cell_type": "markdown",
   "metadata": {},
   "source": [
    "<img src=\"https://i0.wp.com/flowingdata.com/wp-content/uploads/2014/12/Pie-Pyramid-e1417455667996.png\">"
   ]
  },
  {
   "cell_type": "markdown",
   "metadata": {},
   "source": [
    "## Bring on the box plots\n",
    "\n",
    "<img src=\"http://blogs.nature.com/methagora/files/2014/01/boxplotr_plots.png\">\n",
    "\n",
    "Sample BoxPlotR plots. Top: Simple Tukey-style box plot. Bottom: Tukey-style box plot with notches, means (crosses), 83% confidence intervals (gray bars; representative of p=0.05 significance) and n values.\n",
    "\n",
    "http://blogs.nature.com/methagora/2014/01/bring-on-the-box-plots-boxplotr.html"
   ]
  },
  {
   "cell_type": "code",
   "execution_count": null,
   "metadata": {},
   "outputs": [],
   "source": [
    "from IPython.display import HTML\n",
    "HTML(\"\"\"\n",
    "<blockquote class=\"twitter-tweet\"><p lang=\"en\" dir=\"ltr\">Animation showing how a boxplot may hide very different data patterns.<br>\n",
    "<br>By <a href=\"https://twitter.com/JustinMatejka?ref_src=twsrc%5Etfw\">@JustinMatejka</a> <a href=\"https://t.co/Zmk10ZTflU\">pic.twitter.com/Zmk10ZTflU</a></p>&mdash; Lionel Page (@page_eco) <a href=\"https://twitter.com/page_eco/status/1055785592829698048?ref_src=twsrc%5Etfw\">October 26, 2018</a></blockquote> \n",
    "<script async src=\"https://platform.twitter.com/widgets.js\" charset=\"utf-8\"></script>\n",
    "\"\"\")"
   ]
  },
  {
   "cell_type": "markdown",
   "metadata": {},
   "source": [
    "<img src=\"data/jsb_fig.png\" width=\"70%\">\n",
    "\n",
    "**Progenitor system constraints in a Hertzsprung–Russell diagram.**  Li, Bloom, et al., Nature 480, 348–350 (15 December 2011).\n",
    "\n",
    "The thick yellow line is the 2σ limit in MV against effective temperature at the supernova location (see text) from a combination of the four Hubble Space Telescope filters, weighted using synthetic colours of redshifted stellar spectra at solar metallicity for that temperature and luminosity class. A more conservative limit comes from taking the single filter that most constrains the stellar type and luminosity class; shown is the 2σ limit assuming the adopted distance modulus27,28 of 29.05 mag (middle grey curve at the bottom of the yellow shading) with a total uncertainty of 0.23 mag (top/bottom grey curve at the bottom of the yellow shading). We also show the theoretical estimates (He-star channel13,14) and observed candidate systems (V445 Pup17, RS Oph16, U Sco18,29 and T CrB16). The grey-shaded rectangle shows the location of V445 Pup. Also plotted are the theoretical evolutionary tracks (from 1 Myr to 13 Gyr) of isolated stars for a range of masses for solar metallicity; note that the limits on the progenitor mass of SN 2011fe under the supersolar metallicity assumption are similar to those represented here. The grey curve at top is the limit inferred from Hubble Space Telescope analysis of SN 2006dd, representative of the other nearby type Ia supernova progenitor limits (see Supplementary Information). For the helium-star channel, bolometric luminosity corrections to the V band are adopted on the basis of effective temperature30. For an effective temperature of 3,000–4,000 K, as expected for the red-giant-branch stars, the MV limit excludes progenitors brighter than an absolute I-band magnitude of MI ≈ −2. This limit is 2 mag fainter than the observed28 tip of the red-giant branch in M101 and places an upper bound to the radius of ≲ for an effective temperature of 3,500 K on any red-giant branch progenitor. In a progenitor model that requires RLOF, this limit then demands an orbital period smaller than 260 to 130 days in a binary system with a  white dwarf (where the range of orbital period accommodates the  range allowed for a red-giant-branch star). The foreground Galactic and M101 extinction due to dust is negligible7 and is taken to be AV = 0 mag here. Had a source at the 2.0σ photometric level been detected in the Hubble Space Telescope images at the precise location of the supernova, we would have been able to rule out the null hypothesis of no significant progenitor with 95% confidence. We therefore use the 2σ photometric uncertainties in quoting the brightness limits on the progenitor system."
   ]
  },
  {
   "cell_type": "code",
   "execution_count": null,
   "metadata": {},
   "outputs": [],
   "source": []
  },
  {
   "cell_type": "code",
   "execution_count": null,
   "metadata": {},
   "outputs": [],
   "source": [
    "%load_ext watermark"
   ]
  },
  {
   "cell_type": "code",
   "execution_count": null,
   "metadata": {},
   "outputs": [],
   "source": [
    "%watermark --iversions"
   ]
  },
  {
   "cell_type": "code",
   "execution_count": null,
   "metadata": {},
   "outputs": [],
   "source": []
  }
 ],
 "metadata": {
  "kernelspec": {
   "display_name": "Python 3 (ipykernel)",
   "language": "python",
   "name": "python3"
  },
  "language_info": {
   "codemirror_mode": {
    "name": "ipython",
    "version": 3
   },
   "file_extension": ".py",
   "mimetype": "text/x-python",
   "name": "python",
   "nbconvert_exporter": "python",
   "pygments_lexer": "ipython3",
   "version": "3.9.9"
  },
  "toc": {
   "base_numbering": 1,
   "nav_menu": {},
   "number_sections": true,
   "sideBar": true,
   "skip_h1_title": false,
   "title_cell": "Table of Contents",
   "title_sidebar": "Contents",
   "toc_cell": false,
   "toc_position": {},
   "toc_section_display": true,
   "toc_window_display": false
  },
  "varInspector": {
   "cols": {
    "lenName": 16,
    "lenType": 16,
    "lenVar": 40
   },
   "kernels_config": {
    "python": {
     "delete_cmd_postfix": "",
     "delete_cmd_prefix": "del ",
     "library": "var_list.py",
     "varRefreshCmd": "print(var_dic_list())"
    },
    "r": {
     "delete_cmd_postfix": ") ",
     "delete_cmd_prefix": "rm(",
     "library": "var_list.r",
     "varRefreshCmd": "cat(var_dic_list()) "
    }
   },
   "types_to_exclude": [
    "module",
    "function",
    "builtin_function_or_method",
    "instance",
    "_Feature"
   ],
   "window_display": false
  }
 },
 "nbformat": 4,
 "nbformat_minor": 1
}
