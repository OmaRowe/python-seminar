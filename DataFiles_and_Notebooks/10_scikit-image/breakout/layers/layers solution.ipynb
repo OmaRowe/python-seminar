{
 "cells": [
  {
   "cell_type": "code",
   "execution_count": null,
   "id": "0b477680",
   "metadata": {},
   "outputs": [],
   "source": [
    "%matplotlib inline\n",
    "import matplotlib.pyplot as plt\n",
    "import skimage as ski\n",
    "import numpy as np"
   ]
  },
  {
   "cell_type": "code",
   "execution_count": null,
   "id": "a158e341",
   "metadata": {},
   "outputs": [],
   "source": [
    "ic = ski.io.ImageCollection('m8_050507_*.png')\n",
    "ic = [ski.img_as_float(img) for img in ic]\n",
    "H, B, G, R, L = ic\n",
    "\n",
    "H = ski.exposure.adjust_sigmoid(H, cutoff=0.05, gain=35)\n",
    "L = ski.exposure.adjust_sigmoid(L, cutoff=0.05, gain=15)\n",
    "R = ski.exposure.adjust_gamma(R, 0.1)\n",
    "\n",
    "# Merge R, G, B channels\n",
    "out = np.dstack((H, L, R))\n",
    "out = ski.exposure.adjust_gamma(out, 3)\n",
    "\n",
    "f, ax = plt.subplots(figsize=(10, 10))\n",
    "ax.imshow(out);"
   ]
  },
  {
   "cell_type": "code",
   "execution_count": null,
   "id": "7444d4ab",
   "metadata": {},
   "outputs": [],
   "source": []
  }
 ],
 "metadata": {
  "kernelspec": {
   "display_name": "Python 3.8.3 64-bit ('py38': venv)",
   "language": "python",
   "name": "python38364bitpy38venv20f150ce32684001ab05c8062e826bc6"
  },
  "language_info": {
   "codemirror_mode": {
    "name": "ipython",
    "version": 3
   },
   "file_extension": ".py",
   "mimetype": "text/x-python",
   "name": "python",
   "nbconvert_exporter": "python",
   "pygments_lexer": "ipython3",
   "version": "3.8.12"
  }
 },
 "nbformat": 4,
 "nbformat_minor": 5
}
