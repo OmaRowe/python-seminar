{
 "cells": [
  {
   "cell_type": "code",
   "execution_count": null,
   "id": "613528ac",
   "metadata": {},
   "outputs": [],
   "source": [
    "%matplotlib inline\n",
    "\n",
    "import skimage as ski\n",
    "import matplotlib.pyplot as plt\n",
    "import numpy as np\n",
    "\n",
    "import matplotlib\n",
    "matplotlib.rcParams['image.interpolation'] = 'nearest'\n",
    "matplotlib.rcParams['image.cmap'] = 'gray'\n",
    "matplotlib.rcParams['figure.figsize'] = (10, 7)"
   ]
  },
  {
   "cell_type": "code",
   "execution_count": null,
   "id": "9c068b22",
   "metadata": {},
   "outputs": [],
   "source": [
    "frames = ski.io.ImageCollection('asteroid_*.png')\n",
    "\n",
    "plt.imshow(frames[3]);"
   ]
  },
  {
   "cell_type": "markdown",
   "id": "ec942eeb",
   "metadata": {},
   "source": [
    "There is a moving object in these frames (a single frame shown above)!  Can you find it?\n",
    "\n",
    "We know that the object moves in a straight line; can you fit a line to its trajectory?\n",
    "\n",
    "**Hint:** `frames[0]` is a reference frame and does not contain the object."
   ]
  },
  {
   "cell_type": "code",
   "execution_count": null,
   "id": "204ae006",
   "metadata": {},
   "outputs": [],
   "source": []
  }
 ],
 "metadata": {
  "kernelspec": {
   "display_name": "Python 3.8.3 64-bit ('py38': venv)",
   "language": "python",
   "name": "python38364bitpy38venv20f150ce32684001ab05c8062e826bc6"
  },
  "language_info": {
   "codemirror_mode": {
    "name": "ipython",
    "version": 3
   },
   "file_extension": ".py",
   "mimetype": "text/x-python",
   "name": "python",
   "nbconvert_exporter": "python",
   "pygments_lexer": "ipython3",
   "version": "3.8.12"
  }
 },
 "nbformat": 4,
 "nbformat_minor": 5
}
