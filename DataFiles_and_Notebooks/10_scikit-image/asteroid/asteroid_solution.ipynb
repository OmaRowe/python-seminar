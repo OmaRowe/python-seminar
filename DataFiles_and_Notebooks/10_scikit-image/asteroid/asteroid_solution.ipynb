{
 "cells": [
  {
   "cell_type": "markdown",
   "id": "c78360d2",
   "metadata": {},
   "source": [
    "## Asteroid hunting\n",
    "\n",
    "Consider the hypothetical dataset `asteroid_*.png`. There is a moving object in this frame sequence,\n",
    "and our goal is to find its trajectory."
   ]
  },
  {
   "cell_type": "code",
   "execution_count": null,
   "id": "141ea0cf",
   "metadata": {},
   "outputs": [],
   "source": [
    "%matplotlib inline\n",
    "\n",
    "import skimage as ski\n",
    "import matplotlib.pyplot as plt\n",
    "import numpy as np\n",
    "\n",
    "import matplotlib\n",
    "matplotlib.rcParams['image.interpolation'] = 'nearest'\n",
    "matplotlib.rcParams['image.cmap'] = 'gray'\n",
    "matplotlib.rcParams['figure.figsize'] = (10, 7)"
   ]
  },
  {
   "cell_type": "code",
   "execution_count": null,
   "id": "ca0de84e",
   "metadata": {},
   "outputs": [],
   "source": [
    "frames = ski.io.ImageCollection('asteroid_*.png')"
   ]
  },
  {
   "cell_type": "code",
   "execution_count": null,
   "id": "2435fff7",
   "metadata": {},
   "outputs": [],
   "source": [
    "plt.figure(figsize=(10, 10))\n",
    "plt.imshow(frames[0]);"
   ]
  },
  {
   "cell_type": "code",
   "execution_count": null,
   "id": "af779449",
   "metadata": {},
   "outputs": [],
   "source": [
    "from IPython.display import Image\n",
    "Image('asteroid.gif', width=600)"
   ]
  },
  {
   "cell_type": "code",
   "execution_count": null,
   "id": "22cb2b6c",
   "metadata": {},
   "outputs": [],
   "source": [
    "plt.imshow(frames[3] - frames[0]);"
   ]
  },
  {
   "cell_type": "code",
   "execution_count": null,
   "id": "68c25d69",
   "metadata": {},
   "outputs": [],
   "source": [
    "denoised = [ski.filters.median(x) for x in frames]"
   ]
  },
  {
   "cell_type": "code",
   "execution_count": null,
   "id": "f32d2e38",
   "metadata": {},
   "outputs": [],
   "source": [
    "plt.imshow(denoised[3] - denoised[0]);"
   ]
  },
  {
   "cell_type": "code",
   "execution_count": null,
   "id": "0663a8fd",
   "metadata": {},
   "outputs": [],
   "source": [
    "plt.figure(figsize=(10, 10))\n",
    "plt.imshow(denoised[3] - np.mean(frames));"
   ]
  },
  {
   "cell_type": "markdown",
   "id": "c37ce6ea",
   "metadata": {},
   "source": [
    "Integration over zero mean noise — zero or a constant if you are lucky!"
   ]
  },
  {
   "cell_type": "code",
   "execution_count": null,
   "id": "59cc6f14",
   "metadata": {},
   "outputs": [],
   "source": [
    "delta = denoised[3] - np.mean(frames)"
   ]
  },
  {
   "cell_type": "code",
   "execution_count": null,
   "id": "bd81703b",
   "metadata": {},
   "outputs": [],
   "source": [
    "T = 0.7"
   ]
  },
  {
   "cell_type": "code",
   "execution_count": null,
   "id": "a2c3277d",
   "metadata": {},
   "outputs": [],
   "source": [
    "peaks = ski.feature.peak_local_max(delta, threshold_rel=T)\n",
    "plt.imshow(delta)\n",
    "plt.scatter(peaks[:, 1], peaks[:, 0], marker='x', lw=0.5, color='red');"
   ]
  },
  {
   "cell_type": "code",
   "execution_count": null,
   "id": "28f7018a",
   "metadata": {},
   "outputs": [],
   "source": [
    "all_peaks = []\n",
    "mean_frame = np.mean(frames)\n",
    "for f in denoised[1:]:\n",
    "    delta = f - mean_frame\n",
    "    peaks = ski.feature.peak_local_max(delta, threshold_rel=T)\n",
    "    all_peaks.extend(peaks.tolist())"
   ]
  },
  {
   "cell_type": "code",
   "execution_count": null,
   "id": "700b40c8",
   "metadata": {},
   "outputs": [],
   "source": [
    "all_peaks = np.reshape(all_peaks, (-1, 2))\n",
    "model, inliers = ski.measure.ransac(all_peaks[:, ::-1],\n",
    "                                    ski.measure.LineModelND,\n",
    "                                    min_samples=2,\n",
    "                                    residual_threshold=1)"
   ]
  },
  {
   "cell_type": "code",
   "execution_count": null,
   "id": "3b88d39c",
   "metadata": {},
   "outputs": [],
   "source": [
    "plt.imshow(delta)\n",
    "plt.scatter(all_peaks[:, 1], all_peaks[:, 0], color='r', marker='o');"
   ]
  },
  {
   "cell_type": "markdown",
   "id": "6a0a3a70",
   "metadata": {},
   "source": [
    "Uh oh."
   ]
  },
  {
   "cell_type": "code",
   "execution_count": null,
   "id": "390b2733",
   "metadata": {},
   "outputs": [],
   "source": [
    "plt.imshow(delta)\n",
    "track = all_peaks[inliers]\n",
    "plt.scatter(track[:, 1], track[:, 0], color='r', marker='o')\n",
    "\n",
    "x = np.linspace(0, delta.shape[1], 100)\n",
    "plt.plot(x, model.predict_y(x));"
   ]
  },
  {
   "cell_type": "markdown",
   "id": "bc07d5b7",
   "metadata": {},
   "source": [
    "Unfortunately, this procedure is quite brittle.  Problems include:\n",
    "\n",
    "- False detections leading to false fits\n",
    "- No ability to incorporate time into fit\n",
    "\n",
    "Can you think of ways to improve the process?"
   ]
  }
 ],
 "metadata": {
  "kernelspec": {
   "display_name": "Python 3.8.3 64-bit ('py38': venv)",
   "language": "python",
   "name": "python38364bitpy38venv20f150ce32684001ab05c8062e826bc6"
  },
  "language_info": {
   "codemirror_mode": {
    "name": "ipython",
    "version": 3
   },
   "file_extension": ".py",
   "mimetype": "text/x-python",
   "name": "python",
   "nbconvert_exporter": "python",
   "pygments_lexer": "ipython3",
   "version": "3.8.12"
  }
 },
 "nbformat": 4,
 "nbformat_minor": 5
}
