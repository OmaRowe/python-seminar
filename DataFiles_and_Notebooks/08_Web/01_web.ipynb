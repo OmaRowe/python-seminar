{
 "cells": [
  {
   "cell_type": "code",
   "execution_count": 6,
   "metadata": {},
   "outputs": [
    {
     "data": {
      "text/html": [
       "<style>\n",
       "\n",
       ".rendered_html\n",
       "{\n",
       "  color: #2C5494;\n",
       "  font-family: Ubuntu;\n",
       "  font-size: 140%;\n",
       "  line-height: 1.1;\n",
       "  margin: 0.5em 0;\n",
       "  }\n",
       "\n",
       ".talk_title\n",
       "{\n",
       "  color: #498AF3;\n",
       "  font-size: 250%;\n",
       "  font-weight:bold;\n",
       "  line-height: 1.2; \n",
       "  margin: 10px 50px 10px;\n",
       "  }\n",
       "\n",
       ".subtitle\n",
       "{\n",
       "  color: #386BBC;\n",
       "  font-size: 180%;\n",
       "  font-weight:bold;\n",
       "  line-height: 1.2; \n",
       "  margin: 20px 50px 20px;\n",
       "  }\n",
       "\n",
       ".slide-header, p.slide-header\n",
       "{\n",
       "  color: #498AF3;\n",
       "  font-size: 200%;\n",
       "  font-weight:bold;\n",
       "  margin: 0px 20px 10px;\n",
       "  page-break-before: always;\n",
       "  text-align: center;\n",
       "  }\n",
       "\n",
       ".rendered_html h1\n",
       "{\n",
       "  color: #498AF3;\n",
       "  line-height: 1.2; \n",
       "  margin: 0.15em 0em 0.5em;\n",
       "  page-break-before: always;\n",
       "  text-align: center;\n",
       "  }\n",
       "\n",
       "\n",
       ".rendered_html h2\n",
       "{ \n",
       "  color: #386BBC;\n",
       "  line-height: 1.2;\n",
       "  margin: 1.1em 0em 0.5em;\n",
       "  }\n",
       "\n",
       ".rendered_html h3\n",
       "{ \n",
       "  font-size: 100%;\n",
       "  line-height: 1.2;\n",
       "  margin: 1.1em 0em 0.5em;\n",
       "  }\n",
       "\n",
       ".rendered_html li\n",
       "{\n",
       "  line-height: 1.8;\n",
       "  }\n",
       "\n",
       ".text_cell .input_prompt .CodeMirror-lines .output_area pre\n",
       "{\n",
       "    font-family: \"Ubuntu\";\n",
       "    font-size: 130%;\n",
       "}\n",
       "\n",
       ".gap-above\n",
       "{\n",
       "  padding-top: 200px;\n",
       "  }\n",
       "\n",
       ".gap01\n",
       "{\n",
       "  padding-top: 10px;\n",
       "  }\n",
       "\n",
       ".gap05\n",
       "{\n",
       "  padding-top: 50px;\n",
       "  }\n",
       "\n",
       ".gap1\n",
       "{\n",
       "  padding-top: 100px;\n",
       "  }\n",
       "\n",
       ".gap2\n",
       "{\n",
       "  padding-top: 200px;\n",
       "  }\n",
       "\n",
       ".gap3\n",
       "{\n",
       "  padding-top: 300px;\n",
       "  }\n",
       "\n",
       ".emph\n",
       "{\n",
       "  color: #386BBC;\n",
       "  }\n",
       "\n",
       ".warn\n",
       "{\n",
       "  color: red;\n",
       "  }\n",
       "\n",
       ".center\n",
       "{\n",
       "  text-align: center;\n",
       "  }\n",
       "\n",
       ".nb_link\n",
       "{\n",
       "    padding-bottom: 0.5em;\n",
       "}\n",
       "\n",
       "</style>"
      ],
      "text/plain": [
       "<IPython.core.display.HTML object>"
      ]
     },
     "metadata": {},
     "output_type": "display_data"
    }
   ],
   "source": [
    "%run ../talktools.py"
   ]
  },
  {
   "cell_type": "markdown",
   "metadata": {},
   "source": [
    "<img src=\"imgs/droppedimage.png\">"
   ]
  },
  {
   "cell_type": "markdown",
   "metadata": {},
   "source": [
    " https://www.khanacademy.org/computing/computer-programming/html-css\n",
    " <img src=\"imgs/khan.png\">"
   ]
  },
  {
   "cell_type": "markdown",
   "metadata": {},
   "source": [
    "## Browser stuff\n",
    "\n",
    "<img src=\"imgs/browser.png\">\n",
    "\n",
    "- Python helps generate the (html) content.\n",
    "- In general, you work on CSS and JS separately.\n",
    "- Finally, use Python to serve all of this media to the user."
   ]
  },
  {
   "cell_type": "markdown",
   "metadata": {},
   "source": [
    "\n",
    "`http` is a package that collects several modules for working with the HyperText Transfer Protocol:\n",
    "\n",
    "  - http.client is a low-level HTTP protocol client; for high-level URL opening use urllib.request\n",
    "  - http.server contains basic HTTP server classes based on socketserver\n",
    "  - http.cookies has utilities for implementing state management with cookies\n",
    "  - http.cookiejar provides persistence of cookies"
   ]
  },
  {
   "cell_type": "markdown",
   "metadata": {},
   "source": [
    "## Simple Servers\n",
    "\n",
    "A webserver responds to the HTTP request protocol"
   ]
  },
  {
   "cell_type": "code",
   "execution_count": null,
   "metadata": {},
   "outputs": [],
   "source": [
    "!python3 -m http.server"
   ]
  },
  {
   "cell_type": "code",
   "execution_count": null,
   "metadata": {},
   "outputs": [],
   "source": [
    "%%writefile hello.py\n",
    "\n",
    "from http.server import BaseHTTPRequestHandler, HTTPServer\n",
    "\n",
    "HOST = \"localhost\"\n",
    "PORT = 8083\n",
    "\n",
    "class Simpleserver(BaseHTTPRequestHandler):\n",
    "   \n",
    "    def do_GET(self):\n",
    "        self.send_response(200)\n",
    "        self.send_header(\"Content-type\", \"text/html\")\n",
    "        self.end_headers()\n",
    "        self.wfile.write(bytes(\"<body>Hello!</body>\", \"utf-8\"))\n",
    "\n",
    "myServer = HTTPServer((HOST, PORT), Simpleserver)\n",
    "\n",
    "try:\n",
    "    print(f\"Starting server. Connect via http://{HOST}:{PORT} ...\")\n",
    "    myServer.serve_forever()\n",
    "except KeyboardInterrupt:\n",
    "    pass\n",
    "\n",
    "myServer.server_close()"
   ]
  },
  {
   "cell_type": "code",
   "execution_count": null,
   "metadata": {},
   "outputs": [],
   "source": [
    "%run hello.py"
   ]
  },
  {
   "cell_type": "markdown",
   "metadata": {},
   "source": [
    "**note: HTTPServer is not threaded**"
   ]
  },
  {
   "cell_type": "code",
   "execution_count": null,
   "metadata": {},
   "outputs": [],
   "source": [
    "%%writefile httpd.py\n",
    "import time\n",
    "import http.server\n",
    "\n",
    "HOST_NAME = 'localhost' #\n",
    "PORT_NUMBER = 8092 # Maybe set this to 9000.\n",
    "\n",
    "def s2b(s):\n",
    "    return bytes(s, 'utf-8')\n",
    "\n",
    "class MyHandler(http.server.SimpleHTTPRequestHandler):\n",
    "    def do_HEAD(s):\n",
    "        s.send_response(200)\n",
    "        s.send_header(s2b(\"Content-type\"), s2b(\"text/html\"))\n",
    "        s.end_headers()\n",
    "\n",
    "    def do_GET(s):\n",
    "        \"\"\"Respond to a GET request.\"\"\"\n",
    "        s.send_response(200)\n",
    "        s.send_header(s2b(\"Content-type\"), s2b(\"text/html\"))\n",
    "        s.end_headers()\n",
    "        s.wfile.write(s2b(\"<html><head><title>Title goes here.</title></head>\"))\n",
    "        s.wfile.write(s2b(\"<body><p>This is a <i>test.</i></p>\"))\n",
    "        # If someone went to \"http://something.somewhere.net/foo/bar/\",\n",
    "        # then s.path equals \"/foo/bar/\".\n",
    "        s.wfile.write(s2b(\"<p>You accessed path: %s</p>\" % s.path))\n",
    "        s.wfile.write(s2b(\"</body></html>\"))\n",
    "\n",
    "if __name__ == '__main__':\n",
    "    server_class = http.server.HTTPServer\n",
    "    httpd = server_class((HOST_NAME, PORT_NUMBER), MyHandler)\n",
    "    print(f\"Starting server. Connect via http://{HOST_NAME}:{PORT_NUMBER} ...\")\n",
    "    print(time.asctime()), \"Server Starts - %s:%s\" % (HOST_NAME, PORT_NUMBER)\n",
    "    httpd.serve_forever()\n",
    "    #except KeyboardInterrupt:\n",
    "    #    pass\n",
    "    httpd.server_close()\n",
    "    print(time.asctime()), \"Server Stops - %s:%s\" % (HOST_NAME, PORT_NUMBER)"
   ]
  },
  {
   "cell_type": "code",
   "execution_count": null,
   "metadata": {},
   "outputs": [],
   "source": [
    "%run httpd.py"
   ]
  },
  {
   "cell_type": "markdown",
   "metadata": {},
   "source": [
    "### Cherrypy \n",
    "\n",
    "<img width=\"200\" src=\"https://docs.cherrypy.dev/en/latest/_static/images/cherrypy_logo_big.png\" >\n",
    "\n",
    "http://cherrypy.org/: \"pythonic, object-oriented web framework\"\n",
    "```\n",
    "pip install cherrypy\n",
    "```"
   ]
  },
  {
   "cell_type": "code",
   "execution_count": null,
   "metadata": {},
   "outputs": [],
   "source": [
    "#!pip install cherrypy"
   ]
  },
  {
   "cell_type": "code",
   "execution_count": null,
   "metadata": {},
   "outputs": [],
   "source": [
    "%%writefile cp1.py\n",
    "import cherrypy\n",
    "\n",
    "PORTNUM = 8098\n",
    "\n",
    "class WelcomePage:\n",
    "    def greetUser(self, name = None):\n",
    "        if name:\n",
    "            # Greet the user!\n",
    "            return \"Hey %s, what's up?\" % name\n",
    "        else:\n",
    "            return 'call me like <i>http://localhost:{}/greetUser?name=Josh</i>'.format(PORTNUM)\n",
    "    \n",
    "    greetUser.exposed = True\n",
    "\n",
    "cherrypy.config.update({\"server.socket_port\": PORTNUM})\n",
    "\n",
    "cherrypy.quickstart(WelcomePage())"
   ]
  },
  {
   "cell_type": "code",
   "execution_count": null,
   "metadata": {},
   "outputs": [],
   "source": [
    "%run cp1.py"
   ]
  },
  {
   "cell_type": "code",
   "execution_count": null,
   "metadata": {},
   "outputs": [],
   "source": [
    "%%writefile cp2.py\n",
    "\"\"\"\n",
    "Tutorial - Passing variables\n",
    "\n",
    "This tutorial shows you how to pass GET/POST variables to methods.\n",
    "\"\"\"\n",
    "import os\n",
    "import cherrypy\n",
    "\n",
    "PORTNUM = 8099\n",
    "\n",
    "\n",
    "class WelcomePage:\n",
    "\n",
    "    @cherrypy.expose\n",
    "    def index(self):\n",
    "        # Ask for the user's name.\n",
    "        return '''\n",
    "            <form action=\"greetUser\" method=\"GET\">\n",
    "            What is your name?\n",
    "            <input type=\"text\" name=\"name\" />\n",
    "            What is your favorite color?\n",
    "            <input type=\"text\" name=\"color\" />\n",
    "            <input type=\"submit\" />\n",
    "            </form>'''\n",
    "    \n",
    "    @cherrypy.expose\n",
    "    def greetUser(self, name = None, color = \"blue\"):\n",
    "        # CherryPy passes all GET and POST variables as method parameters.\n",
    "        # It doesn't make a difference where the variables come from, how\n",
    "        # large their contents are, and so on.\n",
    "        #\n",
    "        # You can define default parameter values as usual. In this\n",
    "        # example, the \"name\" parameter defaults to None so we can check\n",
    "        # if a name was actually specified.\n",
    "        \n",
    "        if name:\n",
    "            # Greet the user!\n",
    "            return f\"Hey {name}, what's up?\"\n",
    "        else:\n",
    "            if name is None:\n",
    "                # No name was specified\n",
    "                return 'Please enter your name <a href=\"./\">here</a>.'\n",
    "            else:\n",
    "                return 'No, really, enter your name <a href=\"./\">here</a>.'\n",
    "        \n",
    "    def secret(self):\n",
    "        return \"here's my password: blah!\"\n",
    "\n",
    "if __name__ == '__main__':\n",
    "    # CherryPy always starts with app.root when trying to map request URIs\n",
    "    # to objects, so we need to mount a request handler root. A request\n",
    "    # to '/' will be mapped to HelloWorld().index().\n",
    "    cherrypy.config.update({\"server.socket_port\": PORTNUM})\n",
    "\n",
    "    cherrypy.quickstart(WelcomePage())\n",
    "else:\n",
    "    # This branch is for the test suite; you can ignore it.\n",
    "    cherrypy.tree.mount(WelcomePage())\n"
   ]
  },
  {
   "cell_type": "code",
   "execution_count": 5,
   "metadata": {},
   "outputs": [
    {
     "name": "stderr",
     "output_type": "stream",
     "text": [
      "[01/Apr/2022:00:20:05] ENGINE Keyboard Interrupt: shutting down bus\n",
      "[01/Apr/2022:00:20:05] ENGINE Bus STOPPING\n",
      "[01/Apr/2022:00:20:05] ENGINE HTTP Server cherrypy._cpwsgi_server.CPWSGIServer(('127.0.0.1', 8099)) shut down\n",
      "[01/Apr/2022:00:20:05] ENGINE Stopped thread 'Autoreloader'.\n",
      "[01/Apr/2022:00:20:05] ENGINE Bus STOPPED\n",
      "[01/Apr/2022:00:20:05] ENGINE Bus EXITING\n",
      "[01/Apr/2022:00:20:05] ENGINE Bus EXITED\n",
      "[01/Apr/2022:00:20:05] ENGINE Waiting for child threads to terminate...\n"
     ]
    }
   ],
   "source": [
    "%run cp2.py"
   ]
  },
  {
   "cell_type": "markdown",
   "metadata": {},
   "source": [
    "You can share your running webserver using `ngrok` (https://ngrok.com/)\n",
    "\n",
    "```\n",
    "ngrok http 8099\n",
    "```"
   ]
  },
  {
   "cell_type": "markdown",
   "metadata": {},
   "source": [
    "# Small exercise:\n",
    "\n",
    "modify cp2.py so that it asks the user for their name and their favorite color. Then greet them with that color...\n",
    "\n",
    "hint: `<font color=\"red\">output</font>`\n",
    "\n",
    "<img src=\"imgs/form1.png\">\n",
    "\n",
    "<img src=\"imgs/form2.png\">\n"
   ]
  },
  {
   "cell_type": "markdown",
   "metadata": {
    "collapsed": true
   },
   "source": [
    "Sign up (with your github account) and install ngrok. Get a public URL for your server."
   ]
  },
  {
   "cell_type": "code",
   "execution_count": null,
   "metadata": {},
   "outputs": [],
   "source": []
  }
 ],
 "metadata": {
  "kernelspec": {
   "display_name": "Python 3 (ipykernel)",
   "language": "python",
   "name": "python3"
  },
  "language_info": {
   "codemirror_mode": {
    "name": "ipython",
    "version": 3
   },
   "file_extension": ".py",
   "mimetype": "text/x-python",
   "name": "python",
   "nbconvert_exporter": "python",
   "pygments_lexer": "ipython3",
   "version": "3.9.9"
  },
  "toc": {
   "base_numbering": 1,
   "nav_menu": {},
   "number_sections": true,
   "sideBar": true,
   "skip_h1_title": false,
   "title_cell": "Table of Contents",
   "title_sidebar": "Contents",
   "toc_cell": false,
   "toc_position": {},
   "toc_section_display": true,
   "toc_window_display": false
  },
  "varInspector": {
   "cols": {
    "lenName": 16,
    "lenType": 16,
    "lenVar": 40
   },
   "kernels_config": {
    "python": {
     "delete_cmd_postfix": "",
     "delete_cmd_prefix": "del ",
     "library": "var_list.py",
     "varRefreshCmd": "print(var_dic_list())"
    },
    "r": {
     "delete_cmd_postfix": ") ",
     "delete_cmd_prefix": "rm(",
     "library": "var_list.r",
     "varRefreshCmd": "cat(var_dic_list()) "
    }
   },
   "types_to_exclude": [
    "module",
    "function",
    "builtin_function_or_method",
    "instance",
    "_Feature"
   ],
   "window_display": false
  }
 },
 "nbformat": 4,
 "nbformat_minor": 1
}
