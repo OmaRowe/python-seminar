{
 "cells": [
  {
   "cell_type": "code",
   "execution_count": 4,
   "metadata": {},
   "outputs": [
    {
     "data": {
      "text/html": [
       "<style>\n",
       "\n",
       ".rendered_html\n",
       "{\n",
       "  color: #2C5494;\n",
       "  font-family: Ubuntu;\n",
       "  font-size: 140%;\n",
       "  line-height: 1.1;\n",
       "  margin: 0.5em 0;\n",
       "  }\n",
       "\n",
       ".talk_title\n",
       "{\n",
       "  color: #498AF3;\n",
       "  font-size: 250%;\n",
       "  font-weight:bold;\n",
       "  line-height: 1.2; \n",
       "  margin: 10px 50px 10px;\n",
       "  }\n",
       "\n",
       ".subtitle\n",
       "{\n",
       "  color: #386BBC;\n",
       "  font-size: 180%;\n",
       "  font-weight:bold;\n",
       "  line-height: 1.2; \n",
       "  margin: 20px 50px 20px;\n",
       "  }\n",
       "\n",
       ".slide-header, p.slide-header\n",
       "{\n",
       "  color: #498AF3;\n",
       "  font-size: 200%;\n",
       "  font-weight:bold;\n",
       "  margin: 0px 20px 10px;\n",
       "  page-break-before: always;\n",
       "  text-align: center;\n",
       "  }\n",
       "\n",
       ".rendered_html h1\n",
       "{\n",
       "  color: #498AF3;\n",
       "  line-height: 1.2; \n",
       "  margin: 0.15em 0em 0.5em;\n",
       "  page-break-before: always;\n",
       "  text-align: center;\n",
       "  }\n",
       "\n",
       "\n",
       ".rendered_html h2\n",
       "{ \n",
       "  color: #386BBC;\n",
       "  line-height: 1.2;\n",
       "  margin: 1.1em 0em 0.5em;\n",
       "  }\n",
       "\n",
       ".rendered_html h3\n",
       "{ \n",
       "  font-size: 100%;\n",
       "  line-height: 1.2;\n",
       "  margin: 1.1em 0em 0.5em;\n",
       "  }\n",
       "\n",
       ".rendered_html li\n",
       "{\n",
       "  line-height: 1.8;\n",
       "  }\n",
       "\n",
       ".text_cell .input_prompt .CodeMirror-lines .output_area pre\n",
       "{\n",
       "    font-family: \"Ubuntu\";\n",
       "    font-size: 130%;\n",
       "}\n",
       "\n",
       ".gap-above\n",
       "{\n",
       "  padding-top: 200px;\n",
       "  }\n",
       "\n",
       ".gap01\n",
       "{\n",
       "  padding-top: 10px;\n",
       "  }\n",
       "\n",
       ".gap05\n",
       "{\n",
       "  padding-top: 50px;\n",
       "  }\n",
       "\n",
       ".gap1\n",
       "{\n",
       "  padding-top: 100px;\n",
       "  }\n",
       "\n",
       ".gap2\n",
       "{\n",
       "  padding-top: 200px;\n",
       "  }\n",
       "\n",
       ".gap3\n",
       "{\n",
       "  padding-top: 300px;\n",
       "  }\n",
       "\n",
       ".emph\n",
       "{\n",
       "  color: #386BBC;\n",
       "  }\n",
       "\n",
       ".warn\n",
       "{\n",
       "  color: red;\n",
       "  }\n",
       "\n",
       ".center\n",
       "{\n",
       "  text-align: center;\n",
       "  }\n",
       "\n",
       ".nb_link\n",
       "{\n",
       "    padding-bottom: 0.5em;\n",
       "}\n",
       "\n",
       "</style>"
      ],
      "text/plain": [
       "<IPython.core.display.HTML object>"
      ]
     },
     "metadata": {},
     "output_type": "display_data"
    }
   ],
   "source": [
    "%run ../talktools.py"
   ]
  },
  {
   "cell_type": "markdown",
   "metadata": {},
   "source": [
    "# Decision Trees\n",
    "\n",
    "Classification & Regression Trees (CART)\n",
    "\n",
    "<img src=\"https://littleml.files.wordpress.com/2013/03/iris_dataset_model.jpg\">"
   ]
  },
  {
   "cell_type": "markdown",
   "metadata": {},
   "source": [
    "<img src=\"https://www.evernote.com/l/AUVOiUntlxZHM60VXN8WZWzg83pzEIL-XJwB/image.png\" width=\"50%\">\n",
    "\n",
    "Building Trees Rigorously (Node Splitting Criteria)\n",
    "\n",
    "<img src=\"https://www.evernote.com/l/AUVA6K4mqnhOMoNcy93La3lFe5XOAxgaWrUB/image.png\">"
   ]
  },
  {
   "cell_type": "markdown",
   "metadata": {},
   "source": [
    "# Collections of Trees (\"Decision Forests\", \"Random Forests\")\n",
    "\n",
    "<img src=\"https://contentmamluswest001.blob.core.windows.net/content/14b2744cf8d6418c87ffddc3f3127242/9502630827244d60a1214f250e3bbca7/b729c21014a34955b20fa94dc13390e5/image\">"
   ]
  },
  {
   "cell_type": "markdown",
   "metadata": {},
   "source": [
    "### Classifying NIST Handwritten Digits\n",
    "\n",
    "We will try to classify handwritten digits (0-9) from their raw pixelated images.\n",
    "\n",
    "Each image is 8 $\\times$ 8 pixels.  We will not do any feature extraction and instead classify based on the intensity values for each pixel."
   ]
  },
  {
   "cell_type": "code",
   "execution_count": 5,
   "metadata": {},
   "outputs": [
    {
     "data": {
      "image/png": "[encoded data removed]",
      "text/plain": [
       "<Figure size 1152x432 with 10 Axes>"
      ]
     },
     "metadata": {},
     "output_type": "display_data"
    }
   ],
   "source": [
    "%matplotlib inline\n",
    "import matplotlib.pyplot as plt\n",
    "import numpy as np\n",
    "from sklearn import datasets, metrics\n",
    "# import NIST digits data set (1797 8x8 images)\n",
    "digits = datasets.load_digits()\n",
    "\n",
    "f,axs = plt.subplots(1,10,figsize=(16, 6))\n",
    "objarr = np.empty_like(axs)\n",
    "for n, ax in enumerate(axs.flat):\n",
    "    objarr.flat[n] = ax.imshow(digits['images'][n], cmap='gray', interpolation='nearest')\n",
    "    ax.get_xaxis().set_ticks([])\n",
    "    ax.get_yaxis().set_ticks([])"
   ]
  },
  {
   "cell_type": "markdown",
   "metadata": {},
   "source": [
    "$\\textbf{Now we split the data into a training and testing set.}$\n",
    "\n",
    "$\\textbf{We will only fit the classifier on the training set and use the testing set to evaluate performance.}$"
   ]
  },
  {
   "cell_type": "code",
   "execution_count": 6,
   "metadata": {},
   "outputs": [
    {
     "name": "stdout",
     "output_type": "stream",
     "text": [
      "training size: 500\n",
      "testing size: 1297\n"
     ]
    }
   ],
   "source": [
    "# take the first 500 as training\n",
    "train = 500\n",
    "Xtr = digits['data'][:train]\n",
    "Ytr = digits['target'][:train]\n",
    "print(\"training size: \" + str(len(Ytr)))\n",
    "\n",
    "# testing set\n",
    "Xte = digits['data'][train:]\n",
    "Yte = digits['target'][train:]\n",
    "print(\"testing size: \" + str(len(Yte)))"
   ]
  },
  {
   "cell_type": "markdown",
   "metadata": {},
   "source": [
    "### Fit a Random Forest Classifier"
   ]
  },
  {
   "cell_type": "code",
   "execution_count": 7,
   "metadata": {},
   "outputs": [
    {
     "name": "stdout",
     "output_type": "stream",
     "text": [
      "True Class / Predicted class\n",
      "[[8 2 2 5 7 9 5 4 8 8]\n",
      " [8 2 2 5 7 9 5 4 8 8]]\n"
     ]
    }
   ],
   "source": [
    "# Create a classifier: \n",
    "from sklearn.ensemble import RandomForestClassifier\n",
    "\n",
    "# instantiate classifier object\n",
    "classifier = RandomForestClassifier(n_estimators=50)\n",
    "\n",
    "# fit the classification model on training set\n",
    "classifier.fit(Xtr, Ytr)\n",
    "\n",
    "# make predictions for testing set\n",
    "pred_rf = classifier.predict(Xte) \n",
    "\n",
    "print(\"True Class / Predicted class\")\n",
    "print(np.vstack((Yte[0:10],pred_rf[0:10])))"
   ]
  },
  {
   "cell_type": "markdown",
   "metadata": {},
   "source": [
    "http://cs.stanford.edu/people/karpathy/svmjs/demo/demoforest.html"
   ]
  },
  {
   "cell_type": "markdown",
   "metadata": {},
   "source": [
    "## Error Estimation\n",
    "\n",
    "Q: What evaluation metrics are available?\n",
    "\n",
    "<b>Loss Functions</b>\n",
    "\n",
    "- `metrics.zero_one(y_true, y_pred)`\n",
    "Zero-One classification loss\n",
    "- `metrics.hinge_loss(y_true, pred_decision[, ...])`\n",
    "Cumulated hinge loss (non-regularized).\n",
    "- `metrics.mean_square_error(y_true, y_pred)`\n",
    "Mean square error regression loss\n",
    "\n",
    "<b>Score Functions</b>\n",
    "\n",
    "- `metrics.zero_one_loss(y_true, y_pred)`\n",
    "Zero-One classification score\n",
    "- `metrics.auc(x, y)`\n",
    "Compute Area Under the Curve (AUC)\n",
    "- `metrics.precision_score(y_true, y_pred[, ...])`\n",
    "Compute the precision\n",
    "- `metrics.recall_score(y_true, y_pred[, pos_label])`\n",
    "Compute the recall\n",
    "- `metrics.fbeta_score(y_true, y_pred, beta[, ...])`\n",
    "Compute fbeta score\n",
    "- `metrics.f1_score(y_true, y_pred[, pos_label])`\n",
    "Compute f1 score\n",
    "\n",
    "<b>Evaluation Plots</b>\n",
    "- `metrics.confusion_matrix(y_true, y_pred[, ...])` Compute confusion matrix to evaluate the accuracy of a classification\n",
    "- `metrics.roc_curve(y_true, y_score)` Compute Receiver operating characteristic (ROC)\n",
    "- `metrics.precision_recall_curve(y_true, ...)` Compute precision-recall pairs for different probability thresholds"
   ]
  },
  {
   "cell_type": "code",
   "execution_count": 8,
   "metadata": {},
   "outputs": [
    {
     "name": "stdout",
     "output_type": "stream",
     "text": [
      "Zero-One Loss: 0.10177332305319964\n",
      "Zero-One Score: 0.8982266769468004\n",
      "Confusion Matrix:\n",
      "[i, j] is the # of objects truly in group i but predicted to be in group j\n",
      "[[126   0   0   0   1   0   0   0   0   0]\n",
      " [  0 114   9   1   1   0   1   0   4   0]\n",
      " [  1   0 115   8   0   0   0   1   0   2]\n",
      " [  0   0   3 105   0   3   0   1  11   7]\n",
      " [  1   0   0   0 121   0   2   4   0   4]\n",
      " [  3   0   0   0   3 108   2   0   0  16]\n",
      " [  1   0   0   0   0   0 128   0   0   1]\n",
      " [  0   0   0   0   0   0   0 128   1   0]\n",
      " [  0   7   6   1   0   2   1   3 106   2]\n",
      " [  0  12   0   1   0   3   0   0   2 114]]\n"
     ]
    }
   ],
   "source": [
    "# compute zero-one loss / score & confusion matrix\n",
    "from sklearn import metrics\n",
    "\n",
    "rf_01 = metrics.zero_one_loss(Yte, pred_rf) # zero-one loss\n",
    "rf_01_score = metrics.accuracy_score(Yte, pred_rf) # zero-one score\n",
    "rf_confmat = metrics.confusion_matrix(Yte, pred_rf) # conf mat\n",
    "\n",
    "print(\"Zero-One Loss: \" + str(rf_01))\n",
    "print(\"Zero-One Score: \" + str(rf_01_score))\n",
    "print(\"Confusion Matrix:\")\n",
    "print(\"[i, j] is the # of objects truly in group i but predicted to be in group j\")\n",
    "print(rf_confmat)"
   ]
  },
  {
   "cell_type": "code",
   "execution_count": 9,
   "metadata": {},
   "outputs": [
    {
     "data": {
      "image/png": "[encoded data removed]",
      "text/plain": [
       "<Figure size 432x288 with 2 Axes>"
      ]
     },
     "metadata": {
      "needs_background": "light"
     },
     "output_type": "display_data"
    }
   ],
   "source": [
    "import seaborn as sns\n",
    "sns.heatmap(rf_confmat, annot=True,  fmt='', \n",
    "            xticklabels=[str(x) for x in range(10)], yticklabels=[str(x) for x in range(10)]);"
   ]
  },
  {
   "cell_type": "code",
   "execution_count": 10,
   "metadata": {},
   "outputs": [
    {
     "data": {
      "image/png": "[encoded data removed]",
      "text/plain": [
       "<Figure size 504x504 with 9 Axes>"
      ]
     },
     "metadata": {
      "needs_background": "light"
     },
     "output_type": "display_data"
    }
   ],
   "source": [
    "# plot some digits that we get wrong\n",
    "wrong = np.where(pred_rf != Yte)[0][:9]\n",
    "\n",
    "f,axs = plt.subplots(3,3,figsize=(7, 7))\n",
    "objarr = np.empty_like(axs)\n",
    "\n",
    "for n, ax in enumerate(axs.flat):\n",
    "    objarr.flat[n] = ax.imshow(np.reshape(Xte[wrong[n]],(8,8)).astype(int),\n",
    "                              cmap='gray_r', interpolation='nearest')\n",
    "    ax.grid(False)\n",
    "    ax.xaxis.set_visible(False)\n",
    "    ax.yaxis.set_visible(False)\n",
    "    ax.set_title(\"True = \" + str(int(Yte[wrong[n]])) +\". Pred = \" + str(int(pred_rf[wrong[n]])))"
   ]
  },
  {
   "cell_type": "code",
   "execution_count": 11,
   "metadata": {},
   "outputs": [
    {
     "name": "stdout",
     "output_type": "stream",
     "text": [
      "Avg. Precision:  0.899761946355004\n",
      "Avg. Recall:  0.8982266769468004\n"
     ]
    }
   ],
   "source": [
    "# compute precision and recall\n",
    "# Note: precision & recall are for 2-class; multi-class returns weighted avg. prec/recall\n",
    "\n",
    "rf_precision = metrics.precision_score(Yte, pred_rf,average=\"weighted\") # TP / (TP + FP)\n",
    "rf_recall = metrics.recall_score(Yte, pred_rf,average=\"weighted\") # TP / (TP + FN)\n",
    "\n",
    "print(\"Avg. Precision: \",rf_precision)\n",
    "print(\"Avg. Recall: \", rf_recall)"
   ]
  },
  {
   "cell_type": "code",
   "execution_count": 12,
   "metadata": {},
   "outputs": [
    {
     "name": "stdout",
     "output_type": "stream",
     "text": [
      "AUC for digit=1: 0.9905082064465098\n"
     ]
    },
    {
     "data": {
      "image/png": "[encoded data removed]",
      "text/plain": [
       "<Figure size 360x360 with 1 Axes>"
      ]
     },
     "metadata": {
      "needs_background": "light"
     },
     "output_type": "display_data"
    }
   ],
   "source": [
    "#  ROC curve, AUC for RF classifier using digit = 1\n",
    "digit = 1\n",
    "Yte_1 = list(map(lambda x: x == digit and 1. or 0.,Yte)) # does Y = digit\n",
    "\n",
    "pred_rf_prob = classifier.predict_proba(Xte) \n",
    "\n",
    "pred_rf_prob_1 = pred_rf_prob[:,digit]\n",
    "fpr, tpr, thresholds = metrics.roc_curve(Yte_1, pred_rf_prob_1)\n",
    "\n",
    "f, ax = plt.subplots(1,1,figsize=(5, 5))\n",
    "ax.plot(fpr,tpr,'b-',linewidth=3)\n",
    "ax.set_xlim([0.,0.3])\n",
    "ax.set_ylim([0.6,1.0005])\n",
    "ax.set_xlabel(\"False Positive Rate\",size=15)\n",
    "ax.set_ylabel(\"True Positive Rate\",size=15)\n",
    "ax.set_title(\"ROC Curve for NIST digit={} RF Classifier\".format(digit),size=22)\n",
    "print(\"AUC for digit={}: \".format(digit) + str(metrics.auc(fpr,tpr)))"
   ]
  },
  {
   "cell_type": "markdown",
   "metadata": {},
   "source": [
    "$\\textbf{Tuning the Classifier}$  \n",
    "======================================================\n",
    "\n",
    "For now we have used an RF classifier with the choice of `n_estimators` and the default parameters.\n",
    "\n",
    "Q: How do I choose which model and (hyper) parameters to use?\n",
    "\n",
    " - KNN with what # of neighbors?\n",
    " - SVM which what kernel & bandwidth?\n",
    " - RF with how many estimators and which max_features?\n",
    " - GP with what kernel & bandwidth?\n",
    " \n",
    "**Solution: use `grid_search.GridSearchCV`**:\n",
    "`grid_search.GridSearchCV(estimator, param_grid, loss_func, n_jobs, cv=None)`\n",
    "\n",
    "Computes cv-fold cross-validated loss_func (or score_func) of estimator over a param_grid on n_jobs cores, and returns the best model!\n",
    "\n",
    "Let's see how we can rigorously find the optimal model using cross-validation and grid search."
   ]
  },
  {
   "cell_type": "code",
   "execution_count": 13,
   "metadata": {},
   "outputs": [
    {
     "name": "stdout",
     "output_type": "stream",
     "text": [
      "Fitting 5 folds for each of 18 candidates, totalling 90 fits\n",
      "Best zero-one score: 0.9339999999999999\n",
      "\n",
      "Optimal Model:\n",
      "RandomForestClassifier()\n"
     ]
    }
   ],
   "source": [
    "# Find the best Random Forest classifier\n",
    "\n",
    "from sklearn import model_selection\n",
    "from sklearn.ensemble import RandomForestClassifier\n",
    "\n",
    "import logging\n",
    "logging.basicConfig(level=logging.INFO,\n",
    "                    format='%(asctime)s %(levelname)s %(message)s')\n",
    "\n",
    "\n",
    "# explore 3 different forest sizes and 3 choices of mtry\n",
    "parameters = {'n_estimators':[20,50,100],  'max_features':[8,10,'auto'], \n",
    "             'criterion': ['gini','entropy']}\n",
    "rf_tune = model_selection.GridSearchCV(RandomForestClassifier(), parameters, \n",
    "                                   n_jobs = -1, cv = 5,verbose=1)\n",
    "rf_opt = rf_tune.fit(Xtr, Ytr)\n",
    "\n",
    "print(\"Best zero-one score: \" + str(rf_opt.best_score_) + \"\\n\")\n",
    "print(\"Optimal Model:\\n\" + str(rf_opt.best_estimator_))"
   ]
  },
  {
   "cell_type": "code",
   "execution_count": 14,
   "metadata": {},
   "outputs": [
    {
     "data": {
      "text/plain": [
       "{'criterion': 'gini', 'max_features': 'auto', 'n_estimators': 100}"
      ]
     },
     "execution_count": 14,
     "metadata": {},
     "output_type": "execute_result"
    }
   ],
   "source": [
    "rf_opt.best_params_"
   ]
  },
  {
   "cell_type": "markdown",
   "metadata": {},
   "source": [
    "## Breakout 2\n",
    "\n",
    "Breakout\n",
    "Classify the famous Iris data, first used by R.A Fisher. \n",
    "To load in the data and split into training / testing sets:\n",
    "\n",
    "1. Choose your favorite classification model.  \n",
    "2. Find the parameters that minimize the 3-fold cross-validation misclassification rate over the training set.  \n",
    "3. Apply this optimized model to predict the class of each object in the held-out set.  \n",
    "\n",
    "a) What is your best 3-fold CV 0-1 score?\n",
    "\n",
    "b) What is your 0-1 score when applying it to testing set? "
   ]
  },
  {
   "cell_type": "code",
   "execution_count": 15,
   "metadata": {},
   "outputs": [
    {
     "name": "stdout",
     "output_type": "stream",
     "text": [
      "(8, 8)\n"
     ]
    }
   ],
   "source": [
    "%matplotlib inline\n",
    "feature_importances = rf_opt.best_estimator_.feature_importances_\n",
    "feature_importances = feature_importances.reshape(8,8)\n",
    "print(feature_importances.shape)"
   ]
  },
  {
   "cell_type": "code",
   "execution_count": 16,
   "metadata": {},
   "outputs": [
    {
     "data": {
      "text/plain": [
       "<AxesSubplot:>"
      ]
     },
     "execution_count": 16,
     "metadata": {},
     "output_type": "execute_result"
    },
    {
     "data": {
      "image/png": "[encoded data removed]",
      "text/plain": [
       "<Figure size 432x288 with 2 Axes>"
      ]
     },
     "metadata": {
      "needs_background": "light"
     },
     "output_type": "display_data"
    }
   ],
   "source": [
    "sns.heatmap(feature_importances, cmap=plt.cm.viridis)"
   ]
  },
  {
   "cell_type": "code",
   "execution_count": 17,
   "metadata": {},
   "outputs": [
    {
     "data": {
      "text/plain": [
       "RFE(estimator=RandomForestClassifier(), n_features_to_select=1)"
      ]
     },
     "execution_count": 17,
     "metadata": {},
     "output_type": "execute_result"
    }
   ],
   "source": [
    "from sklearn.feature_selection import RFE\n",
    "from sklearn.ensemble import RandomForestClassifier\n",
    "from sklearn import datasets\n",
    "\n",
    "digits = datasets.load_digits()\n",
    "X = digits['data']\n",
    "Y = digits['target']\n",
    "\n",
    "clf = RandomForestClassifier()\n",
    "rfe = RFE(estimator=clf, n_features_to_select=1, step=1)\n",
    "rfe.fit(X, Y)"
   ]
  },
  {
   "cell_type": "code",
   "execution_count": 18,
   "metadata": {},
   "outputs": [
    {
     "data": {
      "text/plain": [
       "<AxesSubplot:>"
      ]
     },
     "execution_count": 18,
     "metadata": {},
     "output_type": "execute_result"
    },
    {
     "data": {
      "image/png": "[encoded data removed]",
      "text/plain": [
       "<Figure size 432x288 with 2 Axes>"
      ]
     },
     "metadata": {
      "needs_background": "light"
     },
     "output_type": "display_data"
    }
   ],
   "source": [
    "%matplotlib inline\n",
    "import matplotlib.pyplot as plt\n",
    "import seaborn as sns \n",
    "\n",
    "ranking = rfe.ranking_.reshape(digits.images[0].shape)\n",
    "sns.heatmap(ranking, cmap=plt.cm.viridis_r)"
   ]
  },
  {
   "cell_type": "markdown",
   "metadata": {},
   "source": []
  }
 ],
 "metadata": {
  "kernelspec": {
   "display_name": "Python 3 (ipykernel)",
   "language": "python",
   "name": "python3"
  },
  "language_info": {
   "codemirror_mode": {
    "name": "ipython",
    "version": 3
   },
   "file_extension": ".py",
   "mimetype": "text/x-python",
   "name": "python",
   "nbconvert_exporter": "python",
   "pygments_lexer": "ipython3",
   "version": "3.9.9"
  },
  "toc": {
   "base_numbering": 1,
   "nav_menu": {},
   "number_sections": true,
   "sideBar": true,
   "skip_h1_title": false,
   "title_cell": "Table of Contents",
   "title_sidebar": "Contents",
   "toc_cell": false,
   "toc_position": {},
   "toc_section_display": true,
   "toc_window_display": false
  },
  "varInspector": {
   "cols": {
    "lenName": 16,
    "lenType": 16,
    "lenVar": 40
   },
   "kernels_config": {
    "python": {
     "delete_cmd_postfix": "",
     "delete_cmd_prefix": "del ",
     "library": "var_list.py",
     "varRefreshCmd": "print(var_dic_list())"
    },
    "r": {
     "delete_cmd_postfix": ") ",
     "delete_cmd_prefix": "rm(",
     "library": "var_list.r",
     "varRefreshCmd": "cat(var_dic_list()) "
    }
   },
   "types_to_exclude": [
    "module",
    "function",
    "builtin_function_or_method",
    "instance",
    "_Feature"
   ],
   "window_display": false
  }
 },
 "nbformat": 4,
 "nbformat_minor": 4
}
