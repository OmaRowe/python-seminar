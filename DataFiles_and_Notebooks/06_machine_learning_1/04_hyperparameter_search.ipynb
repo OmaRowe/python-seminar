{
 "cells": [
  {
   "cell_type": "markdown",
   "id": "reliable-protein",
   "metadata": {},
   "source": [
    "## Hyperparameter optimization\n",
    "\n",
    "<src img=\"https://docs.microsoft.com/en-us/azure/machine-learning/media/concept-automated-ml/automl-concept-diagram2.png\">\n",
    "    \n",
    "```bash\n",
    "brew install swig # mac\n",
    "pip install -U auto-sklearn\n",
    "```\n",
    "or\n",
    "\n",
    "```bash\n",
    "conda install auto-sklearn\n",
    "```\n",
    "\n",
    "https://automl.github.io/auto-sklearn/master/index.html#example"
   ]
  },
  {
   "cell_type": "code",
   "execution_count": null,
   "id": "consistent-influence",
   "metadata": {},
   "outputs": [],
   "source": [
    "import sklearn.datasets\n",
    "import autosklearn.classification\n",
    "X, y = sklearn.datasets.load_digits(return_X_y=True)\n",
    "automl = autosklearn.classification.AutoSklearnClassifier(memory_limit=None, \n",
    "    max_models_on_disc=None,)\n",
    "automl.fit(X, y, dataset_name='digits')"
   ]
  },
  {
   "cell_type": "code",
   "execution_count": null,
   "id": "worse-decade",
   "metadata": {},
   "outputs": [],
   "source": [
    "# https://towardsdatascience.com/exploring-auto-sklearn-models-with-pipelineprofiler-5b2c54136044\n",
    "!pip install PiplineProfiler"
   ]
  },
  {
   "cell_type": "code",
   "execution_count": null,
   "id": "explicit-humanity",
   "metadata": {},
   "outputs": [],
   "source": [
    "import PipelineProfiler\n",
    "profiler_data = PipelineProfiler.import_autosklearn(automl)\n",
    "PipelineProfiler.plot_pipeline_matrix(profiler_data)"
   ]
  }
 ],
 "metadata": {
  "kernelspec": {
   "display_name": "py3.9 AY250",
   "language": "python",
   "name": "ay250"
  },
  "language_info": {
   "codemirror_mode": {
    "name": "ipython",
    "version": 3
   },
   "file_extension": ".py",
   "mimetype": "text/x-python",
   "name": "python",
   "nbconvert_exporter": "python",
   "pygments_lexer": "ipython3",
   "version": "3.9.9"
  },
  "toc": {
   "base_numbering": 1,
   "nav_menu": {},
   "number_sections": true,
   "sideBar": true,
   "skip_h1_title": false,
   "title_cell": "Table of Contents",
   "title_sidebar": "Contents",
   "toc_cell": false,
   "toc_position": {},
   "toc_section_display": true,
   "toc_window_display": false
  },
  "varInspector": {
   "cols": {
    "lenName": 16,
    "lenType": 16,
    "lenVar": 40
   },
   "kernels_config": {
    "python": {
     "delete_cmd_postfix": "",
     "delete_cmd_prefix": "del ",
     "library": "var_list.py",
     "varRefreshCmd": "print(var_dic_list())"
    },
    "r": {
     "delete_cmd_postfix": ") ",
     "delete_cmd_prefix": "rm(",
     "library": "var_list.r",
     "varRefreshCmd": "cat(var_dic_list()) "
    }
   },
   "types_to_exclude": [
    "module",
    "function",
    "builtin_function_or_method",
    "instance",
    "_Feature"
   ],
   "window_display": false
  }
 },
 "nbformat": 4,
 "nbformat_minor": 5
}
