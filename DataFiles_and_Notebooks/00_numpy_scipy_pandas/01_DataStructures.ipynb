{
 "cells": [
  {
   "cell_type": "code",
   "execution_count": 2,
   "id": "701fe6d9",
   "metadata": {},
   "outputs": [
    {
     "data": {
      "text/html": [
       "<style>\n",
       "\n",
       ".rendered_html\n",
       "{\n",
       "  color: #2C5494;\n",
       "  font-family: Ubuntu;\n",
       "  font-size: 140%;\n",
       "  line-height: 1.1;\n",
       "  margin: 0.5em 0;\n",
       "  }\n",
       "\n",
       ".talk_title\n",
       "{\n",
       "  color: #498AF3;\n",
       "  font-size: 250%;\n",
       "  font-weight:bold;\n",
       "  line-height: 1.2; \n",
       "  margin: 10px 50px 10px;\n",
       "  }\n",
       "\n",
       ".subtitle\n",
       "{\n",
       "  color: #386BBC;\n",
       "  font-size: 180%;\n",
       "  font-weight:bold;\n",
       "  line-height: 1.2; \n",
       "  margin: 20px 50px 20px;\n",
       "  }\n",
       "\n",
       ".slide-header, p.slide-header\n",
       "{\n",
       "  color: #498AF3;\n",
       "  font-size: 200%;\n",
       "  font-weight:bold;\n",
       "  margin: 0px 20px 10px;\n",
       "  page-break-before: always;\n",
       "  text-align: center;\n",
       "  }\n",
       "\n",
       ".rendered_html h1\n",
       "{\n",
       "  color: #498AF3;\n",
       "  line-height: 1.2; \n",
       "  margin: 0.15em 0em 0.5em;\n",
       "  page-break-before: always;\n",
       "  text-align: center;\n",
       "  }\n",
       "\n",
       "\n",
       ".rendered_html h2\n",
       "{ \n",
       "  color: #386BBC;\n",
       "  line-height: 1.2;\n",
       "  margin: 1.1em 0em 0.5em;\n",
       "  }\n",
       "\n",
       ".rendered_html h3\n",
       "{ \n",
       "  font-size: 100%;\n",
       "  line-height: 1.2;\n",
       "  margin: 1.1em 0em 0.5em;\n",
       "  }\n",
       "\n",
       ".rendered_html li\n",
       "{\n",
       "  line-height: 1.8;\n",
       "  }\n",
       "\n",
       ".input_prompt, .CodeMirror-lines, .output_area\n",
       "{\n",
       "  font-family: Consolas;\n",
       "  font-size: 120%;\n",
       "  }\n",
       "\n",
       ".gap-above\n",
       "{\n",
       "  padding-top: 200px;\n",
       "  }\n",
       "\n",
       ".gap01\n",
       "{\n",
       "  padding-top: 10px;\n",
       "  }\n",
       "\n",
       ".gap05\n",
       "{\n",
       "  padding-top: 50px;\n",
       "  }\n",
       "\n",
       ".gap1\n",
       "{\n",
       "  padding-top: 100px;\n",
       "  }\n",
       "\n",
       ".gap2\n",
       "{\n",
       "  padding-top: 200px;\n",
       "  }\n",
       "\n",
       ".gap3\n",
       "{\n",
       "  padding-top: 300px;\n",
       "  }\n",
       "\n",
       ".emph\n",
       "{\n",
       "  color: #386BBC;\n",
       "  }\n",
       "\n",
       ".warn\n",
       "{\n",
       "  color: red;\n",
       "  }\n",
       "\n",
       ".center\n",
       "{\n",
       "  text-align: center;\n",
       "  }\n",
       "\n",
       ".nb_link\n",
       "{\n",
       "    padding-bottom: 0.5em;\n",
       "}\n",
       "\n",
       "</style>"
      ],
      "text/plain": [
       "<IPython.core.display.HTML object>"
      ]
     },
     "metadata": {},
     "output_type": "display_data"
    }
   ],
   "source": [
    "%run ../talktools.py"
   ]
  },
  {
   "cell_type": "markdown",
   "id": "e7a74624",
   "metadata": {},
   "source": [
    "# Data Structures/Manipulation in Pure Python\n",
    "\n",
    "Before we get into the use of 3rd-party tooling for data, let's quickly look at some useful data structures in the language itself."
   ]
  },
  {
   "cell_type": "markdown",
   "id": "aff72f2f",
   "metadata": {},
   "source": [
    "### Variables\n",
    "\n",
    "Duck-types variables are extremely useful in Python programming but mutability is not preferred for data containers:"
   ]
  },
  {
   "cell_type": "code",
   "execution_count": null,
   "id": "ee663d40",
   "metadata": {},
   "outputs": [],
   "source": [
    "var = 'a'\n",
    "var = [1, 2, \"oski\"]\n",
    "def var(x): \n",
    "    return x*2"
   ]
  },
  {
   "cell_type": "code",
   "execution_count": null,
   "id": "80d72f55",
   "metadata": {},
   "outputs": [],
   "source": [
    "var(\"yo\")  # is this really whay we want?"
   ]
  },
  {
   "cell_type": "markdown",
   "id": "c9215854",
   "metadata": {},
   "source": [
    "### Tuples (and Lists)\n",
    "\n",
    "Tuples are the most basic immutable data stores:"
   ]
  },
  {
   "cell_type": "code",
   "execution_count": null,
   "id": "d635f7ff",
   "metadata": {},
   "outputs": [],
   "source": [
    "tup = (1, 2, \"oski\")\n",
    "tup[2]"
   ]
  },
  {
   "cell_type": "code",
   "execution_count": null,
   "id": "da1f03f3",
   "metadata": {},
   "outputs": [],
   "source": [
    "tup[2] = \"bear\""
   ]
  },
  {
   "cell_type": "code",
   "execution_count": null,
   "id": "7cda9928",
   "metadata": {},
   "outputs": [],
   "source": [
    "not_tup = [1, 2, \"oski\"]\n",
    "not_tup[2] = \"bear\"\n",
    "not_tup"
   ]
  },
  {
   "cell_type": "code",
   "execution_count": null,
   "id": "7d6c281c",
   "metadata": {},
   "outputs": [],
   "source": [
    "import math\n",
    "\n",
    "\n",
    "def print_list_plus_one(inlist):\n",
    "    for i in range(len(inlist)):\n",
    "        inlist[i] += 1\n",
    "    print(f\"inlist plus one is {inlist}\")\n",
    "\n",
    "\n",
    "mylist = [-1,  math.pi]\n",
    "print_list_plus_one(mylist)"
   ]
  },
  {
   "cell_type": "code",
   "execution_count": null,
   "id": "d80acff9",
   "metadata": {},
   "outputs": [],
   "source": [
    "mylist  # Python passes references to Objects"
   ]
  },
  {
   "cell_type": "code",
   "execution_count": null,
   "id": "77e20bbf",
   "metadata": {},
   "outputs": [],
   "source": [
    "mytup = (-1,  math.pi)\n",
    "print_list_plus_one(mytup)"
   ]
  },
  {
   "cell_type": "markdown",
   "id": "d50d9ada",
   "metadata": {},
   "source": [
    "This is probably the sort of errors you WANT to throw when dealing with datasets. What's a better way to accomplish the goal of the function?"
   ]
  },
  {
   "cell_type": "code",
   "execution_count": null,
   "id": "0b852f6c",
   "metadata": {},
   "outputs": [],
   "source": [
    "def print_list_plus_one(inlist):\n",
    "    print(f\"inlist plus one is {[x + 1 for x in inlist]}\")\n",
    "\n",
    "\n",
    "mylist = [-1,  math.pi]\n",
    "print_list_plus_one(mylist)"
   ]
  },
  {
   "cell_type": "code",
   "execution_count": null,
   "id": "d5f79a29",
   "metadata": {},
   "outputs": [],
   "source": [
    "mylist"
   ]
  },
  {
   "cell_type": "markdown",
   "id": "6097bc75",
   "metadata": {},
   "source": [
    "<div class=\"alert alert-success\">\n",
    "Of course when constructing a function (or method, inside classes) that we and others are going to use a lot, we should do careful type checking and provide documentation (and write unit tests!)\n",
    " </div>"
   ]
  },
  {
   "cell_type": "code",
   "execution_count": null,
   "id": "6861bcac",
   "metadata": {},
   "outputs": [],
   "source": [
    "import numbers  # built-in abstraction numerical types https://docs.python.org/3/library/numbers.html\n",
    "\n",
    "\n",
    "def print_list_or_tuple_plus_one(initer):\n",
    "    \"\"\"\n",
    "   Takes as input any list or tuple and, if it can, adds one to each\n",
    "   element and prints out the result\n",
    "\n",
    "   Parameters\n",
    "    ----------\n",
    "    initer : list or tuple\n",
    "               A list or a tuple with zero or more elements\n",
    "\n",
    "\n",
    "    Returns\n",
    "    -------\n",
    "    None\n",
    "\n",
    "    \"\"\"\n",
    "    if not isinstance(initer, (list, tuple)):\n",
    "        raise TypeError(\n",
    "            f\"Must provide a list or a tuple. Instead you provided {type(initer)}\")\n",
    "\n",
    "    test_elementwise_is_number = [\n",
    "        isinstance(x, numbers.Number) for x in initer]\n",
    "    if all(test_elementwise_is_number):\n",
    "        print(f\"inlist plus one is {[x + 1 for x in initer]}\")\n",
    "    else:\n",
    "        first_bad_index = test_elementwise_is_number.index(False)\n",
    "        raise TypeError(\n",
    "            \"Not all elements can have the value of 1 added to them. \"\n",
    "            f\"For example, initer[{first_bad_index}]={initer[first_bad_index]} (type={type(initer[first_bad_index])})\"\n",
    "        )"
   ]
  },
  {
   "cell_type": "code",
   "execution_count": null,
   "id": "50b2f302",
   "metadata": {},
   "outputs": [],
   "source": [
    "print_list_or_tuple_plus_one([-1,  math.pi])\n",
    "print_list_or_tuple_plus_one([-1,  math.pi, \"oski\"])"
   ]
  },
  {
   "cell_type": "markdown",
   "id": "71845a0c",
   "metadata": {},
   "source": [
    "<div class=\"alert alert-warning\">\n",
    "When passing data around your codebase, it's a good idea to insure that the original data cannot be manipulated by downstream processes.\n",
    "</div>\n"
   ]
  },
  {
   "cell_type": "markdown",
   "id": "503a2be6",
   "metadata": {},
   "source": [
    "### Dictionaries \n",
    "\n",
    "Dictionaries provide fast (hashed) access as a key, value store not just for numbers and lists but for any Python object (we'll dictionaries a lot):"
   ]
  },
  {
   "cell_type": "code",
   "execution_count": null,
   "id": "a608b63d",
   "metadata": {},
   "outputs": [],
   "source": [
    "d = {\"my_λ\": var, \"x\": [1, 2, 3]}"
   ]
  },
  {
   "cell_type": "code",
   "execution_count": null,
   "id": "38151868",
   "metadata": {},
   "outputs": [],
   "source": [
    "list(map(d[\"my_λ\"], d[\"x\"]))  # "
   ]
  },
  {
   "cell_type": "markdown",
   "id": "cf538f10",
   "metadata": {},
   "source": [
    "<font color=\"grey\">(see section [5.14 Deitel & Deitel from O'Reilly](https://learning.oreilly.com/library/view/intro-to-python/9780135404799/xhtml/fileP70010164470000000000000000024AD.xhtml#P70010164470000000000000000024AD) for more on map, reduce, filter).</font>"
   ]
  },
  {
   "cell_type": "markdown",
   "id": "e1ff3533",
   "metadata": {},
   "source": [
    "### Arrays (built-in module `array`)"
   ]
  },
  {
   "cell_type": "markdown",
   "id": "f72de13f",
   "metadata": {},
   "source": [
    "\n",
    "> defines an object type which can compactly represent an array of basic values: characters, integers, floating point numbers. Arrays are sequence types and **behave very much like lists**, except that the type of objects stored in them is constrained.\n",
    "\n",
    "| code | meaning | size in bytes |\n",
    "|------|---------|---------------|\n",
    "|  l   |  unsigned long int | 4  |\n",
    "|  L   |  signed long int | 4  |\n",
    "|  d   |  double | 8  |\n",
    "|  f   |  float | 4  |\n",
    "| i    | unsigned int | 2 |\n",
    "\n",
    "-- https://docs.python.org/3/library/array.html#module-array"
   ]
  },
  {
   "cell_type": "code",
   "execution_count": null,
   "id": "44d9f610",
   "metadata": {},
   "outputs": [],
   "source": [
    "from array import array\n",
    "\n",
    "my_array = array('l', [1, 2, 3, 4, 5])\n",
    "my_array"
   ]
  },
  {
   "cell_type": "code",
   "execution_count": null,
   "id": "ea171bae",
   "metadata": {},
   "outputs": [],
   "source": [
    "[x + 1 for x in my_array]  # acts mostly like lists"
   ]
  },
  {
   "cell_type": "code",
   "execution_count": null,
   "id": "8243bab4",
   "metadata": {},
   "outputs": [],
   "source": [
    "from sys import getsizeof\n",
    "\n",
    "# get the memory size in bytes\n",
    "getsizeof(array('b',list(range(128))))"
   ]
  },
  {
   "cell_type": "code",
   "execution_count": null,
   "id": "747e0819",
   "metadata": {},
   "outputs": [],
   "source": [
    "getsizeof(list(range(128)))"
   ]
  },
  {
   "cell_type": "code",
   "execution_count": null,
   "id": "8466239b",
   "metadata": {},
   "outputs": [],
   "source": [
    "array('b',list(range(128))).tolist() == list(range(128))"
   ]
  },
  {
   "cell_type": "code",
   "execution_count": null,
   "id": "40de18be",
   "metadata": {},
   "outputs": [],
   "source": [
    "f = open(\"my_array_file.dat\", \"wb\")\n",
    "array('b',list(range(128))).tofile(f)\n",
    "f.close()"
   ]
  },
  {
   "cell_type": "code",
   "execution_count": null,
   "id": "e9a426f0",
   "metadata": {},
   "outputs": [],
   "source": [
    "!cat my_array_file.dat"
   ]
  },
  {
   "cell_type": "markdown",
   "id": "9f428eee",
   "metadata": {},
   "source": [
    "Reading it back in, we need to know the format we wish to use:"
   ]
  },
  {
   "cell_type": "code",
   "execution_count": null,
   "id": "41bc187a",
   "metadata": {},
   "outputs": [],
   "source": [
    "my_bytes = array(\"b\")\n",
    "f = open(\"my_array_file.dat\", \"rb\")\n",
    "my_bytes.fromfile(f, 5)\n",
    "print(my_bytes)\n",
    "f.close()"
   ]
  },
  {
   "cell_type": "code",
   "execution_count": null,
   "id": "900e00f7",
   "metadata": {},
   "outputs": [],
   "source": [
    "my_bytes *  2  # not really what we'd want..."
   ]
  },
  {
   "cell_type": "markdown",
   "id": "cda7bdb6",
   "metadata": {},
   "source": [
    "### dataclasses\n",
    "\n",
    "> Data Classes can be thought of as \"mutable namedtuples with defaults\".\n",
    "\n",
    "-- https://www.python.org/dev/peps/pep-0557/"
   ]
  },
  {
   "cell_type": "markdown",
   "id": "ce35b9ce",
   "metadata": {},
   "source": [
    "We use dataclass as a **decorator** to a class that gives us a number of methods out of the box. It allows us to ~strongly type a complex object."
   ]
  },
  {
   "cell_type": "code",
   "execution_count": null,
   "id": "5eeee3ed",
   "metadata": {},
   "outputs": [],
   "source": [
    "from dataclasses import dataclass, field\n",
    "from datetime import date"
   ]
  },
  {
   "cell_type": "code",
   "execution_count": null,
   "id": "7d26aaa1",
   "metadata": {},
   "outputs": [],
   "source": [
    "@dataclass\n",
    "class Series:\n",
    "    name: str\n",
    "    release: date\n",
    "    networks: list[str]\n",
    "    episodes_per_season: int = 13\n",
    "    seasons: int = 1\n",
    "    total_shows: int = field(init=False)\n",
    "    have_binged: bool = False\n",
    "    \n",
    "    def __post_init__(self):\n",
    "        self.total_shows = self.episodes_per_season * self.seasons"
   ]
  },
  {
   "cell_type": "markdown",
   "id": "30b42a6e",
   "metadata": {},
   "source": [
    "We get a `__repr__` for free:"
   ]
  },
  {
   "cell_type": "code",
   "execution_count": null,
   "id": "2c99f701",
   "metadata": {},
   "outputs": [],
   "source": [
    "station_11 = Series(name=\"Station 11\", release=date(2022, 1, 1), networks=[\"HBO Max\"], episodes_per_season=10)\n",
    "station_11"
   ]
  },
  {
   "cell_type": "code",
   "execution_count": null,
   "id": "77214e23",
   "metadata": {},
   "outputs": [],
   "source": [
    "station_11.have_binged = True"
   ]
  },
  {
   "cell_type": "code",
   "execution_count": null,
   "id": "0a6b9324",
   "metadata": {},
   "outputs": [],
   "source": [
    "station_11.scary = False"
   ]
  },
  {
   "cell_type": "code",
   "execution_count": null,
   "id": "8114a982",
   "metadata": {},
   "outputs": [],
   "source": [
    "station_11"
   ]
  },
  {
   "cell_type": "code",
   "execution_count": null,
   "id": "4ed3fdba",
   "metadata": {},
   "outputs": [],
   "source": [
    "st = Series(name=\"Stranger Things\", release=date(2012, 1, 1), \n",
    "            networks=[\"Netflix\"], episodes_per_season=13, seasons=3, have_binged=True)"
   ]
  },
  {
   "cell_type": "code",
   "execution_count": null,
   "id": "29439b01",
   "metadata": {},
   "outputs": [],
   "source": [
    "@dataclass(frozen=True)\n",
    "class Series:\n",
    "    name: str\n",
    "    release: date\n",
    "    networks: list[str]\n",
    "    episodes_per_season: int = 13\n",
    "    seasons: int = 1\n",
    "    total_shows: int = field(init=False)\n",
    "    have_binged: bool = False"
   ]
  },
  {
   "cell_type": "code",
   "execution_count": null,
   "id": "2c101712",
   "metadata": {},
   "outputs": [],
   "source": [
    "station_11 = Series(name=\"Station 11\", release=date(2022, 1, 1), networks=[\"HBO Max\"], episodes_per_season=10)\n",
    "station_11.have_binged = True"
   ]
  },
  {
   "cell_type": "code",
   "execution_count": null,
   "id": "e2decf84",
   "metadata": {},
   "outputs": [],
   "source": [
    "%load_ext watermark"
   ]
  },
  {
   "cell_type": "code",
   "execution_count": null,
   "id": "1abd8d39",
   "metadata": {},
   "outputs": [],
   "source": [
    "%watermark --iv -g -r"
   ]
  },
  {
   "cell_type": "code",
   "execution_count": null,
   "id": "79b82be8",
   "metadata": {},
   "outputs": [],
   "source": []
  }
 ],
 "metadata": {
  "kernelspec": {
   "display_name": "py3.9 AY250",
   "language": "python",
   "name": "ay250"
  },
  "language_info": {
   "codemirror_mode": {
    "name": "ipython",
    "version": 3
   },
   "file_extension": ".py",
   "mimetype": "text/x-python",
   "name": "python",
   "nbconvert_exporter": "python",
   "pygments_lexer": "ipython3",
   "version": "3.9.9"
  },
  "toc": {
   "base_numbering": 1,
   "nav_menu": {},
   "number_sections": true,
   "sideBar": true,
   "skip_h1_title": false,
   "title_cell": "Table of Contents",
   "title_sidebar": "Contents",
   "toc_cell": false,
   "toc_position": {},
   "toc_section_display": true,
   "toc_window_display": false
  },
  "varInspector": {
   "cols": {
    "lenName": 16,
    "lenType": 16,
    "lenVar": 40
   },
   "kernels_config": {
    "python": {
     "delete_cmd_postfix": "",
     "delete_cmd_prefix": "del ",
     "library": "var_list.py",
     "varRefreshCmd": "print(var_dic_list())"
    },
    "r": {
     "delete_cmd_postfix": ") ",
     "delete_cmd_prefix": "rm(",
     "library": "var_list.r",
     "varRefreshCmd": "cat(var_dic_list()) "
    }
   },
   "oldHeight": 378.85,
   "position": {
    "height": "40px",
    "left": "896px",
    "right": "20px",
    "top": "120px",
    "width": "458px"
   },
   "types_to_exclude": [
    "module",
    "function",
    "builtin_function_or_method",
    "instance",
    "_Feature"
   ],
   "varInspector_section_display": "none",
   "window_display": false
  }
 },
 "nbformat": 4,
 "nbformat_minor": 5
}
