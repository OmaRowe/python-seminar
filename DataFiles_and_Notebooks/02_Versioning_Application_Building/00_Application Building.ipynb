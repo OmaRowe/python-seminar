{
 "cells": [
  {
   "cell_type": "code",
   "execution_count": 12,
   "metadata": {},
   "outputs": [
    {
     "data": {
      "text/html": [
       "<style>\n",
       "\n",
       ".rendered_html\n",
       "{\n",
       "  color: #2C5494;\n",
       "  font-family: Ubuntu;\n",
       "  font-size: 140%;\n",
       "  line-height: 1.1;\n",
       "  margin: 0.5em 0;\n",
       "  }\n",
       "\n",
       ".talk_title\n",
       "{\n",
       "  color: #498AF3;\n",
       "  font-size: 250%;\n",
       "  font-weight:bold;\n",
       "  line-height: 1.2; \n",
       "  margin: 10px 50px 10px;\n",
       "  }\n",
       "\n",
       ".subtitle\n",
       "{\n",
       "  color: #386BBC;\n",
       "  font-size: 180%;\n",
       "  font-weight:bold;\n",
       "  line-height: 1.2; \n",
       "  margin: 20px 50px 20px;\n",
       "  }\n",
       "\n",
       ".slide-header, p.slide-header\n",
       "{\n",
       "  color: #498AF3;\n",
       "  font-size: 200%;\n",
       "  font-weight:bold;\n",
       "  margin: 0px 20px 10px;\n",
       "  page-break-before: always;\n",
       "  text-align: center;\n",
       "  }\n",
       "\n",
       ".rendered_html h1\n",
       "{\n",
       "  color: #498AF3;\n",
       "  line-height: 1.2; \n",
       "  margin: 0.15em 0em 0.5em;\n",
       "  page-break-before: always;\n",
       "  text-align: center;\n",
       "  }\n",
       "\n",
       "\n",
       ".rendered_html h2\n",
       "{ \n",
       "  color: #386BBC;\n",
       "  line-height: 1.2;\n",
       "  margin: 1.1em 0em 0.5em;\n",
       "  }\n",
       "\n",
       ".rendered_html h3\n",
       "{ \n",
       "  font-size: 100%;\n",
       "  line-height: 1.2;\n",
       "  margin: 1.1em 0em 0.5em;\n",
       "  }\n",
       "\n",
       ".rendered_html li\n",
       "{\n",
       "  line-height: 1.8;\n",
       "  }\n",
       "\n",
       ".text_cell .input_prompt .CodeMirror-lines .output_area pre\n",
       "{\n",
       "    font-family: \"Ubuntu\";\n",
       "    font-size: 130%;\n",
       "}\n",
       "\n",
       ".gap-above\n",
       "{\n",
       "  padding-top: 200px;\n",
       "  }\n",
       "\n",
       ".gap01\n",
       "{\n",
       "  padding-top: 10px;\n",
       "  }\n",
       "\n",
       ".gap05\n",
       "{\n",
       "  padding-top: 50px;\n",
       "  }\n",
       "\n",
       ".gap1\n",
       "{\n",
       "  padding-top: 100px;\n",
       "  }\n",
       "\n",
       ".gap2\n",
       "{\n",
       "  padding-top: 200px;\n",
       "  }\n",
       "\n",
       ".gap3\n",
       "{\n",
       "  padding-top: 300px;\n",
       "  }\n",
       "\n",
       ".emph\n",
       "{\n",
       "  color: #386BBC;\n",
       "  }\n",
       "\n",
       ".warn\n",
       "{\n",
       "  color: red;\n",
       "  }\n",
       "\n",
       ".center\n",
       "{\n",
       "  text-align: center;\n",
       "  }\n",
       "\n",
       ".nb_link\n",
       "{\n",
       "    padding-bottom: 0.5em;\n",
       "}\n",
       "\n",
       "</style>"
      ],
      "text/plain": [
       "<IPython.core.display.HTML object>"
      ]
     },
     "metadata": {},
     "output_type": "display_data"
    }
   ],
   "source": [
    "%run ../talktools.py"
   ]
  },
  {
   "cell_type": "markdown",
   "metadata": {},
   "source": [
    "<center>\n",
    "<h1>Python Application Building</h1>\n",
    "<img src=\"http://i.imgur.com/91PUPZA.png\" width=20%>\n",
    "</center>\n",
    "\n",
    "<center>\n",
    "AY 250, 2013-2022 Josh Bloom\n",
    "</center>\n",
    "\n",
    "### Today \n",
    "\n",
    "1. Application Building\n",
    "2. Testing & Debugging\n",
    "3. Structuring Code for Release and Continuous Integration\n",
    "4. Hosting applications in the Cloud"
   ]
  },
  {
   "cell_type": "markdown",
   "metadata": {},
   "source": [
    "[PyPI](https://pypi.org/) is the main package repository for Python"
   ]
  },
  {
   "cell_type": "code",
   "execution_count": null,
   "metadata": {},
   "outputs": [],
   "source": [
    "!pip install requests --target=/tmp/"
   ]
  },
  {
   "cell_type": "code",
   "execution_count": null,
   "metadata": {},
   "outputs": [],
   "source": [
    "!ls /tmp/requests*"
   ]
  },
  {
   "cell_type": "markdown",
   "metadata": {},
   "source": [
    "`...dist-info` directory is part of the \"standard infrastructure to manage project distributions installed on a system, so all tools that are installing or removing projects are interoperable.\" [PEP-376](https://www.python.org/dev/peps/pep-0376/#id19)\n",
    "\n",
    "[Note the .whl extension...see [\"Wheel vs EGG\"](https://packaging.python.org/en/latest/discussions/wheel-vs-egg/) and [Wheel info](https://wheel.readthedocs.io/en/latest/)]\n",
    "\n",
    "Now, you can have Python know about your special installation directory by modifying your `PYTHONPATH` environment variable in your `.bashrc`, `.cshrc`, or `.tcshrc` file:\n",
    "```bash\n",
    "#BASH Style: \n",
    "export PYTHONPATH=/tmp/requests:$PYTHONPATH\n",
    "#CSH Style:\n",
    "setenv PYTHONPATH /path/to/my_choice:$PYTHONPATH\n",
    "```"
   ]
  },
  {
   "cell_type": "markdown",
   "metadata": {},
   "source": [
    "# Getting and Installing Packages with `pip`/`setup.py` #\n",
    "\n",
    "Sometimes `conda` and `pip` cannot find a codebase you're trying to install. In this case you'll need to do it yourself using a tarball and a `setup.py` file. This is the most straightforward way to get packages: download them from the developer’s website and hope that they’ve followed the standard conventions. Eg. [requests](https://github.com/psf/requests)\n",
    "\n",
    "There is a standard Python package distribution scheme using `setuptools` and `setup.py` files...more on that later.\n",
    "\n",
    "Basic workflow of installing a package with `setup.py`:\n",
    "\n",
    "```bash\n",
    "$ cd [folder with package and setup.py file]\n",
    "$ [sudo] pip install  .\n",
    "   # [ progress report ... ]\n",
    "$ Finished processing dependencies for [package]\n",
    "   # [if you want more info, there are several options to modify]\n",
    "$ pip install --help\n",
    "```\n",
    "\n",
    "To do a custom installation directory (if you dont have sudo, e.g.):\n",
    "\n",
    "```bash\n",
    "$ pip install  . --prefix=/tmp/mypy/\n",
    "```\n",
    "\n",
    "Useful for debugging: to have access to this package in your PYTHONPATH while still editing it:\n",
    "\n",
    "```bash\n",
    "$ pip install -e .\n",
    "```\n"
   ]
  },
  {
   "cell_type": "markdown",
   "metadata": {},
   "source": [
    "# Managing Packages - `venv`/`conda` environments #\n",
    "\n",
    "* Open Source software is constantly changing - how do you protect working code against future updates?\n",
    "* Or, what if there is a beta release of a package you want to try, but you don’t want to fully commit yet?\n",
    "* `venv` and `conda -n` creates a local, self-contained, and totally separate python installation.\n",
    "* Use it to create a local Python ecosystem, separate from your computer’s main system, so that you can do what you want in one without affecting the other."
   ]
  },
  {
   "cell_type": "markdown",
   "metadata": {},
   "source": [
    "# `venv` #\n",
    "\n",
    "<quote>venv (for Python 3) allow you to manage separate package installations for different projects. They essentially allow you to create a “virtual” isolated Python installation and install packages into that virtual installation. When you switch projects, you can simply create a new virtual environment and not have to worry about breaking the packages installed in the other environments. It is always recommended to use a virtual environment while developing Python applications.</quote>\n",
    "\n",
    "cf. https://packaging.python.org/en/latest/guides/installing-using-pip-and-virtual-environments/#creating-a-virtual-environment"
   ]
  },
  {
   "cell_type": "markdown",
   "metadata": {},
   "source": [
    "Creating a new environment with venv:\n",
    "\n",
    "[![asciicast](https://asciinema.org/a/466731.svg)](https://asciinema.org/a/466731)\n",
    "\n",
    "(https://asciinema.org/)\n"
   ]
  },
  {
   "cell_type": "markdown",
   "metadata": {},
   "source": [
    "\n",
    "During a shell session, you can source this environment so that it runs as the default:\n",
    "\n",
    "```bash\n",
    "$ source class3_env/bin/activate\n",
    "(class3_env)$\n",
    "#[ pip and python commands now point to new environment ]\n",
    "(class3_env)$ which python\n",
    "class3_env/bin/python\n",
    "```\n",
    "\n",
    "We can save all the install packages and use those for later:\n",
    "\n",
    "```bash\n",
    "$ pip freeze > requirements.txt\n",
    "$ cat requirements.txt\n",
    "\n",
    "certifi==2021.10.8\n",
    "charset-normalizer==2.0.11\n",
    "idna==3.3\n",
    "numpy==1.22.2\n",
    "pandas==1.3.5\n",
    "python-dateutil==2.8.2\n",
    "pytz==2021.3\n",
    "requests==2.27.1\n",
    "six==1.16.0\n",
    "urllib3==1.26.8\n",
    "```\n",
    "\n",
    "We can get out of the environment:\n",
    "\n",
    "```bash\n",
    " deactivate\n",
    "```\n",
    "Just delete to remove environment:\n",
    "\n",
    "```bash\n",
    "rm -r class3_env\n",
    "```\n"
   ]
  },
  {
   "cell_type": "markdown",
   "metadata": {},
   "source": [
    "# conda #\n",
    "\n",
    "https://www.anaconda.com/products/individual"
   ]
  },
  {
   "cell_type": "code",
   "execution_count": null,
   "metadata": {},
   "outputs": [],
   "source": [
    "!conda info"
   ]
  },
  {
   "cell_type": "code",
   "execution_count": null,
   "metadata": {},
   "outputs": [],
   "source": [
    "!conda info -e"
   ]
  },
  {
   "cell_type": "code",
   "execution_count": null,
   "metadata": {},
   "outputs": [],
   "source": [
    "!conda search requests"
   ]
  },
  {
   "cell_type": "code",
   "execution_count": null,
   "metadata": {},
   "outputs": [],
   "source": [
    "!conda create -n requests-test requests=2.27.1 -y"
   ]
  },
  {
   "cell_type": "code",
   "execution_count": null,
   "metadata": {},
   "outputs": [],
   "source": [
    "!conda info -e"
   ]
  },
  {
   "cell_type": "code",
   "execution_count": null,
   "metadata": {},
   "outputs": [],
   "source": [
    "!ls $HOME/miniconda3/envs/requests-test/bin"
   ]
  },
  {
   "cell_type": "markdown",
   "metadata": {},
   "source": [
    "We could make this environment the default if we want to:\n",
    "```bash\n",
    "export PATH=~/miniconda3/envs/requests-test/bin:$PATH\n",
    "```\n",
    "And if we want to remove that environment:\n",
    "```bash\n",
    "conda remove -n requests-test --all\n",
    "```"
   ]
  },
  {
   "cell_type": "code",
   "execution_count": null,
   "metadata": {},
   "outputs": [],
   "source": [
    "!conda remove -n requests-test --all -y"
   ]
  },
  {
   "cell_type": "code",
   "execution_count": null,
   "metadata": {},
   "outputs": [],
   "source": [
    "!conda info -e"
   ]
  },
  {
   "cell_type": "markdown",
   "metadata": {},
   "source": [
    "## Poetry\n",
    "\n",
    "[poetry](https://python-poetry.org/) Modern package mangement, building, publishing, environment management in one.\n",
    "\n",
    "```bash\n",
    "pip install poetry\n",
    "cd /path/to/your/project\n",
    "pip init\n",
    "```\n",
    "\n",
    "Everything is managed with the `pyproject.toml` file."
   ]
  },
  {
   "cell_type": "markdown",
   "metadata": {},
   "source": [
    "<center><h1> Command Line Parsing</h1></center>\n",
    "\n",
    "```bash\n",
    "python myawesomeprogram.py -o option1 -p parameter2 -Q -R\n",
    "```\n",
    "\n",
    "**Goal**: build a command-line 'standalone' codebase in Python, w/ CL options & keywords\n",
    " \n",
    " **Solution**: `argparse` (https://docs.python.org/3/library/argparse.html)\n",
    " \n",
    "* Allows for  user-friendly command line interfaces, and leaves it up to the code to determine what it was the user wanted.\n",
    "\n",
    "* Also automatically generates help & usage messages and issues errors when invalid arguments are provided.\n",
    "\n",
    "(Note on `optparse`: being replaced in favor of `argparse`)"
   ]
  },
  {
   "cell_type": "code",
   "execution_count": null,
   "metadata": {},
   "outputs": [],
   "source": [
    "import argparse"
   ]
  },
  {
   "cell_type": "markdown",
   "metadata": {},
   "source": [
    "# Setting up a parser #\n",
    "\n",
    "\n",
    "* First step for `argparse`: create parser object & tell it what arguments to expect. \n",
    "* It can then be used to process the command line arguments on runtime\n",
    "* Parser class: `ArgumentParser`. Takes several arguments to set up the description used in the help text for the program & other global behaviors \n",
    "   \n",
    " <p>\n",
    "See  http://www.doughellmann.com/PyMOTW/argparse/\n",
    "</p>"
   ]
  },
  {
   "cell_type": "code",
   "execution_count": null,
   "metadata": {},
   "outputs": [],
   "source": [
    "%%writefile myfile.py\n",
    "#!/usr/bin/env python\n",
    "import argparse\n",
    "parser = argparse.ArgumentParser(description='Sample Application')\n",
    "print(\"hi\")"
   ]
  },
  {
   "cell_type": "code",
   "execution_count": null,
   "metadata": {},
   "outputs": [],
   "source": [
    "%run myfile.py"
   ]
  },
  {
   "cell_type": "code",
   "execution_count": null,
   "metadata": {},
   "outputs": [],
   "source": [
    "!chmod 700 myfile.py"
   ]
  },
  {
   "cell_type": "code",
   "execution_count": null,
   "metadata": {},
   "outputs": [],
   "source": [
    "!./myfile.py"
   ]
  },
  {
   "cell_type": "markdown",
   "metadata": {},
   "source": [
    "# Defining Arguments & Parsing\n",
    "\n",
    "* Arguments can trigger different actions, specified by the action argument to `add_argument()`. \n",
    "* Several supported actions.\n",
    "* Once all of the arguments are defined, you can parse the command line by passing a sequence of argument strings to `parse_args()`. \n",
    "* By default, arguments are taken from `sys.argv[1:]`, but you can also pass your own list."
   ]
  },
  {
   "cell_type": "code",
   "execution_count": null,
   "metadata": {},
   "outputs": [],
   "source": [
    "%%file argparse_action.py\n",
    "import argparse\n",
    "parser = argparse.ArgumentParser(description='Sample Application')\n",
    "parser.add_argument('required_arg_1', help='This positional argument is required')\n",
    "parser.add_argument('required_arg_2', help='This positional argument is also required')\n",
    "parser.add_argument('-s', action='store', dest='simple_value',\n",
    "                    help='Store a simple value')\n",
    "parser.add_argument('-c', action='store_const', dest='constant_value',\n",
    "                    const='value-to-store',\n",
    "                    help='Store a constant value')\n",
    "parser.add_argument('-t', action='store_true', default=False,\n",
    "                    dest='boolean_switch',\n",
    "                    help='Set a switch to true')\n",
    "parser.add_argument('-a', action='append', dest='collection',\n",
    "                    default=[],\n",
    "                    help='Add repeated values to a list',\n",
    "                    )\n",
    "parser.add_argument('-A', action='append_const', dest='const_collection',\n",
    "                    const='value-1-to-append',\n",
    "                    default=[],\n",
    "                    help='Add different values to list')\n",
    "parser.add_argument('-B', action='append_const', dest='const_collection',\n",
    "                    const='value-2-to-append',\n",
    "                    help='Add different values to list')\n",
    "parser.add_argument('--version', action='version', version='%(prog)s 1.0')\n",
    "\n",
    "results = parser.parse_args()\n",
    "print('required_args    =', results.required_arg_1, results.required_arg_2)\n",
    "print('simple_value     =', results.simple_value)\n",
    "print('constant_value   =', results.constant_value)\n",
    "print('boolean_switch   =', results.boolean_switch)\n",
    "print('collection       =', results.collection)\n",
    "print('const_collection =', results.const_collection)"
   ]
  },
  {
   "cell_type": "code",
   "execution_count": null,
   "metadata": {},
   "outputs": [],
   "source": [
    "%run argparse_action.py --help"
   ]
  },
  {
   "cell_type": "markdown",
   "metadata": {},
   "source": [
    "* `store`: Save the value, after optionally converting it to a different type (default)\n",
    "* `store_const`: Save the value as defined as part of the argument specification, rather than a value that comes from the arguments being parsed\n",
    "* `store_true`/`store_false`: Save the appropriate boolean value\n",
    "* `append`: Save the value to a list.  Multiple values are saved if the argument is repeated\n",
    "* `append_const`: Save a value defined in the argument specification to a list\n",
    "* `version`: Prints version details about the program and then exits"
   ]
  },
  {
   "cell_type": "markdown",
   "metadata": {},
   "source": [
    "There's also some other ways of doing argument parsing that you might want to explore:\n",
    "\n",
    " * **Fire**: https://github.com/google/python-fire/blob/master/docs/guide.md\n",
    " * **Click**: https://click.palletsprojects.com/en/7.x/quickstart/\n"
   ]
  },
  {
   "cell_type": "code",
   "execution_count": null,
   "metadata": {},
   "outputs": [],
   "source": [
    "#!pip install click fire"
   ]
  },
  {
   "cell_type": "code",
   "execution_count": null,
   "metadata": {},
   "outputs": [],
   "source": [
    "%%writefile hello-click.py\n",
    "import click\n",
    "@click.command()\n",
    "@click.option('--count', default=1, help='number of greetings')\n",
    "@click.argument('name')\n",
    "def hello(count, name):\n",
    "    for x in range(count):\n",
    "        click.echo('Hello, %s!' % name)\n",
    "\n",
    "if __name__ == '__main__':\n",
    "    hello()"
   ]
  },
  {
   "cell_type": "code",
   "execution_count": null,
   "metadata": {},
   "outputs": [],
   "source": [
    "!python hello-click.py --help"
   ]
  },
  {
   "cell_type": "code",
   "execution_count": null,
   "metadata": {},
   "outputs": [],
   "source": [
    "!python hello-click.py --count=4 Cal"
   ]
  },
  {
   "cell_type": "code",
   "execution_count": null,
   "metadata": {},
   "outputs": [],
   "source": [
    "%%writefile hello-fire.py\n",
    "import fire\n",
    "\n",
    "def hello(count, name):\n",
    "    \"number of greetings\"\n",
    "    for x in range(count):\n",
    "        print('Hello, %s!' % name)\n",
    "\n",
    "if __name__ == '__main__':\n",
    "    fire.Fire(hello)"
   ]
  },
  {
   "cell_type": "code",
   "execution_count": null,
   "metadata": {},
   "outputs": [],
   "source": [
    "!python hello-fire.py --help"
   ]
  },
  {
   "cell_type": "code",
   "execution_count": null,
   "metadata": {},
   "outputs": [],
   "source": [
    "!python hello-fire.py --count=3 \"AY250 Class\""
   ]
  },
  {
   "cell_type": "markdown",
   "metadata": {},
   "source": [
    "# Breakout! #\n",
    "\n",
    "* Go to the breakout folder in: `../Breakouts/02_Versioning_Application_Building/`\n",
    "\n",
    "* Work on the file `breakout1.py`.  Do not move or modify the other files, in the other folders, but you will need to use them.  (You may add files to these directories, if necessary)\n",
    "\n",
    "* Build up a command line parser which allows the user to specify:\n",
    " - how many datapoints to generate\n",
    " - whether to plot with a filled in histogram or an outlined one\n",
    " - the title of the plot\n",
    " - And then have the plot be generated.\n",
    "\n",
    "* We want to be able to run a command like:\n",
    "\n",
    "```bash\n",
    "python breakout1.py -t -n 200 -T \"My Awesome Title\"\n",
    "```"
   ]
  },
  {
   "cell_type": "code",
   "execution_count": null,
   "metadata": {},
   "outputs": [],
   "source": [
    "cd ~/Classes/python-seminar/Breakouts/02_Versioning_Application_Building/sol"
   ]
  },
  {
   "cell_type": "code",
   "execution_count": null,
   "metadata": {},
   "outputs": [],
   "source": [
    "!cat plotting/histOutline.py"
   ]
  },
  {
   "cell_type": "code",
   "execution_count": null,
   "metadata": {},
   "outputs": [],
   "source": [
    "%matplotlib inline"
   ]
  },
  {
   "cell_type": "code",
   "execution_count": null,
   "metadata": {},
   "outputs": [],
   "source": [
    "%run breakout1_solution.py -t"
   ]
  },
  {
   "cell_type": "code",
   "execution_count": null,
   "metadata": {},
   "outputs": [],
   "source": [
    "%run breakout1_solution.py -n 200 -T \"My Awesome Title\""
   ]
  },
  {
   "cell_type": "code",
   "execution_count": null,
   "metadata": {},
   "outputs": [],
   "source": [
    "%run breakout1_solution.py --help"
   ]
  },
  {
   "cell_type": "code",
   "execution_count": 13,
   "metadata": {},
   "outputs": [],
   "source": [
    "%load_ext watermark"
   ]
  },
  {
   "cell_type": "code",
   "execution_count": 14,
   "metadata": {},
   "outputs": [
    {
     "name": "stdout",
     "output_type": "stream",
     "text": [
      "json    : 2.0.9\n",
      "argparse: 1.1\n",
      "autopep8: 1.6.0\n",
      "numpy   : 1.20.3\n",
      "\n"
     ]
    }
   ],
   "source": [
    "%watermark --iversions"
   ]
  },
  {
   "cell_type": "code",
   "execution_count": null,
   "metadata": {},
   "outputs": [],
   "source": []
  }
 ],
 "metadata": {
  "kernelspec": {
   "display_name": "py3.9 AY250",
   "language": "python",
   "name": "ay250"
  },
  "language_info": {
   "codemirror_mode": {
    "name": "ipython",
    "version": 3
   },
   "file_extension": ".py",
   "mimetype": "text/x-python",
   "name": "python",
   "nbconvert_exporter": "python",
   "pygments_lexer": "ipython3",
   "version": "3.9.9"
  },
  "toc": {
   "base_numbering": 1,
   "nav_menu": {},
   "number_sections": true,
   "sideBar": true,
   "skip_h1_title": false,
   "title_cell": "Table of Contents",
   "title_sidebar": "Contents",
   "toc_cell": false,
   "toc_position": {},
   "toc_section_display": true,
   "toc_window_display": false
  },
  "varInspector": {
   "cols": {
    "lenName": 16,
    "lenType": 16,
    "lenVar": 40
   },
   "kernels_config": {
    "python": {
     "delete_cmd_postfix": "",
     "delete_cmd_prefix": "del ",
     "library": "var_list.py",
     "varRefreshCmd": "print(var_dic_list())"
    },
    "r": {
     "delete_cmd_postfix": ") ",
     "delete_cmd_prefix": "rm(",
     "library": "var_list.r",
     "varRefreshCmd": "cat(var_dic_list()) "
    }
   },
   "types_to_exclude": [
    "module",
    "function",
    "builtin_function_or_method",
    "instance",
    "_Feature"
   ],
   "window_display": false
  }
 },
 "nbformat": 4,
 "nbformat_minor": 1
}
