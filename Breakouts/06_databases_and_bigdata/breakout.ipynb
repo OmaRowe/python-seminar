{
 "cells": [
  {
   "cell_type": "markdown",
   "metadata": {},
   "source": [
    "## Exoplanet Database Breakout Coding\n",
    "\n",
    "*Python for Data Science Seminar (2018-2022; UC Berkeley, Josh Bloom)*\n",
    "\n",
    "There are now thousands of planets detected and cateorgized outside of our Solar System. These exoplanets show a huge diversity of properties.\n",
    "\n",
    "In this breakout, we'll play with some of the current exoplanet data by creating, and populating an SQLite database."
   ]
  },
  {
   "cell_type": "markdown",
   "metadata": {},
   "source": [
    "### 1. Create an SQLite database to hold the information contained in the exoplanets CSV file\n",
    "\n",
    "This CSV file (\"exoplanet.eu_catalog.csv\") was downloaded from http://exoplanet.eu/catalog/\n",
    "\n",
    "Make sure that your DB has at least the following columns:\n",
    "  `name`, `mass`, `radius`, `star_distance`, `star_mass`, `star_radius`, `discovered`"
   ]
  },
  {
   "cell_type": "code",
   "execution_count": 1,
   "metadata": {},
   "outputs": [],
   "source": [
    "import pandas as pd\n",
    "df = pd.read_csv(\"exoplanet.eu_catalog.csv\")"
   ]
  },
  {
   "cell_type": "code",
   "execution_count": 50,
   "metadata": {
    "collapsed": true
   },
   "outputs": [],
   "source": []
  },
  {
   "cell_type": "markdown",
   "metadata": {},
   "source": [
    "### 2. Now populate the database with information from the CSV file\n",
    "\n",
    "Note: a Python None is the same as a Null in SQLite. You'll need to recast your data contained in a pandas dataframe like\n",
    "\n",
    "```python\n",
    "df = df.where(pd.notnull(df), None)\n",
    "```\n",
    "\n",
    "You'll want to the use questionmark style of inserts here to make sure that you're properly adding in the None values. See the example at https://docs.python.org/2/library/sqlite3.html#sqlite3.Cursor.execute"
   ]
  },
  {
   "cell_type": "code",
   "execution_count": null,
   "metadata": {
    "collapsed": true
   },
   "outputs": [],
   "source": []
  },
  {
   "cell_type": "markdown",
   "metadata": {},
   "source": [
    "### 3. Query the database and plot the mass versus discovery year. Notice any trends?\n"
   ]
  },
  {
   "cell_type": "code",
   "execution_count": 55,
   "metadata": {
    "collapsed": true
   },
   "outputs": [],
   "source": [
    "%matplotlib inline\n",
    "import matplotlib.pyplot as plt"
   ]
  },
  {
   "cell_type": "code",
   "execution_count": null,
   "metadata": {
    "collapsed": true
   },
   "outputs": [],
   "source": []
  },
  {
   "cell_type": "markdown",
   "metadata": {},
   "source": [
    "### 4. (optional) Sketch out an example schema for a new DB which has three tables\n",
    "\n",
    "One for the planet info (as above), one for the basic information about the star type that hosts the exoplanet (this will be instead of the `star_sp_type` in the original CSV), and one for the telescope/satellite \n",
    "used discovered the planet."
   ]
  },
  {
   "cell_type": "code",
   "execution_count": null,
   "metadata": {
    "collapsed": true
   },
   "outputs": [],
   "source": []
  }
 ],
 "metadata": {
  "kernelspec": {
   "display_name": "Python 3 (ipykernel)",
   "language": "python",
   "name": "python3"
  },
  "language_info": {
   "codemirror_mode": {
    "name": "ipython",
    "version": 3
   },
   "file_extension": ".py",
   "mimetype": "text/x-python",
   "name": "python",
   "nbconvert_exporter": "python",
   "pygments_lexer": "ipython3",
   "version": "3.9.9"
  },
  "toc": {
   "base_numbering": 1,
   "nav_menu": {},
   "number_sections": true,
   "sideBar": true,
   "skip_h1_title": false,
   "title_cell": "Table of Contents",
   "title_sidebar": "Contents",
   "toc_cell": false,
   "toc_position": {},
   "toc_section_display": true,
   "toc_window_display": false
  },
  "varInspector": {
   "cols": {
    "lenName": 16,
    "lenType": 16,
    "lenVar": 40
   },
   "kernels_config": {
    "python": {
     "delete_cmd_postfix": "",
     "delete_cmd_prefix": "del ",
     "library": "var_list.py",
     "varRefreshCmd": "print(var_dic_list())"
    },
    "r": {
     "delete_cmd_postfix": ") ",
     "delete_cmd_prefix": "rm(",
     "library": "var_list.r",
     "varRefreshCmd": "cat(var_dic_list()) "
    }
   },
   "types_to_exclude": [
    "module",
    "function",
    "builtin_function_or_method",
    "instance",
    "_Feature"
   ],
   "window_display": false
  }
 },
 "nbformat": 4,
 "nbformat_minor": 2
}
