{
 "cells": [
  {
   "cell_type": "code",
   "execution_count": null,
   "metadata": {},
   "outputs": [],
   "source": [
    "%run ../../DataFiles_and_Notebooks/talktools.py"
   ]
  },
  {
   "cell_type": "markdown",
   "metadata": {},
   "source": [
    "# Speeding up scientific Python code using Cython\n",
    "\n",
    "### [UC Berkeley AY 250 'Python Computing for Data Science'](https://github.com/profjsb/python-seminar)\n",
    "\n",
    "materials prepared by [Paul Ivanov](http://pirsquared.org/blog) (2013-11-21); Stefan van der Walt; JBloom  "
   ]
  },
  {
   "cell_type": "markdown",
   "metadata": {},
   "source": [
    "## Motivation \n",
    "\n",
    "<img src=\"sketse/lang_speed.png\">\n",
    "\n",
    "Cython allows us to cross the gap\n"
   ]
  },
  {
   "cell_type": "markdown",
   "metadata": {},
   "source": [
    "## [Cython](http://docs.cython.org/)\n",
    "\n",
    "\n",
    "Cython is good for two things:\n",
    "\n",
    "1. Wrapping legacy code\n",
    "2. Making your python code go faster\n",
    "\n",
    "This is good news because\n",
    "   - we get to keep coding in Python (or, at least, a superset)\n",
    "   - but with the speed advantage of C\n",
    "   - You can’t have your cake and eat it. Or can you?\n",
    "   - Conditions / loops approx. 2–8x speed increase, 30% overall; with\n",
    "annotations: hundreds of times faster\n",
    " "
   ]
  },
  {
   "cell_type": "markdown",
   "metadata": {},
   "source": [
    "# Let's take a step back...\n",
    "\n",
    "Python is a C program (yes, there are other implementations, but CPython is the dominant one)\n",
    "\n",
    "- you can write \"C extensions\" that can be imported as python modules"
   ]
  },
  {
   "cell_type": "code",
   "execution_count": null,
   "metadata": {},
   "outputs": [],
   "source": [
    "import math\n",
    "math??"
   ]
  },
  {
   "cell_type": "markdown",
   "metadata": {},
   "source": [
    "Deep introspection of `math` will not show us the source code, because it is actually implemented in C, compiled in a special way using the Python C API, and exposed to us (mere mortals) using a python interface."
   ]
  },
  {
   "cell_type": "code",
   "execution_count": null,
   "metadata": {},
   "outputs": [],
   "source": [
    "import os\n",
    "#os.path??"
   ]
  },
  {
   "cell_type": "markdown",
   "metadata": {},
   "source": [
    "`os.path` on the other hand, is written in pure Python, so we can see the sourcecode"
   ]
  },
  {
   "cell_type": "code",
   "execution_count": null,
   "metadata": {},
   "outputs": [],
   "source": [
    "!cython --version"
   ]
  },
  {
   "cell_type": "markdown",
   "metadata": {},
   "source": [
    "## What's Cython?\n",
    "\n",
    "*Cython \n",
    "is a programming language that makes writing C extensions for the Python language as easy as Python itself.*\n",
    "\n",
    "Cython is a superset of Python (i.e. all Python programs are valid Cython programs).\n",
    "\n",
    "Cython allows you to:\n",
    "\n",
    "   1. get convenient handles on C libraries, objects, and functions using in your Python code.\n",
    "   2. \"sprinkle in\" type annotations into Python code to get speedups\n",
    "\n",
    "### Use Cases \n",
    "\n",
    " - Optimize execution of Python code \n",
    " - Wrap existing C and C++ code\n",
    " - Breaking out of the Global Interpreter Lock; openmp\n",
    " - Mixing C and Python, but without the pain of the Python C API"
   ]
  },
  {
   "cell_type": "markdown",
   "metadata": {},
   "source": [
    "## Overview \n",
    "\n",
    "For this  introduction, we’ll take the following approach:\n",
    "\n",
    "   1. Take a piece of pure Python code and benchmark (we’ll find that it is too slow)\n",
    "   2. Run the code through Cython, compile and benchmark (we’ll find that it is somewhat faster)\n",
    "   3. Annotate the types and benchmark (we’ll find that it is much faster)\n",
    "\n",
    "Then we’ll look at how Cython allows us to\n",
    "  - Work with NumPy arrays\n",
    "  - Use multiple threads from Python\n",
    "  - Wrap native C libraries"
   ]
  },
  {
   "cell_type": "markdown",
   "metadata": {},
   "source": [
    "## Benchmark Python Code\n",
    "\n",
    "We want to approximate the integral:\n",
    "$$\n",
    "\\int_a^b f(x) dx\n",
    "$$\n",
    "\n",
    "<img src=\"sketse/LeftRiemann2.png\" width=\"50%\">\n",
    "\n",
    "Or more a finer grid...\n",
    "\n",
    "<img src=\"sketse/LeftRiemann.png\" width=\"50%\">\n"
   ]
  },
  {
   "cell_type": "code",
   "execution_count": null,
   "metadata": {},
   "outputs": [],
   "source": [
    "pwd "
   ]
  },
  {
   "cell_type": "code",
   "execution_count": null,
   "metadata": {},
   "outputs": [],
   "source": [
    "%%writefile integrate.py\n",
    "#!python\n",
    "#cython: language_level=3\n",
    "\n",
    "def f(x):\n",
    "    return x**4 - 3 * x\n",
    "\n",
    "def integrate_f(a, b, N):\n",
    "    \"\"\"Rectangle integration of a function.\n",
    "\n",
    "    Parameters\n",
    "    ----------\n",
    "    a, b : ints\n",
    "        Interval over which to integrate.\n",
    "    N : int\n",
    "        Number of intervals to use in the discretisation.\n",
    "\n",
    "    \"\"\"\n",
    "    s = 0\n",
    "    dx = (b - a) / N\n",
    "    for i in range(N):\n",
    "        s += f(a + i * dx)\n",
    "    return s * dx"
   ]
  },
  {
   "cell_type": "code",
   "execution_count": null,
   "metadata": {},
   "outputs": [],
   "source": [
    "import integrate"
   ]
  },
  {
   "cell_type": "code",
   "execution_count": null,
   "metadata": {},
   "outputs": [],
   "source": [
    "integrate.integrate_f(1,10,100000)"
   ]
  },
  {
   "cell_type": "code",
   "execution_count": null,
   "metadata": {},
   "outputs": [],
   "source": [
    "%timeit integrate.integrate_f(1,10,100000)"
   ]
  },
  {
   "cell_type": "markdown",
   "metadata": {},
   "source": [
    "Let's compile the code with Cython\n",
    "\n",
    "```bash\n",
    "cython filename.[py|pyx]\n",
    "```"
   ]
  },
  {
   "cell_type": "code",
   "execution_count": null,
   "metadata": {},
   "outputs": [],
   "source": [
    "!cython integrate.py"
   ]
  },
  {
   "cell_type": "code",
   "execution_count": null,
   "metadata": {},
   "outputs": [],
   "source": [
    "!ls -lat | head"
   ]
  },
  {
   "cell_type": "markdown",
   "metadata": {},
   "source": [
    "What is happening behind the scenes? \n",
    "\n",
    "Cython translates Python to C, using the Python C API (let’s have a look)"
   ]
  },
  {
   "cell_type": "code",
   "execution_count": null,
   "metadata": {},
   "outputs": [],
   "source": [
    "!cat integrate.c"
   ]
  },
  {
   "cell_type": "markdown",
   "metadata": {},
   "source": [
    "Three ways of making use of Cython \n",
    "\n",
    "**1. Compiling**\n",
    "\n",
    "This C code can be compiled directly (e.g. using gcc) requiring the right library paths. We can also use a `setup.py` file to help us.\n",
    "\n",
    "I copied `integrate.py` to `integrate_compiled.pyx` just to make a distinction between the compiled version and the pure python version."
   ]
  },
  {
   "cell_type": "code",
   "execution_count": null,
   "metadata": {},
   "outputs": [],
   "source": [
    "!cp integrate.py integrate_compiled.pyx"
   ]
  },
  {
   "cell_type": "code",
   "execution_count": null,
   "metadata": {},
   "outputs": [],
   "source": [
    "%%writefile setup.py\n",
    "from distutils.core import setup\n",
    "from Cython.Build import cythonize\n",
    "from distutils.extension import Extension\n",
    "\n",
    "setup(\n",
    "    ext_modules=cythonize(\n",
    "       [Extension(\"integrate_compiled\", [\"integrate_compiled.pyx\"])], \n",
    "        compiler_directives={'language_level': 3}\n",
    "    )\n",
    ")"
   ]
  },
  {
   "cell_type": "code",
   "execution_count": null,
   "metadata": {},
   "outputs": [],
   "source": [
    "!python setup.py build_ext --inplace"
   ]
  },
  {
   "cell_type": "code",
   "execution_count": null,
   "metadata": {},
   "outputs": [],
   "source": [
    "!ls integrate_compiled*"
   ]
  },
  {
   "cell_type": "code",
   "execution_count": null,
   "metadata": {},
   "outputs": [],
   "source": [
    "import integrate_compiled\n",
    "integrate_compiled.integrate_f(1,10,100000)"
   ]
  },
  {
   "cell_type": "code",
   "execution_count": null,
   "metadata": {},
   "outputs": [],
   "source": [
    "%timeit integrate_compiled.integrate_f(1,10,100000)"
   ]
  },
  {
   "cell_type": "code",
   "execution_count": null,
   "metadata": {},
   "outputs": [],
   "source": [
    "!rm integrate_compiled.*.so"
   ]
  },
  {
   "cell_type": "markdown",
   "metadata": {},
   "source": [
    "### pyximport\n",
    "\n",
    "A little bit magical, it will grab and compile .pyx files the first time they are imported, if a compilation is necessary."
   ]
  },
  {
   "cell_type": "code",
   "execution_count": null,
   "metadata": {},
   "outputs": [],
   "source": [
    "import pyximport\n",
    "pyximport.install()\n",
    "\n",
    "import integrate_compiled"
   ]
  },
  {
   "cell_type": "code",
   "execution_count": null,
   "metadata": {},
   "outputs": [],
   "source": [
    "integrate_compiled.integrate_f(1,10,10000)"
   ]
  },
  {
   "cell_type": "markdown",
   "metadata": {},
   "source": [
    "Benchmark the new code"
   ]
  },
  {
   "cell_type": "code",
   "execution_count": null,
   "metadata": {},
   "outputs": [],
   "source": [
    "%timeit integrate_compiled.integrate_f(1,10,100000)"
   ]
  },
  {
   "cell_type": "code",
   "execution_count": null,
   "metadata": {},
   "outputs": [],
   "source": [
    "import integrate"
   ]
  },
  {
   "cell_type": "code",
   "execution_count": null,
   "metadata": {},
   "outputs": [],
   "source": [
    "%timeit integrate.integrate_f(1,10,100000)"
   ]
  },
  {
   "cell_type": "markdown",
   "metadata": {},
   "source": [
    "**caveat emptor!**  C extensions **cannot** be reloaded in Python, see [this bug marked as WON'T FIX](http://bugs.python.org/issue1144263), so you have to either *restart the kernel* (i.e. quit python and start it again), or you could use the `%cython` magic..."
   ]
  },
  {
   "cell_type": "markdown",
   "metadata": {},
   "source": [
    "### %cython magic\n",
    "\n",
    "The most magical of all"
   ]
  },
  {
   "cell_type": "code",
   "execution_count": null,
   "metadata": {},
   "outputs": [],
   "source": [
    "%load_ext Cython"
   ]
  },
  {
   "cell_type": "code",
   "execution_count": null,
   "metadata": {},
   "outputs": [],
   "source": [
    "%%cython\n",
    "\n",
    "def f(x):\n",
    "    return x**4 - 3 * x\n",
    "\n",
    "def inline_integrate_f(a, b, N):\n",
    "    \"\"\"Rectangle integration of a function.\n",
    "\n",
    "    Parameters\n",
    "    ----------\n",
    "    a, b : ints\n",
    "        Interval over which to integrate.\n",
    "    N : int\n",
    "        Number of intervals to use in the discretisation.\n",
    "\n",
    "    \"\"\"\n",
    "    s = 0\n",
    "    dx = (b - a) / N\n",
    "    for i in range(N):\n",
    "        s += f(a + i * dx)\n",
    "    return s * dx"
   ]
  },
  {
   "cell_type": "code",
   "execution_count": null,
   "metadata": {},
   "outputs": [],
   "source": [
    "%timeit inline_integrate_f(1,10,1000)"
   ]
  },
  {
   "cell_type": "markdown",
   "metadata": {},
   "source": [
    "Slight speed increase (≈ 1.4×) probably not worth it.\n",
    "\n",
    "- Can we help Cython to do even better?\n",
    "  - Yes—by giving it some clues.\n",
    "  - Cython has a basic type inferencing engine, but it is very\n",
    "conservative for safety reasons.\n",
    "- Why does type information allow such vast speed increases?\n"
   ]
  },
  {
   "cell_type": "markdown",
   "metadata": {},
   "source": [
    "# Python is great, but slow at some things...\n",
    "\n",
    "Slow things worth knowing about:\n",
    "\n",
    "1. for loops\n",
    "2. function calls"
   ]
  },
  {
   "cell_type": "markdown",
   "metadata": {},
   "source": [
    "## Making your code go faster\n",
    "\n",
    "### \"Premature optimization is the root of all evil\" -- *Don Knuth*\n",
    "\n",
    "0. Use version control and have a test suite\n",
    "0. Profile code (don't just add type declarations everwhere)\n",
    "0. Sprinkle in optimizations (refacoring code as necessary)"
   ]
  },
  {
   "cell_type": "markdown",
   "metadata": {},
   "source": [
    "Let's tell Cython about the types..."
   ]
  },
  {
   "cell_type": "code",
   "execution_count": null,
   "metadata": {},
   "outputs": [],
   "source": [
    "%%writefile integrate_types.pyx\n",
    "#cython: language_level=3\n",
    "\n",
    "def f(double x):\n",
    "    return x**4 - 3 * x\n",
    "\n",
    "def types_integrate_f(double a, double b, int N):\n",
    "    \"\"\"Rectangle integration of a function.\n",
    "\n",
    "    Parameters\n",
    "    ----------\n",
    "    a, b : ints\n",
    "        Interval over which to integrate.\n",
    "    N : int\n",
    "        Number of intervals to use in the discretisation.\n",
    "\n",
    "    \"\"\"\n",
    "    cdef:\n",
    "        double s = 0\n",
    "        double dx = (b - a) / N\n",
    "        int i\n",
    "\n",
    "    s = 0\n",
    "    dx = (b - a) / N\n",
    "    for i in range(N):\n",
    "        s += f(a + i * dx)\n",
    "    return s * dx"
   ]
  },
  {
   "cell_type": "code",
   "execution_count": null,
   "metadata": {},
   "outputs": [],
   "source": [
    "%%cython\n",
    "\n",
    "def f(double x):\n",
    "    return x**4 - 3 * x\n",
    "\n",
    "def types_integrate_f(double a, double b, int N):\n",
    "    \"\"\"Rectangle integration of a function.\n",
    "\n",
    "    Parameters\n",
    "    ----------\n",
    "    a, b : ints\n",
    "        Interval over which to integrate.\n",
    "    N : int\n",
    "        Number of intervals to use in the discretisation.\n",
    "\n",
    "    \"\"\"\n",
    "    cdef:\n",
    "        double s = 0\n",
    "        double dx = (b - a) / N\n",
    "        int i\n",
    "\n",
    "    s = 0\n",
    "    dx = (b - a) / N\n",
    "    for i in range(N):\n",
    "        s += f(a + i * dx)\n",
    "    return s * dx"
   ]
  },
  {
   "cell_type": "code",
   "execution_count": null,
   "metadata": {},
   "outputs": [],
   "source": [
    "%timeit types_integrate_f(1,10,100000)"
   ]
  },
  {
   "cell_type": "code",
   "execution_count": null,
   "metadata": {},
   "outputs": [],
   "source": [
    "%timeit integrate_compiled.integrate_f(1,10,100000)"
   ]
  },
  {
   "cell_type": "code",
   "execution_count": null,
   "metadata": {},
   "outputs": [],
   "source": [
    "%timeit integrate.integrate_f(1,10,100000)"
   ]
  },
  {
   "cell_type": "markdown",
   "metadata": {},
   "source": [
    "There's even more bottlenecks:\n",
    "<img src=\"sketse/code_flow_python_vs_C.png\" width=\"70%\">\n",
    "We need to define `f(x)` as a C function."
   ]
  },
  {
   "cell_type": "code",
   "execution_count": null,
   "metadata": {},
   "outputs": [],
   "source": [
    "%%cython\n",
    "# cython: language_level=3\n",
    "# cython: cdivision=True\n",
    "# ^^^ Could also use @cython.cdivision(True) decorator\n",
    "\n",
    "cdef double f(double x):\n",
    "    return x*x*x*x - 3 * x\n",
    "\n",
    "def cy_integrate_f(double a, double b, int N):\n",
    "    cdef:\n",
    "        double s = 0\n",
    "        double dx = (b - a) / N\n",
    "        size_t i\n",
    "\n",
    "    for i in range(N):\n",
    "        s += f(a + i * dx)\n",
    "\n",
    "    return s * dx"
   ]
  },
  {
   "cell_type": "code",
   "execution_count": null,
   "metadata": {},
   "outputs": [],
   "source": [
    "%timeit cy_integrate_f(1,10,100000)"
   ]
  },
  {
   "cell_type": "code",
   "execution_count": null,
   "metadata": {},
   "outputs": [],
   "source": [
    "%timeit integrate.integrate_f(1,10,100000)"
   ]
  },
  {
   "cell_type": "code",
   "execution_count": null,
   "metadata": {},
   "outputs": [],
   "source": [
    "26/0.74"
   ]
  },
  {
   "cell_type": "markdown",
   "metadata": {},
   "source": [
    "With annotations, Cython gives us a nice path to find bottlenecks. Use the `-a`."
   ]
  },
  {
   "cell_type": "code",
   "execution_count": null,
   "metadata": {},
   "outputs": [],
   "source": [
    "%load_ext Cython"
   ]
  },
  {
   "cell_type": "code",
   "execution_count": null,
   "metadata": {},
   "outputs": [],
   "source": [
    "%%cython -a\n",
    "\n",
    "def omg(c):\n",
    "    cdef brb = 0\n",
    "    for a in range(c):\n",
    "        brb += a\n",
    "        \n",
    "    return brb\n",
    "\n",
    "def lol(x):\n",
    "    for i in range(x):\n",
    "        omg(x*2)"
   ]
  },
  {
   "cell_type": "markdown",
   "metadata": {},
   "source": [
    "The color allows us to see the density of the C code generated for a given line of Python. These lines will take longer to run, but we need not eliminate all of the unoptimized lines in order to get performance. We'll talk about profiling soon to help us find which lines are worth it."
   ]
  },
  {
   "cell_type": "code",
   "execution_count": null,
   "metadata": {},
   "outputs": [],
   "source": [
    "%timeit lol(5000)"
   ]
  },
  {
   "cell_type": "code",
   "execution_count": null,
   "metadata": {},
   "outputs": [],
   "source": [
    "%%cython --annotate\n",
    "\n",
    "cdef int new_omg(int c):\n",
    "    cdef int brb = 0\n",
    "    cdef int a\n",
    "    for a in range(c):\n",
    "        brb += a\n",
    "        \n",
    "    return brb\n",
    "\n",
    "cdef void new_new_lol(int x):\n",
    "    cdef i\n",
    "    for i in range(x):\n",
    "        new_omg(x*2)"
   ]
  },
  {
   "cell_type": "code",
   "execution_count": null,
   "metadata": {},
   "outputs": [],
   "source": [
    "new_new_lol(1)"
   ]
  },
  {
   "cell_type": "markdown",
   "metadata": {},
   "source": [
    "Pure Python: http://cython.readthedocs.io/en/latest/src/tutorial/pure.html"
   ]
  },
  {
   "cell_type": "code",
   "execution_count": null,
   "metadata": {},
   "outputs": [],
   "source": [
    "%%cython --annotate\n",
    "\n",
    "cdef int new_omg(int c):\n",
    "    cdef int brb = 0\n",
    "    cdef int a\n",
    "    for a in range(c):\n",
    "        brb += a\n",
    "        \n",
    "    return brb\n",
    "\n",
    "cdef void new_lol(int x):\n",
    "    cdef int i\n",
    "    for i in range(x):\n",
    "        new_omg(x*2)\n",
    "        \n",
    "def call_c_lol(x):\n",
    "    new_lol(x)"
   ]
  },
  {
   "cell_type": "code",
   "execution_count": null,
   "metadata": {},
   "outputs": [],
   "source": [
    "%timeit call_c_lol(5000)"
   ]
  },
  {
   "cell_type": "markdown",
   "metadata": {},
   "source": [
    "### Exercise\n",
    "\n",
    "1. Here's a python function that performs an elementwise computations:\n",
    "\n",
    "$y_i = x_i^3 - 4x_i + 2$\n",
    "   \n",
    "2. Write a Cython equivalent. "
   ]
  },
  {
   "cell_type": "code",
   "execution_count": null,
   "metadata": {},
   "outputs": [],
   "source": [
    "%%cython\n",
    "import numpy as np\n",
    "\n",
    "cdef my_poly(double [:] x):\n",
    "    out = np.zeros_like(x)\n",
    "    L = x.shape[0]\n",
    "\n",
    "    for i in range(L):\n",
    "        out[i] = x[i] * x[i] * x[i] - 4 * x[i] + 2\n",
    "\n",
    "    return np.asarray(out)\n",
    "\n",
    "def other_poly(x):\n",
    "    return my_poly(x)\n",
    "\n",
    "cpdef c_other_poly(x):\n",
    "    return my_poly(x)"
   ]
  },
  {
   "cell_type": "code",
   "execution_count": null,
   "metadata": {},
   "outputs": [],
   "source": [
    "import numpy as np\n",
    "x = np.linspace(-10,10,100000)\n",
    "%timeit c_other_poly(x)"
   ]
  },
  {
   "cell_type": "code",
   "execution_count": null,
   "metadata": {},
   "outputs": [],
   "source": [
    "%%cython -a\n",
    "import numpy as np\n",
    "\n",
    "def blah(float y):\n",
    "    return y * y * y - 4 * y + 2\n",
    "    \n",
    "cpdef my_poly(x):\n",
    "    out = np.zeros_like(x)\n",
    "    L = x.shape[0]\n",
    "\n",
    "    for i in range(L):\n",
    "        out[i] = blah(x[i])\n",
    "\n",
    "    return np.asarray(out)"
   ]
  },
  {
   "cell_type": "code",
   "execution_count": null,
   "metadata": {},
   "outputs": [],
   "source": [
    "import numpy as np\n",
    "x = np.linspace(-10,10,100000)\n",
    "%timeit my_poly(x)"
   ]
  },
  {
   "cell_type": "markdown",
   "metadata": {},
   "source": [
    "<!-- \n",
    "%load /home/pi/cur/python-seminar/Lectures/11_Cython/problems/fast_poly/fast_poly.pyx\n",
    "-->"
   ]
  },
  {
   "cell_type": "markdown",
   "metadata": {},
   "source": [
    "# References:\n",
    "\n",
    "[Cython Profiling Tutorial](http://docs.cython.org/src/tutorial/profiling_tutorial.html) : from Cython's official docs\n",
    "\n",
    "### Pythran\n",
    "\n",
    "https://pythran.readthedocs.io/en/latest/MANUAL.html\n",
    "\n",
    "\"an ahead of time compiler for a subset of the Python language, with a focus on scientific computing. It takes a Python module annotated with a few interface description and turns it into a native Python module with the same interface, but (hopefully) faster. It is meant to efficiently compile scientific programs, and takes advantage of multi-cores and SIMD instruction units.\"\n",
    "\n",
    "`pip install pythran`"
   ]
  },
  {
   "cell_type": "code",
   "execution_count": null,
   "metadata": {},
   "outputs": [],
   "source": [
    "!pip install pythran"
   ]
  },
  {
   "cell_type": "code",
   "execution_count": null,
   "metadata": {},
   "outputs": [],
   "source": [
    "%load_ext pythran.magic"
   ]
  },
  {
   "cell_type": "code",
   "execution_count": null,
   "metadata": {},
   "outputs": [],
   "source": [
    "def pi_approximate(n):\n",
    "     step = 1.0 / n\n",
    "     result = 0   \n",
    "     for i in range(n):\n",
    "         x = (i + 0.5) * step\n",
    "         result += 4.0 / (1.0 + x * x)\n",
    "     return step * result\n",
    " \n",
    "pi_approximate(1000000)"
   ]
  },
  {
   "cell_type": "code",
   "execution_count": null,
   "metadata": {},
   "outputs": [],
   "source": [
    "%timeit pi_approximate(1000000)"
   ]
  },
  {
   "cell_type": "code",
   "execution_count": null,
   "metadata": {},
   "outputs": [],
   "source": [
    "%%pythran\n",
    "#pythran export pi_numpy_style_pythran(int)\n",
    "import numpy as np\n",
    "def pi_numpy_style_pythran(n):\n",
    "     step = 1.0 / n\n",
    "     x = (np.arange(0, n, dtype=np.float64) + 0.5) * step\n",
    "     return step * np.sum(4. / (1. + x ** 2))"
   ]
  },
  {
   "cell_type": "code",
   "execution_count": null,
   "metadata": {},
   "outputs": [],
   "source": [
    "%timeit pi_numpy_style_pythran(1000000)"
   ]
  },
  {
   "cell_type": "markdown",
   "metadata": {},
   "source": [
    "https://course-evaluations.berkeley.edu"
   ]
  },
  {
   "cell_type": "code",
   "execution_count": null,
   "metadata": {},
   "outputs": [],
   "source": []
  }
 ],
 "metadata": {
  "kernelspec": {
   "display_name": "Python 3 (ipykernel)",
   "language": "python",
   "name": "python3"
  },
  "language_info": {
   "codemirror_mode": {
    "name": "ipython",
    "version": 3
   },
   "file_extension": ".py",
   "mimetype": "text/x-python",
   "name": "python",
   "nbconvert_exporter": "python",
   "pygments_lexer": "ipython3",
   "version": "3.9.9"
  },
  "toc": {
   "base_numbering": 1,
   "nav_menu": {},
   "number_sections": true,
   "sideBar": true,
   "skip_h1_title": false,
   "title_cell": "Table of Contents",
   "title_sidebar": "Contents",
   "toc_cell": false,
   "toc_position": {},
   "toc_section_display": true,
   "toc_window_display": false
  },
  "varInspector": {
   "cols": {
    "lenName": 16,
    "lenType": 16,
    "lenVar": 40
   },
   "kernels_config": {
    "python": {
     "delete_cmd_postfix": "",
     "delete_cmd_prefix": "del ",
     "library": "var_list.py",
     "varRefreshCmd": "print(var_dic_list())"
    },
    "r": {
     "delete_cmd_postfix": ") ",
     "delete_cmd_prefix": "rm(",
     "library": "var_list.r",
     "varRefreshCmd": "cat(var_dic_list()) "
    }
   },
   "types_to_exclude": [
    "module",
    "function",
    "builtin_function_or_method",
    "instance",
    "_Feature"
   ],
   "window_display": false
  }
 },
 "nbformat": 4,
 "nbformat_minor": 4
}
