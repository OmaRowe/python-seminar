{
 "cells": [
  {
   "cell_type": "code",
   "execution_count": null,
   "id": "ee90bf85-ea41-4b76-bfc5-c198ec157fb6",
   "metadata": {},
   "outputs": [],
   "source": [
    "%run ../../DataFiles_and_Notebooks/talktools.py"
   ]
  },
  {
   "cell_type": "markdown",
   "id": "2e1081a3-07b6-4774-bf02-0578938d3439",
   "metadata": {},
   "source": [
    "<img src=\"https://jax.readthedocs.io/en/latest/_static/jax_logo_250px.png\">\n",
    "\n",
    "Jax is accelerated numpy (and more): https://jax.readthedocs.io/en/latest/jax-101/01-jax-basics.html\n",
    "\n",
    "\n",
    "- JAX provides a NumPy-inspired interface for convenience.\n",
    "\n",
    "- Through duck-typing, JAX arrays can often be used as drop-in replacements of NumPy arrays.\n",
    "\n",
    "- Unlike NumPy arrays, JAX arrays are always immutable.\n",
    "\n",
    "Python code can be converted to highly efficient compiled code in real-time, using XLA (Accelerated Linear Algebra). Note not all JAX code can be JIT compiled, as it requires array shapes to be static & known at compile time."
   ]
  },
  {
   "cell_type": "code",
   "execution_count": null,
   "id": "580336c5-147d-4ad6-9a24-8caba7a0b49d",
   "metadata": {},
   "outputs": [],
   "source": [
    "import jax\n",
    "import jax.numpy as jnp"
   ]
  },
  {
   "cell_type": "code",
   "execution_count": null,
   "id": "60b83f85-c54f-4cc0-829b-b6d049e9fc62",
   "metadata": {},
   "outputs": [],
   "source": [
    "jnp.int32, jnp.float64"
   ]
  },
  {
   "cell_type": "code",
   "execution_count": null,
   "id": "afa88770-c3e6-408f-9213-25e93d58eae3",
   "metadata": {},
   "outputs": [],
   "source": [
    "x = jnp.arange(10)\n",
    "print(x)"
   ]
  },
  {
   "cell_type": "code",
   "execution_count": null,
   "id": "e0a0093e-633d-45f1-80d6-6665fe05535e",
   "metadata": {},
   "outputs": [],
   "source": [
    "type(x)"
   ]
  },
  {
   "cell_type": "code",
   "execution_count": null,
   "id": "b39494e0-b1e1-4e33-9dfb-4ea5068346bf",
   "metadata": {},
   "outputs": [],
   "source": [
    "n_devices = jax.local_device_count() \n",
    "n_devices"
   ]
  },
  {
   "cell_type": "markdown",
   "id": "005e8c55-9856-4c63-b550-691b4a8e0d08",
   "metadata": {},
   "source": [
    "JAX uses the XLA compiler under the hood, and enables you to just-in-time (jit) compile your code to make it faster and more efficient. This is the purpose of the @jit annotation. "
   ]
  },
  {
   "cell_type": "code",
   "execution_count": null,
   "id": "25d13d81-4a2b-46f1-8b64-70f5d5d7f7f7",
   "metadata": {},
   "outputs": [],
   "source": [
    "from jax import jit\n",
    "\n",
    "@jit\n",
    "def bar(a, b, c):\n",
    "    return a + b  * c\n",
    "\n",
    "@jit\n",
    "def foo(a, b, c):\n",
    "    return a + b  * c\n",
    "\n",
    "print(foo)\n",
    "print(foo(1, 2, 3))"
   ]
  },
  {
   "cell_type": "code",
   "execution_count": null,
   "id": "02c82be2-d730-4447-a962-2b7bf0e6573b",
   "metadata": {},
   "outputs": [],
   "source": [
    "a = jnp.sqrt((1+2j).real**2 + (1+2j).imag**2)\n",
    "\n",
    "foo(2,a,0j)"
   ]
  },
  {
   "cell_type": "code",
   "execution_count": null,
   "id": "ad772eea-605f-40c4-87cb-befcb4003581",
   "metadata": {},
   "outputs": [],
   "source": [
    "@jit\n",
    "def square(x):\n",
    "    return x ** 2\n",
    "\n",
    "@jit\n",
    "def hypot(x, y):\n",
    "    return jnp.sqrt(square(x) + square(y))"
   ]
  },
  {
   "cell_type": "code",
   "execution_count": null,
   "id": "fd913663-b248-48b8-a7cf-c3d0cbaf4dc2",
   "metadata": {},
   "outputs": [],
   "source": [
    "hypot(4,5)"
   ]
  },
  {
   "cell_type": "code",
   "execution_count": null,
   "id": "8ded13b8-4cad-4e94-9384-cd329876f86c",
   "metadata": {},
   "outputs": [],
   "source": [
    "@jit\n",
    "def f2(x, y):\n",
    "    return x + y\n",
    "\n",
    "print(f2(1, 2))\n",
    "print(f2(\"a\", \"b\"))"
   ]
  },
  {
   "cell_type": "code",
   "execution_count": null,
   "id": "79f00b8e-55f2-4fb3-8335-e5f035bb968d",
   "metadata": {},
   "outputs": [],
   "source": [
    "def na_var(data):\n",
    "    sample_mean = 0.0\n",
    "    \n",
    "    # 1st loop\n",
    "    for x in data:\n",
    "        sample_mean =  sample_mean + x\n",
    "    \n",
    "    sample_mean = sample_mean / len(data)\n",
    "    \n",
    "    # second loop\n",
    "    sum_of_squared_errors = 0.0\n",
    "    for x in data:\n",
    "        sum_of_squared_errors += (x - sample_mean) ** 2\n",
    "    \n",
    "    ret =  sum_of_squared_errors / (len(data) - 1.0)\n",
    "    return ret"
   ]
  },
  {
   "cell_type": "code",
   "execution_count": null,
   "id": "f1b77bd4-ba8c-48a5-87a7-23536db7c34b",
   "metadata": {},
   "outputs": [],
   "source": [
    "import numpy as np\n",
    "%timeit na_var(np.arange(1000))"
   ]
  },
  {
   "cell_type": "code",
   "execution_count": null,
   "id": "6443e087-0ab0-4374-9891-f2ebc77118e1",
   "metadata": {},
   "outputs": [],
   "source": [
    "jax_na_var = jit(na_var)"
   ]
  },
  {
   "cell_type": "code",
   "execution_count": null,
   "id": "67ee2616-1f9c-4a0b-820f-8fe0c8b159d0",
   "metadata": {},
   "outputs": [],
   "source": [
    "%timeit jax_na_var(jnp.arange(1000))"
   ]
  },
  {
   "cell_type": "code",
   "execution_count": null,
   "id": "061d0acd-3568-496a-8d92-7a04c8a7d55c",
   "metadata": {},
   "outputs": [],
   "source": [
    "from jax import numpy as jnp, random\n",
    "\n",
    "def selu(x, alpha=1.67, lmbda=1.05):\n",
    "    return lmbda * jnp.where(x > 0, x, alpha * jnp.exp(x) - alpha)\n",
    "\n",
    "v = random.normal(random.PRNGKey(42), (1000000,))\n",
    "%timeit selu(v).block_until_ready()"
   ]
  },
  {
   "cell_type": "code",
   "execution_count": null,
   "id": "71927744-e829-4440-83d8-0691298dabf0",
   "metadata": {},
   "outputs": [],
   "source": [
    "import jax\n",
    "\n",
    "selu_jit = jax.jit(selu)\n",
    "%timeit selu_jit(v).block_until_ready()"
   ]
  },
  {
   "cell_type": "code",
   "execution_count": null,
   "id": "5fa62dbf-beba-47e4-ad3a-4e79211c6394",
   "metadata": {},
   "outputs": [],
   "source": [
    "long_vector = jnp.arange(int(1e7))\n",
    "\n",
    "%timeit jnp.dot(long_vector, long_vector).block_until_ready()"
   ]
  },
  {
   "cell_type": "code",
   "execution_count": null,
   "id": "3dc11bd6-a7db-481a-be10-d2fdd7d1af9b",
   "metadata": {},
   "outputs": [],
   "source": [
    "def filter2d(image, filt):\n",
    "    M, N = image.shape\n",
    "    Mf, Nf = filt.shape\n",
    "    Mf2 = Mf // 2\n",
    "    Nf2 = Nf // 2\n",
    "    result = jnp.zeros_like(image)\n",
    "    for i in range(Mf2, M - Mf2):\n",
    "        for j in range(Nf2, N - Nf2):\n",
    "            num = 0.0\n",
    "            for ii in range(Mf):\n",
    "                for jj in range(Nf):\n",
    "                    num += (filt[Mf-1-ii, Nf-1-jj] * image[i-Mf2+ii, j-Nf2+jj])\n",
    "            # result[i, j] = num\n",
    "            result = result.at[i, j].set(num)\n",
    "    return result"
   ]
  },
  {
   "cell_type": "markdown",
   "id": "b18fb1e3-175c-4545-a6e5-d43c2d290d1c",
   "metadata": {},
   "source": [
    "### JAX Gotchas\n",
    "\n",
    "Looping and flow control (e.g. if..then statements) are non-trivial in JAX. You cannot simply `@jit` any python function. See:\n",
    "\n",
    "https://jax.readthedocs.io/en/latest/_autosummary/jax.lax.fori_loop.html\n"
   ]
  },
  {
   "cell_type": "markdown",
   "id": "89bec976-aadc-453b-a9e2-a24a7aeca2e3",
   "metadata": {},
   "source": [
    "## Numba  ##\n",
    "\n",
    "LLVM compiler for python (brought to you by Continuum). Should be on everyone's conda installation already. But you might want to update (it's been changed recently):\n",
    "\n",
    "   `conda update numba`\n",
    "\n",
    "Docs: http://numba.pydata.org/numba-doc/0.54.1/index.html"
   ]
  },
  {
   "cell_type": "code",
   "execution_count": null,
   "id": "e4d8e981-8644-4bd4-92c0-e43476eba59d",
   "metadata": {},
   "outputs": [],
   "source": [
    "import numba\n",
    "numba.__version__"
   ]
  },
  {
   "cell_type": "code",
   "execution_count": null,
   "id": "f5157394-bf4e-46d9-82a4-cec3979796b4",
   "metadata": {},
   "outputs": [],
   "source": [
    "import numpy\n",
    "\n",
    "def filter2d(image, filt):\n",
    "    M, N = image.shape\n",
    "    Mf, Nf = filt.shape\n",
    "    Mf2 = Mf // 2\n",
    "    Nf2 = Nf // 2\n",
    "    result = numpy.zeros_like(image)\n",
    "    for i in range(Mf2, M - Mf2):\n",
    "        for j in range(Nf2, N - Nf2):\n",
    "            num = 0.0\n",
    "            for ii in range(Mf):\n",
    "                for jj in range(Nf):\n",
    "                    num += (filt[Mf-1-ii, Nf-1-jj] * image[i-Mf2+ii, j-Nf2+jj])\n",
    "            result[i, j] = num\n",
    "    return result"
   ]
  },
  {
   "cell_type": "code",
   "execution_count": null,
   "id": "ea26c651-2364-4075-9b2d-2e9b4c434830",
   "metadata": {},
   "outputs": [],
   "source": [
    "from numba import double, jit\n",
    "\n",
    "numbafilter_2d = jit(double[:,:](double[:,:], double[:,:]))(filter2d)\n",
    "\n",
    "# Now numbafilter_2d runs at speeds as if you had first translated\n",
    "# it to C, compiled the code and wrapped it with Python\n",
    "image = numpy.random.random((100, 100))\n",
    "filt = numpy.random.random((10, 10))\n",
    "res = numbafilter_2d(image, filt)"
   ]
  },
  {
   "cell_type": "code",
   "execution_count": null,
   "id": "41d292f9-ad9f-4c39-812c-5d3c3f3e8a74",
   "metadata": {},
   "outputs": [],
   "source": [
    "%timeit numbafilter_2d(image, filt)"
   ]
  },
  {
   "cell_type": "code",
   "execution_count": null,
   "id": "20a7dcc5-b6f3-4aa2-9883-d24fa8d6b867",
   "metadata": {},
   "outputs": [],
   "source": [
    "%timeit filter2d(image, filt)"
   ]
  },
  {
   "cell_type": "code",
   "execution_count": null,
   "id": "162349f0-0206-4ac4-9f65-12377384cafe",
   "metadata": {},
   "outputs": [],
   "source": [
    "%matplotlib inline\n",
    "import matplotlib.pyplot as plt"
   ]
  },
  {
   "cell_type": "code",
   "execution_count": null,
   "id": "5274aec5-7c9a-4ff7-81b8-f2da86c5cf6c",
   "metadata": {},
   "outputs": [],
   "source": [
    "plt.imshow(res)"
   ]
  },
  {
   "cell_type": "code",
   "execution_count": null,
   "id": "73674a42-38be-408d-b0dd-487bbcbb2aa2",
   "metadata": {},
   "outputs": [],
   "source": [
    "plt.imshow(image)"
   ]
  },
  {
   "cell_type": "markdown",
   "id": "752930b9-24a5-481b-9ff0-ee115fb1d831",
   "metadata": {},
   "source": [
    "Numba also works with GPUs (and JAX with with GPU and TPUs).\n",
    "\n",
    "```python\n",
    "try:\n",
    "    import jax.tools.colab_tpu\n",
    "    jax.tools.colab_tpu.setup_tpu()\n",
    "except:\n",
    "    pass\n",
    "```"
   ]
  },
  {
   "cell_type": "code",
   "execution_count": null,
   "id": "94a4bcf2-455f-4975-8a5d-4a8b44e18001",
   "metadata": {},
   "outputs": [],
   "source": []
  },
  {
   "cell_type": "markdown",
   "id": "074222c4-1d69-4abe-8c9f-fc18d336944e",
   "metadata": {},
   "source": [
    "# Breakout\n",
    "\n",
    "a. Write a nested for loop that does dot produce multiplication (on `A` and `B`, 2D arrays) and prints the results. "
   ]
  },
  {
   "cell_type": "code",
   "execution_count": null,
   "id": "99bfd52a-9b92-4f84-b915-383379e5967b",
   "metadata": {},
   "outputs": [],
   "source": [
    "import numpy as np\n",
    "\n",
    "def my_dot(A, B):\n",
    "    # FIXME\n",
    "    \n",
    "    return outarray"
   ]
  },
  {
   "cell_type": "markdown",
   "id": "5d68cafa-e140-4569-87d5-838d12cb2cfb",
   "metadata": {},
   "source": [
    "b. Get the runtime speed for A.shape = (30,50) and B.shape = (50,15)"
   ]
  },
  {
   "cell_type": "code",
   "execution_count": null,
   "id": "540eefb1-9c40-4280-814f-60d5da563526",
   "metadata": {},
   "outputs": [],
   "source": [
    "A = np.ones((30,50))\n",
    "B = np.ones((50,15))\n",
    "\n",
    "rez = my_dot(A, B)\n",
    "\n",
    "# make sure that your code gives the right answers\n",
    "np.alltrue(A.dot(B) == rez)"
   ]
  },
  {
   "cell_type": "code",
   "execution_count": null,
   "id": "65bd2572-e874-4703-bbbb-aa51961f27af",
   "metadata": {},
   "outputs": [],
   "source": [
    "%timeit my_dot(A, B)"
   ]
  },
  {
   "cell_type": "markdown",
   "id": "bc60ac95-54d7-4707-8af3-525ed3c503db",
   "metadata": {},
   "source": [
    "c. Try using numba to make it faster."
   ]
  },
  {
   "cell_type": "code",
   "execution_count": null,
   "id": "03759313-1540-409c-bbec-620ea9a9a9d1",
   "metadata": {},
   "outputs": [],
   "source": [
    "from numba import jit\n",
    "\n",
    "# FIXME"
   ]
  },
  {
   "cell_type": "code",
   "execution_count": null,
   "id": "72b9191c-7869-4118-bc6f-a1cf1e380508",
   "metadata": {},
   "outputs": [],
   "source": []
  },
  {
   "cell_type": "markdown",
   "id": "f231135f-49dc-4de1-b0cd-2627f90cc1b5",
   "metadata": {},
   "source": [
    "d. How does the numba speed compare to the native matrix multiplication in numpy (`numpy.dot`)?"
   ]
  },
  {
   "cell_type": "code",
   "execution_count": null,
   "id": "99e01988-bb3b-4e6f-91d4-c5d92cc2e8f7",
   "metadata": {},
   "outputs": [],
   "source": [
    "%timeit A.dot(B)"
   ]
  },
  {
   "cell_type": "code",
   "execution_count": null,
   "id": "af4813f7-28ab-4747-99aa-2609f1040688",
   "metadata": {
    "jupyter": {
     "source_hidden": true
    },
    "tags": []
   },
   "outputs": [],
   "source": []
  },
  {
   "cell_type": "code",
   "execution_count": null,
   "id": "9582b141-ba60-479b-b725-ba38cb14c427",
   "metadata": {},
   "outputs": [],
   "source": []
  }
 ],
 "metadata": {
  "kernelspec": {
   "display_name": "py3.9 AY250",
   "language": "python",
   "name": "ay250"
  },
  "language_info": {
   "codemirror_mode": {
    "name": "ipython",
    "version": 3
   },
   "file_extension": ".py",
   "mimetype": "text/x-python",
   "name": "python",
   "nbconvert_exporter": "python",
   "pygments_lexer": "ipython3",
   "version": "3.9.9"
  },
  "toc": {
   "base_numbering": 1,
   "nav_menu": {},
   "number_sections": true,
   "sideBar": true,
   "skip_h1_title": false,
   "title_cell": "Table of Contents",
   "title_sidebar": "Contents",
   "toc_cell": false,
   "toc_position": {},
   "toc_section_display": true,
   "toc_window_display": false
  },
  "varInspector": {
   "cols": {
    "lenName": 16,
    "lenType": 16,
    "lenVar": 40
   },
   "kernels_config": {
    "python": {
     "delete_cmd_postfix": "",
     "delete_cmd_prefix": "del ",
     "library": "var_list.py",
     "varRefreshCmd": "print(var_dic_list())"
    },
    "r": {
     "delete_cmd_postfix": ") ",
     "delete_cmd_prefix": "rm(",
     "library": "var_list.r",
     "varRefreshCmd": "cat(var_dic_list()) "
    }
   },
   "types_to_exclude": [
    "module",
    "function",
    "builtin_function_or_method",
    "instance",
    "_Feature"
   ],
   "window_display": false
  }
 },
 "nbformat": 4,
 "nbformat_minor": 5
}
