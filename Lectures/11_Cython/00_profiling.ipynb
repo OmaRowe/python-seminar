{
 "cells": [
  {
   "cell_type": "code",
   "execution_count": 1,
   "metadata": {},
   "outputs": [
    {
     "data": {
      "text/html": [
       "<style>\n",
       "\n",
       ".rendered_html\n",
       "{\n",
       "  color: #2C5494;\n",
       "  font-family: Ubuntu;\n",
       "  font-size: 140%;\n",
       "  line-height: 1.1;\n",
       "  margin: 0.5em 0;\n",
       "  }\n",
       "\n",
       ".talk_title\n",
       "{\n",
       "  color: #498AF3;\n",
       "  font-size: 250%;\n",
       "  font-weight:bold;\n",
       "  line-height: 1.2; \n",
       "  margin: 10px 50px 10px;\n",
       "  }\n",
       "\n",
       ".subtitle\n",
       "{\n",
       "  color: #386BBC;\n",
       "  font-size: 180%;\n",
       "  font-weight:bold;\n",
       "  line-height: 1.2; \n",
       "  margin: 20px 50px 20px;\n",
       "  }\n",
       "\n",
       ".slide-header, p.slide-header\n",
       "{\n",
       "  color: #498AF3;\n",
       "  font-size: 200%;\n",
       "  font-weight:bold;\n",
       "  margin: 0px 20px 10px;\n",
       "  page-break-before: always;\n",
       "  text-align: center;\n",
       "  }\n",
       "\n",
       ".rendered_html h1\n",
       "{\n",
       "  color: #498AF3;\n",
       "  line-height: 1.2; \n",
       "  margin: 0.15em 0em 0.5em;\n",
       "  page-break-before: always;\n",
       "  text-align: center;\n",
       "  }\n",
       "\n",
       "\n",
       ".rendered_html h2\n",
       "{ \n",
       "  color: #386BBC;\n",
       "  line-height: 1.2;\n",
       "  margin: 1.1em 0em 0.5em;\n",
       "  }\n",
       "\n",
       ".rendered_html h3\n",
       "{ \n",
       "  font-size: 100%;\n",
       "  line-height: 1.2;\n",
       "  margin: 1.1em 0em 0.5em;\n",
       "  }\n",
       "\n",
       ".rendered_html li\n",
       "{\n",
       "  line-height: 1.8;\n",
       "  }\n",
       "\n",
       ".text_cell .input_prompt .CodeMirror-lines .output_area pre\n",
       "{\n",
       "    font-family: \"Ubuntu\";\n",
       "    font-size: 130%;\n",
       "}\n",
       "\n",
       ".gap-above\n",
       "{\n",
       "  padding-top: 200px;\n",
       "  }\n",
       "\n",
       ".gap01\n",
       "{\n",
       "  padding-top: 10px;\n",
       "  }\n",
       "\n",
       ".gap05\n",
       "{\n",
       "  padding-top: 50px;\n",
       "  }\n",
       "\n",
       ".gap1\n",
       "{\n",
       "  padding-top: 100px;\n",
       "  }\n",
       "\n",
       ".gap2\n",
       "{\n",
       "  padding-top: 200px;\n",
       "  }\n",
       "\n",
       ".gap3\n",
       "{\n",
       "  padding-top: 300px;\n",
       "  }\n",
       "\n",
       ".emph\n",
       "{\n",
       "  color: #386BBC;\n",
       "  }\n",
       "\n",
       ".warn\n",
       "{\n",
       "  color: red;\n",
       "  }\n",
       "\n",
       ".center\n",
       "{\n",
       "  text-align: center;\n",
       "  }\n",
       "\n",
       ".nb_link\n",
       "{\n",
       "    padding-bottom: 0.5em;\n",
       "}\n",
       "\n",
       "</style>"
      ],
      "text/plain": [
       "<IPython.core.display.HTML object>"
      ]
     },
     "metadata": {},
     "output_type": "display_data"
    }
   ],
   "source": [
    "%run ../../DataFiles_and_Notebooks/talktools.py"
   ]
  },
  {
   "cell_type": "markdown",
   "metadata": {},
   "source": [
    "# Making Python Faster\n",
    "\n",
    "<img src=\"slides/warp1.jpg\">\n",
    "\n",
    "\n",
    "<h2> ... and using legacy code</h2>\n",
    "\n",
    "- we've already seen `numexpr`, parallelization, etc.\n",
    "\n",
    "- Python is _slow_ ... it's interpreted on the fly\n",
    "\n",
    "- no static typing ... even integers are objects (bulky memory!)\n",
    "\n",
    "- what if we want to write Python, but use it as a *glue* to fast C-code?"
   ]
  },
  {
   "cell_type": "markdown",
   "metadata": {},
   "source": [
    "<pre>\n",
    "Premature optimization is the root of all evil \n",
    "   -- Donald Knuth\n",
    "</pre>\n",
    "\n",
    "<pre>\n",
    "C is premature optimization\n",
    "   -- Josh Bloom\n",
    "</pre>\n"
   ]
  },
  {
   "cell_type": "markdown",
   "metadata": {},
   "source": [
    "## Profiling ##"
   ]
  },
  {
   "cell_type": "markdown",
   "metadata": {},
   "source": [
    "You already know that Python comes with batteries include, and performance profiling is no exception.\n",
    "\n",
    "You can keep track of how much time each *function* is taking up using tools from the standard library.\n",
    "\n",
    "Here's the [documentation of `profile` and `cProfile`](http://docs.python.org/3/library/profile.html), but you probably won't need to use them directly.  A profile is a set of statistics that describes how often and for how long various parts of the program executed. These statistics can be formatted into reports via the pstats module."
   ]
  },
  {
   "cell_type": "code",
   "execution_count": 2,
   "metadata": {},
   "outputs": [
    {
     "name": "stdout",
     "output_type": "stream",
     "text": [
      "         236 function calls (229 primitive calls) in 0.000 seconds\n",
      "\n",
      "   Ordered by: standard name\n",
      "\n",
      "   ncalls  tottime  percall  cumtime  percall filename:lineno(function)\n",
      "        1    0.000    0.000    0.000    0.000 <string>:1(<module>)\n",
      "        2    0.000    0.000    0.000    0.000 enum.py:358(__call__)\n",
      "        2    0.000    0.000    0.000    0.000 enum.py:670(__new__)\n",
      "        1    0.000    0.000    0.000    0.000 enum.py:977(__and__)\n",
      "        1    0.000    0.000    0.000    0.000 re.py:250(compile)\n",
      "        1    0.000    0.000    0.000    0.000 re.py:289(_compile)\n",
      "        1    0.000    0.000    0.000    0.000 sre_compile.py:249(_compile_charset)\n",
      "        1    0.000    0.000    0.000    0.000 sre_compile.py:276(_optimize_charset)\n",
      "        2    0.000    0.000    0.000    0.000 sre_compile.py:453(_get_iscased)\n",
      "        1    0.000    0.000    0.000    0.000 sre_compile.py:461(_get_literal_prefix)\n",
      "        1    0.000    0.000    0.000    0.000 sre_compile.py:492(_get_charset_prefix)\n",
      "        1    0.000    0.000    0.000    0.000 sre_compile.py:536(_compile_info)\n",
      "        2    0.000    0.000    0.000    0.000 sre_compile.py:595(isstring)\n",
      "        1    0.000    0.000    0.000    0.000 sre_compile.py:598(_code)\n",
      "      3/1    0.000    0.000    0.000    0.000 sre_compile.py:71(_compile)\n",
      "        1    0.000    0.000    0.000    0.000 sre_compile.py:759(compile)\n",
      "        3    0.000    0.000    0.000    0.000 sre_parse.py:111(__init__)\n",
      "        7    0.000    0.000    0.000    0.000 sre_parse.py:160(__len__)\n",
      "       22    0.000    0.000    0.000    0.000 sre_parse.py:164(__getitem__)\n",
      "        9    0.000    0.000    0.000    0.000 sre_parse.py:172(append)\n",
      "      3/1    0.000    0.000    0.000    0.000 sre_parse.py:174(getwidth)\n",
      "        1    0.000    0.000    0.000    0.000 sre_parse.py:224(__init__)\n",
      "       10    0.000    0.000    0.000    0.000 sre_parse.py:233(__next)\n",
      "        2    0.000    0.000    0.000    0.000 sre_parse.py:249(match)\n",
      "        8    0.000    0.000    0.000    0.000 sre_parse.py:254(get)\n",
      "        1    0.000    0.000    0.000    0.000 sre_parse.py:286(tell)\n",
      "        1    0.000    0.000    0.000    0.000 sre_parse.py:435(_parse_sub)\n",
      "        2    0.000    0.000    0.000    0.000 sre_parse.py:493(_parse)\n",
      "        1    0.000    0.000    0.000    0.000 sre_parse.py:76(__init__)\n",
      "        2    0.000    0.000    0.000    0.000 sre_parse.py:81(groups)\n",
      "        1    0.000    0.000    0.000    0.000 sre_parse.py:921(fix_flags)\n",
      "        1    0.000    0.000    0.000    0.000 sre_parse.py:937(parse)\n",
      "        1    0.000    0.000    0.000    0.000 {built-in method _sre.compile}\n",
      "        1    0.000    0.000    0.000    0.000 {built-in method builtins.exec}\n",
      "       29    0.000    0.000    0.000    0.000 {built-in method builtins.isinstance}\n",
      "    29/26    0.000    0.000    0.000    0.000 {built-in method builtins.len}\n",
      "        2    0.000    0.000    0.000    0.000 {built-in method builtins.max}\n",
      "        9    0.000    0.000    0.000    0.000 {built-in method builtins.min}\n",
      "        8    0.000    0.000    0.000    0.000 {built-in method builtins.ord}\n",
      "       54    0.000    0.000    0.000    0.000 {method 'append' of 'list' objects}\n",
      "        1    0.000    0.000    0.000    0.000 {method 'disable' of '_lsprof.Profiler' objects}\n",
      "        5    0.000    0.000    0.000    0.000 {method 'find' of 'bytearray' objects}\n",
      "        1    0.000    0.000    0.000    0.000 {method 'items' of 'dict' objects}\n",
      "\n",
      "\n"
     ]
    }
   ],
   "source": [
    "import cProfile\n",
    "import re\n",
    "cProfile.run('re.compile(\"fizz|buzz\")') # run a piece of code"
   ]
  },
  {
   "cell_type": "code",
   "execution_count": 3,
   "metadata": {},
   "outputs": [
    {
     "name": "stdout",
     "output_type": "stream",
     "text": [
      "         20068 function calls in 2.442 seconds\n",
      "\n",
      "   Ordered by: cumulative time\n",
      "\n",
      "   ncalls  tottime  percall  cumtime  percall filename:lineno(function)\n",
      "        3    0.000    0.000    2.442    0.814 /Users/jbloom/ay250/lib/python3.9/site-packages/IPython/core/interactiveshell.py:3416(run_code)\n",
      "        3    0.000    0.000    2.442    0.814 {built-in method builtins.exec}\n",
      "        1    0.000    0.000    2.442    2.442 /var/folders/l6/qxz619j9671dr9wn886bbk540000gn/T/ipykernel_11378/2329091808.py:8(<module>)\n",
      "        1    0.008    0.008    2.442    2.442 /var/folders/l6/qxz619j9671dr9wn886bbk540000gn/T/ipykernel_11378/2329091808.py:8(<listcomp>)\n",
      "    10000    0.372    0.000    2.434    0.000 /var/folders/l6/qxz619j9671dr9wn886bbk540000gn/T/ipykernel_11378/2329091808.py:6(waste_of_time)\n",
      "    10000    2.062    0.000    2.062    0.000 /var/folders/l6/qxz619j9671dr9wn886bbk540000gn/T/ipykernel_11378/2329091808.py:7(<listcomp>)\n",
      "        3    0.000    0.000    0.000    0.000 /Users/jbloom/ay250/lib/python3.9/codeop.py:142(__call__)\n",
      "        3    0.000    0.000    0.000    0.000 {built-in method builtins.compile}\n",
      "        3    0.000    0.000    0.000    0.000 /Users/jbloom/ay250/lib/python3.9/contextlib.py:261(helper)\n",
      "        3    0.000    0.000    0.000    0.000 /Users/jbloom/ay250/lib/python3.9/contextlib.py:123(__exit__)\n",
      "        3    0.000    0.000    0.000    0.000 /Users/jbloom/ay250/lib/python3.9/contextlib.py:114(__enter__)\n",
      "        3    0.000    0.000    0.000    0.000 /Users/jbloom/ay250/lib/python3.9/contextlib.py:86(__init__)\n",
      "        6    0.000    0.000    0.000    0.000 {built-in method builtins.next}\n",
      "        3    0.000    0.000    0.000    0.000 /Users/jbloom/ay250/lib/python3.9/site-packages/traitlets/traitlets.py:566(__get__)\n",
      "        6    0.000    0.000    0.000    0.000 /Users/jbloom/ay250/lib/python3.9/site-packages/IPython/core/compilerop.py:166(extra_flags)\n",
      "        3    0.000    0.000    0.000    0.000 /Users/jbloom/ay250/lib/python3.9/site-packages/IPython/core/hooks.py:103(__call__)\n",
      "        1    0.000    0.000    0.000    0.000 /var/folders/l6/qxz619j9671dr9wn886bbk540000gn/T/ipykernel_11378/2329091808.py:11(<module>)\n",
      "        6    0.000    0.000    0.000    0.000 {built-in method builtins.getattr}\n",
      "        3    0.000    0.000    0.000    0.000 /Users/jbloom/ay250/lib/python3.9/site-packages/traitlets/traitlets.py:535(get)\n",
      "        3    0.000    0.000    0.000    0.000 /Users/jbloom/ay250/lib/python3.9/site-packages/IPython/core/interactiveshell.py:3354(compare)\n",
      "        3    0.000    0.000    0.000    0.000 /Users/jbloom/ay250/lib/python3.9/site-packages/IPython/utils/ipstruct.py:125(__getattr__)\n",
      "        3    0.000    0.000    0.000    0.000 /Users/jbloom/ay250/lib/python3.9/site-packages/IPython/core/interactiveshell.py:1286(user_global_ns)\n",
      "        3    0.000    0.000    0.000    0.000 /Users/jbloom/ay250/lib/python3.9/site-packages/IPython/core/hooks.py:168(pre_run_code_hook)\n",
      "        1    0.000    0.000    0.000    0.000 /var/folders/l6/qxz619j9671dr9wn886bbk540000gn/T/ipykernel_11378/2329091808.py:6(<module>)\n",
      "        1    0.000    0.000    0.000    0.000 {method 'disable' of '_lsprof.Profiler' objects}\n",
      "\n",
      "\n",
      "\n"
     ]
    }
   ],
   "source": [
    "import cProfile, pstats, io\n",
    "pr = cProfile.Profile()\n",
    "pr.enable()\n",
    "\n",
    "# here's the code you want to profile\n",
    "def waste_of_time(n=1000):\n",
    "    [x for x in range(n)]\n",
    "[waste_of_time(y) for y in range(10000)]\n",
    "## end of code you want to profile\n",
    "\n",
    "pr.disable()\n",
    "s = io.StringIO()\n",
    "sortby = 'cumulative'\n",
    "ps = pstats.Stats(pr, stream=s).sort_stats(sortby)\n",
    "ps.print_stats()\n",
    "print(s.getvalue())"
   ]
  },
  {
   "cell_type": "markdown",
   "metadata": {},
   "source": [
    "## There's a magic for that!\n",
    "\n",
    "### `%timeit` to learn how long it takes a chunk of code to run\n",
    "\n",
    "### `%prun` for function-by-function breakdown of code in your namespace\n",
    "\n",
    "### `%run -p` for function-by-function breakdown of running a whole file"
   ]
  },
  {
   "cell_type": "code",
   "execution_count": 4,
   "metadata": {},
   "outputs": [
    {
     "name": "stdout",
     "output_type": "stream",
     "text": [
      "/Users/jbloom/Classes/python-seminar/Lectures/11_Cython/demos/profile\n"
     ]
    }
   ],
   "source": [
    "cd demos/profile"
   ]
  },
  {
   "cell_type": "code",
   "execution_count": 5,
   "metadata": {},
   "outputs": [
    {
     "name": "stdout",
     "output_type": "stream",
     "text": [
      "import numpy as np\n",
      "\n",
      "def expensive_square(x):\n",
      "    x = x.copy()\n",
      "    y = x.copy()\n",
      "    for i in range(x.size):\n",
      "        x[i] = x[i] ** 2\n",
      "    \n",
      "    del y\n",
      "    return x\n",
      "\n",
      "def cheap_square(x):\n",
      "    return x**2\n",
      "\n",
      "square = expensive_square\n",
      "#square = cheap_square\n",
      "\n",
      "def execute():\n",
      "    print(\"Squaring some numbers...\")\n",
      "    x = np.arange((5000))\n",
      "    y = square(x)\n",
      "\n",
      "#    np.testing.assert_equal(x**2, y)\n",
      "\n",
      "if __name__ == \"__main__\":\n",
      "    execute()\n"
     ]
    }
   ],
   "source": [
    "!cat sometask.py"
   ]
  },
  {
   "cell_type": "code",
   "execution_count": 6,
   "metadata": {},
   "outputs": [],
   "source": [
    "import sometask"
   ]
  },
  {
   "cell_type": "code",
   "execution_count": 7,
   "metadata": {},
   "outputs": [
    {
     "name": "stdout",
     "output_type": "stream",
     "text": [
      "Squaring some numbers...\n",
      " "
     ]
    }
   ],
   "source": [
    "%prun sometask.execute()"
   ]
  },
  {
   "cell_type": "code",
   "execution_count": 8,
   "metadata": {},
   "outputs": [
    {
     "name": "stdout",
     "output_type": "stream",
     "text": [
      "Squaring some numbers...\n",
      " "
     ]
    }
   ],
   "source": [
    "%run -p sometask.py"
   ]
  },
  {
   "cell_type": "markdown",
   "metadata": {},
   "source": [
    "With the `-D` flag, you can dump the profile to binary file that external tools can use.\n",
    "\n",
    "\n",
    "You  can also produce this .profile without Jupyter using:\n",
    "\n",
    "```bash\n",
    "    python -m cProfile -o sometask.profile sometask.py\n",
    "```"
   ]
  },
  {
   "cell_type": "code",
   "execution_count": 9,
   "metadata": {},
   "outputs": [
    {
     "name": "stdout",
     "output_type": "stream",
     "text": [
      "Squaring some numbers...\n",
      " \n",
      "*** Profile stats marshalled to file 'sometask.profile'. \n"
     ]
    }
   ],
   "source": [
    "%run -p -D sometask.profile sometask.py"
   ]
  },
  {
   "cell_type": "code",
   "execution_count": 10,
   "metadata": {},
   "outputs": [
    {
     "name": "stdout",
     "output_type": "stream",
     "text": [
      "�)\u0003�\u0001~�\u0000\u0000\u0000\u0000�#<method 'append' of 'list' objects>)\u0005�\t\u0000\u0000\u0000r\u0004\u0000\u0000\u0000gYx��\f",
      ",�>gYx��\f",
      ",�>{�\u0003�./Users/jbloom/ay250/lib/python3.9/posixpath.pyiN\u0001\u0000\u0000normpath)\u0004r\u0004\u0000\u0000\u0000r\u0004\u0000\u0000\u0000gYx��\f",
      ",�>gYx��\f",
      ",�>0)\u0003r\u0001\u0000\u0000\u0000r\u0002\u0000\u0000\u0000�#<method 'insert' of 'list' objects>)\u0005�\u0001\u0000\u0000\u0000r\t\u0000\u0000\u0000g��\n",
      "�m�>g��\n",
      "�m�>{)\u0003�O/Users/jbloom/ay250/lib/python3.9/site-packages/IPython/utils/syspathcontext.py�0\u0000\u0000\u0000�\t__enter__)\u0004r\t\u0000\u0000\u0000r\t\u0000\u0000\u0000g��\n",
      "�m�>g��\n",
      "�m�>0)\u0003r\u0001\u0000\u0000\u0000r\u0002\u0000\u0000\u0000�#<method 'remove' of 'list' objects>)\u0005r\t\u0000\u0000\u0000r\t\u0000\u0000\u0000g!��\u0017\u0012o�>g!��\u0017\u0012o�>{)\u0003r\n",
      "q��>�\u0003r\u0006\u0000\u0000\u0000��\u0000\u0000\u0000�\u0004r\t\u0000\u0000\u0000r\t\u0000\u0000\u0000g!��\u0017\u0012o�>g!��\u0017\u0012o�>0)\u0003r\u0001\u0000\u0000\u0000r\u0002\u0000\u0000\u0000�!<method 'split' of 'str' objects>)\u0005r\t\u0000\u0000\u0000r\t\u0000\u0000\u0000g0G9�\"\f",
      "�>g0G9�\"\f",
      "�>{r\u0005\u0000\u0000\u0000)\u0004r\t\u0000\u0000\u0000r\t\u0000\u0000\u0000g0G9�\"\f",
      "�>g0G9�\"\f",
      "�>0)\u0003r\u0001\u0000\u0000\u0000r\u0002\u0000\u0000\u0000� <method 'join' of 'str' objects>)\u0005r\t\u0000\u0000\u0000r\t\u0000\u0000\u0000g�\u0000�\u0005\u0019��>g�\u0000�\u0005\u0019��>{r\u0005\u0000\u0000\u0000)\u0004r\t\u0000\u0000\u0000r\t\u0000\u0000\u0000g�\u0000�\u0005\u0019��>g�\u0000�\u0005\u0019��>0)\u0003r\u0001\u0000\u0000\u0000r\u0002\u0000\u0000\u0000�!<method 'rfind' of 'str' objects>)\u0005r\t\u0000\u0000\u0000r\t\u0000\u0000\u0000g\u0005~�\u0017<8�>g\u0005~�\u0017<8�>{�\u0003r\u0006\u0000\u0000\u0000�\u0000\u0000\u0000�\u0007dirname)\u0004r\t\u0000\u0000\u0000r\t\u0000\u0000\u0000g\u0005~�\u0017<8�>g\u0005~�\u0017<8�>0)\u0003r\u0001\u0000\u0000\u0000r\u0002\u0000\u0000\u0000�\"<method 'rstrip' of 'str' objects>)\u0005r\t\u0000\u0000\u0000r\t\u0000\u0000\u0000g�ۮ#P��>g�ۮ#P��>{r\u0013\u0000\u0000\u0000)\u0004r\t\u0000\u0000\u0000r\t\u0000\u0000\u0000g�ۮ#P��>g�ۮ#P��>0)\u0003r\u0001\u0000\u0000\u0000r\u0002\u0000\u0000\u0000�&<method 'startswith' of 'str' objects>)\u0005�\u0005\u0000\u0000\u0000r\u0018\u0000\u0000\u0000g\u0012�4_�\u0010�>g\u0012�4_�\u0010�>{�\u0003r\u0006\u0000\u0000\u0000�<\u0000\u0000\u0000�\u0005isabs)\u0004r\t\u0000\u0000\u0000r\t\u0000\u0000\u0000g`\u0019eG�|�>g`\u0019eG�|�>�\u0003r\u0006\u0000\u0000\u0000�G\u0000\u0000\u0000�\u0004join)\u0004r\t\u0000\u0000\u0000r\t\u0000\u0000\u0000gj�\n",
      "�>0)\u0003r\u0001\u0000\u0000\u0000r\u0002\u0000\u0000\u0000�0<method 'append' of 'collections.deque' objects>)\u0005r.\u0000\u0000\u0000r.\u0000\u0000\u0000gT��#]\u001f�>gT��#]\u001f�>{�\u0003r2\u0000\u0000\u0000��\u0000\u0000\u0000schedule)\u0004r.\u0000\u0000\u0000r.\u0000\u0000\u0000gT��#]\u001f�>gT��#]\u001f�>0)\u0003r\u0001\u0000\u0000\u0000r\u0002\u0000\u0000\u0000�,<method 'acquire' of '_thread.lock' objects>)\u0005r.\u0000\u0000\u0000r.\u0000\u0000\u0000g\u0013��\u000e�z�>g\u0013��\u000e�z�>{)\u0003�./Users/jbloom/ay250/lib/python3.9/threading.pyi#\u0004\u0000\u0000�\u0015_wait_for_tstate_lock)\u0004r.\u0000\u0000\u0000r.\u0000\u0000\u0000g\u0013��\u000e�z�>g\u0013��\u000e�z�>0)\u0003r\u0001\u0000\u0000\u0000r\u0002\u0000\u0000\u0000�%<built-in method _locale.nl_langinfo>)\u0005r\t\u0000\u0000\u0000r\t\u0000\u0000\u0000g�����Q�>g�����Q�>{)\u0003�0/Users/jbloom/ay250/lib/python3.9/_bootlocale.py�!\u0000\u0000\u0000�\u0014getpreferredencoding)\u0004r\t\u0000\u0000\u0000r\t\u0000\u0000\u0000g�����Q�>g�����Q�>0)\u0003r\u0001\u0000\u0000\u0000r\u0002\u0000\u0000\u0000�\u0019<built-in method io.open>)\u0005r\"\u0000\u0000\u0000r\"\u0000\u0000\u0000gb\u0006(ⴭD?g�lQ�\u00027E?{r%\u0000\u0000\u0000)\u0004r\t\u0000\u0000\u0000r\t\u0000\u0000\u0000g#\u000e�#��6?g#\u000e�#��6?�\u0003�P/Users/jbloom/ay250/lib/python3.9/site-packages/IPython/core/interactiveshell.pyi�\u0000\u0000\u0000r\u0002\u0000\u0000\u0000�\u001e",
      "<built-in method posix.getcwd>)\u0005r\t\u0000\u0000\u0000r\t\u0000\u0000\u0000g�\u0001���I?g�\u0001���I?{r/\u0000\u0000\u0000)\u0004r\t\u0000\u0000\u0000r\t\u0000\u0000\u0000g�\u0001���I?g�\u0001���I?0)\u0003r\u0001\u0000\u0000\u0000r\u0002\u0000\u0000\u0000�\u001e",
      "<built-in method posix.getpid>)\u0005r\"\u0000\u0000\u0000r\"\u0000\u0000\u0000gz�7_���>gz�7_���>{)\u0003r2\u0000\u0000\u0000i�\u0001\u0000\u0000�\u0012_is_master_process)\u0004r\"\u0000\u0000\u0000r\"\u0000\u0000\u0000gz�7_���>gz�7_���>0)\u0003r\u0001\u0000\u0000\u0000r\u0002\u0000\u0000\u0000�\u001e",
      "<built-in method posix.fspath>)\u0005�\u0006\u0000\u0000\u0000r>\u0000\u0000\u0000g\u001f'O�[y�>g\u001f'O�[y�>{r\u0019\u0000\u0000\u0000)\u0004r\t\u0000\u0000\u0000r\t\u0000\u0000\u0000g�U�\u001e",
      "��>g�U�\u001e",
      "��>r\u001c",
      "\u0000\u0000\u0000)\u0004r\t\u0000\u0000\u0000r\t\u0000\u0000\u0000gܤ�#jI�>gܤ�#jI�>r\u0013\u0000\u0000\u0000)\u0004r\t\u0000\u0000\u0000r\t\u0000\u0000\u0000g�:\u0004wh��>g�:\u0004wh��>r\u001f\u0000\u0000\u0000)\u0004r\t\u0000\u0000\u0000r\t\u0000\u0000\u0000g��U�\n",
      "�H�3?0)\u0003r\u0001\u0000\u0000\u0000r\u0002\u0000\u0000\u0000�,<method '__exit__' of '_io._IOBase' objects>)\u0005r\"\u0000\u0000\u0000r\"\u0000\u0000\u0000g\u0007w\u0007{�Q4?g\u0007w\u0007{�Q4?{r%\u0000\u0000\u0000)\u0004r\t\u0000\u0000\u0000r\t\u0000\u0000\u0000g˂�\u0016i2?g˂�\u0016i2?rK\u0000\u0000\u0000)\u0004r\t\u0000\u0000\u0000r\t\u0000\u0000\u0000g�C�:��>g�C�:��>0)\u0003r\u0001\u0000\u0000\u0000r\u0002\u0000\u0000\u0000�/<method 'read' of '_io.BufferedReader' objects>)\u0005r\t\u0000\u0000\u0000r\t\u0000\u0000\u0000g�3Eً\u0003�>g�3Eً\u0003�>{r%\u0000\u0000\u0000)\u0004r\t\u0000\u0000\u0000r\t\u0000\u0000\u0000g�3Eً\u0003�>g�3Eً\u0003�>0)\u0003�+/Users/jbloom/ay250/lib/python3.9/codecs.pyi\u0004\u0001\u0000\u0000__init__)\u0005r\t\u0000\u0000\u0000r\t\u0000\u0000\u0000g�4fG�R�>g�4fG�R�>{)\u0003rP\u0000\u0000\u0000i5\u0001\u0000\u0000rQ\u0000\u0000\u0000)\u0004r\t\u0000\u0000\u0000r\t\u0000\u0000\u0000g�4fG�R�>g�4fG�R�>0)\u0003rP\u0000\u0000\u0000i5\u0001\u0000\u0000rQ\u0000\u0000\u0000)\u0005r\t\u0000\u0000\u0000r\t\u0000\u0000\u0000g\u001d",
      "\f",
      "�\u0011T��>gD����H�>{�\u0003r\u0001\u0000\u0000\u0000r\u0002\u0000\u0000\u0000rJ\u0000\u0000\u0000)\u0004r\t\u0000\u0000\u0000r\t\u0000\u0000\u0000g\u001d",
      "\f",
      "�\u0011T��>gD����H�>0)\u0003r\u0006\u0000\u0000\u0000r,\u0000\u0000\u0000r-\u0000\u0000\u0000)\u0005r.\u0000\u0000\u0000r.\u0000\u0000\u0000g@ax��>g�11�\\6�>{r\u0019\u0000\u0000\u0000)\u0004r\t\u0000\u0000\u0000r\t\u0000\u0000\u0000gB$��gP�>gc������>r\u001c",
      "\u0000\u0000\u0000)\u0004r\t\u0000\u0000\u0000r\t\u0000\u0000\u0000g,i�)+\u001b�>gp�bG\u000eѻ>r\u0013\u0000\u0000\u0000)\u0004r\t\u0000\u0000\u0000r\t\u0000\u0000\u0000g\u00125'�\\u�>g�QҎ�\u001a�>0)\u0003r\u0006\u0000\u0000\u0000r\u001a\u0000\u0000\u0000r\u001b\u0000\u0000\u0000)\u0005r\t\u0000\u0000\u0000r\t\u0000\u0000\u0000g�n7ߍ��>g:h͔xn�>{r/\u0000\u0000\u0000)\u0004r\t\u0000\u0000\u0000r\t\u0000\u0000\u0000g�n7ߍ��>g:h͔xn�>0)\u0003r\u0006\u0000\u0000\u0000r\u001d",
      "\u0000\u0000\u0000r\u001e",
      "\u0000\u0000\u0000)\u0005r\t\u0000\u0000\u0000r\t\u0000\u0000\u0000g�X\u0016�\u0018$�>g��Pӣ��>{r/\u0000\u0000\u0000)\u0004r\t\u0000\u0000\u0000r\t\u0000\u0000\u0000g�X\u0016�\u0018$�>g��Pӣ��>0)\u0003r\u0006\u0000\u0000\u0000r\u0014\u0000\u0000\u0000r\u0015\u0000\u0000\u0000)\u0005r\t\u0000\u0000\u0000r\t\u0000\u0000\u0000g☐�^��>gp�\u0006�G;�>{rK\u0000\u0000\u0000)\u0004r\t\u0000\u0000\u0000r\t\u0000\u0000\u0000g☐�^��>gp�\u0006�G;�>0)\u0003r\u0006\u0000\u0000\u0000r \u0000\u0000\u0000r!\u0000\u0000\u0000)\u0005r\t\u0000\u0000\u0000r\t\u0000\u0000\u0000g�4\u0019Ň�>g�.��_��>{rK\u0000\u0000\u0000)\u0004r\t\u0000\u0000\u0000r\t\u0000\u0000\u0000g�4\u0019Ň�>g�.��_��>0)\u0003r\u0006\u0000\u0000\u0000iN\u0001\u0000\u0000r\u0007\u0000\u0000\u0000)\u0005r\t\u0000\u0000\u0000r\t\u0000\u0000\u0000gv��`0\u001f�>g�m��e��>{r/\u0000\u0000\u0000)\u0004r\t\u0000\u0000\u0000r\t\u0000\u0000\u0000gv��`0\u001f�>g�m��e��>0)\u0003r\u0006\u0000\u0000\u0000iu\u0001\u0000\u0000r0\u0000\u0000\u0000)\u0005r\t\u0000\u0000\u0000r\t\u0000\u0000\u0000g=γ����>g,��M�K?{rK\u0000\u0000\u0000)\u0004r\t\u0000\u0000\u0000r\t\u0000\u0000\u0000g=γ����>g,��M�K?0)\u0003rG\u0000\u0000\u0000rH\u0000\u0000\u0000rI\u0000\u0000\u0000)\u0005r\t\u0000\u0000\u0000r\t\u0000\u0000\u0000g�y!\u000b",
      ";\u0006�>g\u001d",
      "���\u000e��>{rR\u0000\u0000\u0000)\u0004r\t\u0000\u0000\u0000r\t\u0000\u0000\u0000g�y!\u000b",
      ";\u0006�>g\u001d",
      "���\u000e��>0)\u0003rD\u0000\u0000\u0000i\u0011\u0002\u0000\u0000�\u0006is_set)\u0005r.\u0000\u0000\u0000r.\u0000\u0000\u0000gA��\u0005�e�>gA��\u0005�e�>{�\u0003rD\u0000\u0000\u0000if\u0004\u0000\u0000is_alive)\u0004r.\u0000\u0000\u0000r.\u0000\u0000\u0000gA��\u0005�e�>gA��\u0005�e�>0)\u0003rD\u0000\u0000\u0000i#\u0004\u0000\u0000rE\u0000\u0000\u0000)\u0005r.\u0000\u0000\u0000r.\u0000\u0000\u0000gk��R�>g���Y.F�>{rT\u0000\u0000\u0000)\u0004r.\u0000\u0000\u0000r.\u0000\u0000\u0000gk��R�>g���Y.F�>0)\u0003rD\u0000\u0000\u0000if\u0004\u0000\u0000rU\u0000\u0000\u0000)\u0005r.\u0000\u0000\u0000r.\u0000\u0000\u0000g�Pr����>gt)\u0016\u000ep��>{r@\u0000\u0000\u0000)\u0004r.\u0000\u0000\u0000r.\u0000\u0000\u0000g�Pr����>gt)\u0016\u000ep��>0)\u0003r\u0001\u0000\u0000\u0000r\u0002\u0000\u0000\u0000�0<method 'disable' of '_lsprof.Profiler' objects>)\u0005r\t\u0000\u0000\u0000r\t\u0000\u0000\u0000g�ۮ#P��>g�ۮ#P��>{0)\u0003�C/Users/jbloom/ay250/lib/python3.9/site-packages/zmq/sugar/socket.pyi�\u0001\u0000\u0000�\u0004send)\u0005r.\u0000\u0000\u0000r.\u0000\u0000\u0000g�\u0018x��C5?g�\u0018x��C5?{r@\u0000\u0000\u0000)\u0004r.\u0000\u0000\u0000r.\u0000\u0000\u0000g�\u0018x��C5?g�\u0018x��C5?0)\u0003�F/Users/jbloom/ay250/lib/python3.9/site-packages/traitlets/traitlets.pyi\u0017\u0002\u0000\u0000�\u0003get)\u0005r\t\u0000\u0000\u0000r\t\u0000\u0000\u0000gE�˔4Q�>gE�˔4Q�>{)\u0003rY\u0000\u0000\u0000i6\u0002\u0000\u0000�\u0007__get__)\u0004r\t\u0000\u0000\u0000r\t\u0000\u0000\u0000gE�˔4Q�>gE�˔4Q�>0)\u0003rY\u0000\u0000\u0000i6\u0002\u0000\u0000r[\u0000\u0000\u0000)\u0005r\t\u0000\u0000\u0000r\t\u0000\u0000\u0000g2b��*��>g;(B�/��>{rK\u0000\u0000\u0000)\u0004r\t\u0000\u0000\u0000r\t\u0000\u0000\u0000g2b��*��>g;(B�/��>0)\u0003r&\u0000\u0000\u0000r'\u0000\u0000\u0000r(\u0000\u0000\u0000)\u0005r\t\u0000\u0000\u0000r\t\u0000\u0000\u0000g��\u0002Z>��>g�-Œ��r?{rK\u0000\u0000\u0000)\u0004r\t\u0000\u0000\u0000r\t\u0000\u0000\u0000g��\u0002Z>��>g�-Œ��r?0)\u0003rL\u0000\u0000\u0000i�\n",
      "\u0000\u0000rM\u0000\u0000\u0000)\u0005r\t\u0000\u0000\u0000r\t\u0000\u0000\u0000g\f",
      "�Z٣\u000f$?g5���\u0002�x?{)\u0003<string>r\t\u0000\u0000\u0000<module>)\u0004r\t\u0000\u0000\u0000r\t\u0000\u0000\u0000g\f",
      "�Z٣\u000f$?g5���\u0002�x?0)\u0003�L/Users/jbloom/ay250/lib/python3.9/site-packages/IPython/core/builtin_trap.py�.\u0000\u0000\u0000r\u000f\u0000\u0000\u0000)\u0005r\t\u0000\u0000\u0000r\t\u0000\u0000\u0000g.�q����>g.�q����>{rK\u0000\u0000\u0000)\u0004r\t\u0000\u0000\u0000r\t\u0000\u0000\u0000g.�q����>g.�q����>0)\u0003r^\u0000\u0000\u0000�'\u0000\u0000\u0000r\f",
      "\u0000\u0000\u0000)\u0005r\t\u0000\u0000\u0000r\t\u0000\u0000\u0000g�F�����>g�F�����>{rK\u0000\u0000\u0000)\u0004r\t\u0000\u0000\u0000r\t\u0000\u0000\u0000g�F�����>g�F�����>0)\u0003r\n",
      "\u0000\u0000\u0000�-\u0000\u0000\u0000rQ\u0000\u0000\u0000)\u0005r\t\u0000\u0000\u0000r\t\u0000\u0000\u0000g�I�����>g�I�����>{rK\u0000\u0000\u0000)\u0004r\t\u0000\u0000\u0000r\t\u0000\u0000\u0000g�I�����>g�I�����>0)\u0003r\n"
     ]
    }
   ],
   "source": [
    "!head sometask.profile"
   ]
  },
  {
   "cell_type": "code",
   "execution_count": 11,
   "metadata": {},
   "outputs": [
    {
     "name": "stdout",
     "output_type": "stream",
     "text": [
      "Requirement already satisfied: snakeviz in /Users/jbloom/ay250/lib/python3.9/site-packages (2.1.1)\n",
      "Collecting py-heat-magic\n",
      "  Downloading py-heat-magic-0.0.2.tar.gz (3.4 kB)\n",
      "  Preparing metadata (setup.py) ... \u001b[?25ldone\n",
      "\u001b[?25hRequirement already satisfied: tornado>=2.0 in /Users/jbloom/ay250/lib/python3.9/site-packages (from snakeviz) (6.1)\n",
      "Requirement already satisfied: numpy in /Users/jbloom/ay250/lib/python3.9/site-packages (from py-heat-magic) (1.20.3)\n",
      "Requirement already satisfied: scipy in /Users/jbloom/ay250/lib/python3.9/site-packages (from py-heat-magic) (1.8.0)\n",
      "Requirement already satisfied: matplotlib in /Users/jbloom/ay250/lib/python3.9/site-packages (from py-heat-magic) (3.5.1)\n",
      "Requirement already satisfied: ipython in /Users/jbloom/ay250/lib/python3.9/site-packages (from py-heat-magic) (7.31.0)\n",
      "Requirement already satisfied: jupyter in /Users/jbloom/ay250/lib/python3.9/site-packages (from py-heat-magic) (1.0.0)\n",
      "Requirement already satisfied: pandas in /Users/jbloom/ay250/lib/python3.9/site-packages (from py-heat-magic) (1.3.5)\n",
      "Requirement already satisfied: sympy in /Users/jbloom/ay250/lib/python3.9/site-packages (from py-heat-magic) (1.10)\n",
      "Requirement already satisfied: nose in /Users/jbloom/ay250/lib/python3.9/site-packages (from py-heat-magic) (1.3.7)\n",
      "Collecting py-heat\n",
      "  Downloading py-heat-0.0.6.tar.gz (7.1 kB)\n",
      "  Preparing metadata (setup.py) ... \u001b[?25ldone\n",
      "\u001b[?25hRequirement already satisfied: setuptools>=18.5 in /Users/jbloom/ay250/lib/python3.9/site-packages (from ipython->py-heat-magic) (60.2.0)\n",
      "Requirement already satisfied: appnope in /Users/jbloom/ay250/lib/python3.9/site-packages (from ipython->py-heat-magic) (0.1.2)\n",
      "Requirement already satisfied: backcall in /Users/jbloom/ay250/lib/python3.9/site-packages (from ipython->py-heat-magic) (0.2.0)\n",
      "Requirement already satisfied: pickleshare in /Users/jbloom/ay250/lib/python3.9/site-packages (from ipython->py-heat-magic) (0.7.5)\n",
      "Requirement already satisfied: jedi>=0.16 in /Users/jbloom/ay250/lib/python3.9/site-packages (from ipython->py-heat-magic) (0.18.1)\n",
      "Requirement already satisfied: matplotlib-inline in /Users/jbloom/ay250/lib/python3.9/site-packages (from ipython->py-heat-magic) (0.1.3)\n",
      "Requirement already satisfied: decorator in /Users/jbloom/ay250/lib/python3.9/site-packages (from ipython->py-heat-magic) (5.1.0)\n",
      "Requirement already satisfied: prompt-toolkit!=3.0.0,!=3.0.1,<3.1.0,>=2.0.0 in /Users/jbloom/ay250/lib/python3.9/site-packages (from ipython->py-heat-magic) (3.0.24)\n",
      "Requirement already satisfied: traitlets>=4.2 in /Users/jbloom/ay250/lib/python3.9/site-packages (from ipython->py-heat-magic) (5.1.1)\n",
      "Requirement already satisfied: pexpect>4.3 in /Users/jbloom/ay250/lib/python3.9/site-packages (from ipython->py-heat-magic) (4.8.0)\n",
      "Requirement already satisfied: pygments in /Users/jbloom/ay250/lib/python3.9/site-packages (from ipython->py-heat-magic) (2.11.1)\n",
      "Requirement already satisfied: notebook in /Users/jbloom/ay250/lib/python3.9/site-packages (from jupyter->py-heat-magic) (6.4.5)\n",
      "Requirement already satisfied: ipywidgets in /Users/jbloom/ay250/lib/python3.9/site-packages (from jupyter->py-heat-magic) (7.6.5)\n",
      "Requirement already satisfied: jupyter-console in /Users/jbloom/ay250/lib/python3.9/site-packages (from jupyter->py-heat-magic) (6.4.0)\n",
      "Requirement already satisfied: qtconsole in /Users/jbloom/ay250/lib/python3.9/site-packages (from jupyter->py-heat-magic) (5.2.2)\n",
      "Requirement already satisfied: nbconvert in /Users/jbloom/ay250/lib/python3.9/site-packages (from jupyter->py-heat-magic) (6.1.0)\n",
      "Requirement already satisfied: ipykernel in /Users/jbloom/ay250/lib/python3.9/site-packages (from jupyter->py-heat-magic) (6.6.1)\n",
      "Requirement already satisfied: cycler>=0.10 in /Users/jbloom/ay250/lib/python3.9/site-packages (from matplotlib->py-heat-magic) (0.11.0)\n",
      "Requirement already satisfied: pillow>=6.2.0 in /Users/jbloom/ay250/lib/python3.9/site-packages (from matplotlib->py-heat-magic) (8.4.0)\n",
      "Requirement already satisfied: packaging>=20.0 in /Users/jbloom/ay250/lib/python3.9/site-packages (from matplotlib->py-heat-magic) (21.3)\n",
      "Requirement already satisfied: fonttools>=4.22.0 in /Users/jbloom/ay250/lib/python3.9/site-packages (from matplotlib->py-heat-magic) (4.28.5)\n",
      "Requirement already satisfied: pyparsing>=2.2.1 in /Users/jbloom/ay250/lib/python3.9/site-packages (from matplotlib->py-heat-magic) (3.0.6)\n",
      "Requirement already satisfied: python-dateutil>=2.7 in /Users/jbloom/ay250/lib/python3.9/site-packages (from matplotlib->py-heat-magic) (2.8.2)\n",
      "Requirement already satisfied: kiwisolver>=1.0.1 in /Users/jbloom/ay250/lib/python3.9/site-packages (from matplotlib->py-heat-magic) (1.3.2)\n",
      "Requirement already satisfied: pytz>=2017.3 in /Users/jbloom/ay250/lib/python3.9/site-packages (from pandas->py-heat-magic) (2021.3)\n",
      "Collecting pprofile\n",
      "  Downloading pprofile-2.1.0.tar.gz (56 kB)\n",
      "\u001b[2K     \u001b[90m━━━━━━━━━━━━━━━━━━━━━━━━━━━━━━━━━━━━━━━━\u001b[0m \u001b[32m56.7/56.7 KB\u001b[0m \u001b[31m3.1 MB/s\u001b[0m eta \u001b[36m0:00:00\u001b[0m\n",
      "\u001b[?25h  Preparing metadata (setup.py) ... \u001b[?25ldone\n",
      "\u001b[?25hRequirement already satisfied: mpmath>=0.19 in /Users/jbloom/ay250/lib/python3.9/site-packages (from sympy->py-heat-magic) (1.2.1)\n",
      "Requirement already satisfied: parso<0.9.0,>=0.8.0 in /Users/jbloom/ay250/lib/python3.9/site-packages (from jedi>=0.16->ipython->py-heat-magic) (0.8.3)\n",
      "Requirement already satisfied: ptyprocess>=0.5 in /Users/jbloom/ay250/lib/python3.9/site-packages (from pexpect>4.3->ipython->py-heat-magic) (0.7.0)\n",
      "Requirement already satisfied: wcwidth in /Users/jbloom/ay250/lib/python3.9/site-packages (from prompt-toolkit!=3.0.0,!=3.0.1,<3.1.0,>=2.0.0->ipython->py-heat-magic) (0.2.5)\n",
      "Requirement already satisfied: six>=1.5 in /Users/jbloom/ay250/lib/python3.9/site-packages (from python-dateutil>=2.7->matplotlib->py-heat-magic) (1.16.0)\n",
      "Requirement already satisfied: nest-asyncio in /Users/jbloom/ay250/lib/python3.9/site-packages (from ipykernel->jupyter->py-heat-magic) (1.5.4)\n",
      "Requirement already satisfied: debugpy<2.0,>=1.0.0 in /Users/jbloom/ay250/lib/python3.9/site-packages (from ipykernel->jupyter->py-heat-magic) (1.5.1)\n",
      "Requirement already satisfied: jupyter-client<8.0 in /Users/jbloom/ay250/lib/python3.9/site-packages (from ipykernel->jupyter->py-heat-magic) (6.1.12)\n",
      "Requirement already satisfied: widgetsnbextension~=3.5.0 in /Users/jbloom/ay250/lib/python3.9/site-packages (from ipywidgets->jupyter->py-heat-magic) (3.5.2)\n",
      "Requirement already satisfied: ipython-genutils~=0.2.0 in /Users/jbloom/ay250/lib/python3.9/site-packages (from ipywidgets->jupyter->py-heat-magic) (0.2.0)\n",
      "Requirement already satisfied: jupyterlab-widgets>=1.0.0 in /Users/jbloom/ay250/lib/python3.9/site-packages (from ipywidgets->jupyter->py-heat-magic) (1.0.2)\n",
      "Requirement already satisfied: nbformat>=4.2.0 in /Users/jbloom/ay250/lib/python3.9/site-packages (from ipywidgets->jupyter->py-heat-magic) (5.1.2)\n",
      "Requirement already satisfied: nbclient<0.6.0,>=0.5.0 in /Users/jbloom/ay250/lib/python3.9/site-packages (from nbconvert->jupyter->py-heat-magic) (0.5.9)\n",
      "Requirement already satisfied: jupyter-core in /Users/jbloom/ay250/lib/python3.9/site-packages (from nbconvert->jupyter->py-heat-magic) (4.9.1)\n",
      "Requirement already satisfied: mistune<2,>=0.8.1 in /Users/jbloom/ay250/lib/python3.9/site-packages (from nbconvert->jupyter->py-heat-magic) (0.8.4)\n",
      "Requirement already satisfied: bleach in /Users/jbloom/ay250/lib/python3.9/site-packages (from nbconvert->jupyter->py-heat-magic) (4.1.0)\n",
      "Requirement already satisfied: jupyterlab-pygments in /Users/jbloom/ay250/lib/python3.9/site-packages (from nbconvert->jupyter->py-heat-magic) (0.1.2)\n",
      "Requirement already satisfied: entrypoints>=0.2.2 in /Users/jbloom/ay250/lib/python3.9/site-packages (from nbconvert->jupyter->py-heat-magic) (0.3)\n",
      "Requirement already satisfied: defusedxml in /Users/jbloom/ay250/lib/python3.9/site-packages (from nbconvert->jupyter->py-heat-magic) (0.7.1)\n",
      "Requirement already satisfied: pandocfilters>=1.4.1 in /Users/jbloom/ay250/lib/python3.9/site-packages (from nbconvert->jupyter->py-heat-magic) (1.5.0)\n",
      "Requirement already satisfied: jinja2>=2.4 in /Users/jbloom/ay250/lib/python3.9/site-packages (from nbconvert->jupyter->py-heat-magic) (3.0.3)\n",
      "Requirement already satisfied: testpath in /Users/jbloom/ay250/lib/python3.9/site-packages (from nbconvert->jupyter->py-heat-magic) (0.5.0)\n",
      "Requirement already satisfied: pyzmq>=17 in /Users/jbloom/ay250/lib/python3.9/site-packages (from notebook->jupyter->py-heat-magic) (22.3.0)\n",
      "Requirement already satisfied: prometheus-client in /Users/jbloom/ay250/lib/python3.9/site-packages (from notebook->jupyter->py-heat-magic) (0.12.0)\n",
      "Requirement already satisfied: terminado>=0.8.3 in /Users/jbloom/ay250/lib/python3.9/site-packages (from notebook->jupyter->py-heat-magic) (0.12.1)\n",
      "Requirement already satisfied: argon2-cffi in /Users/jbloom/ay250/lib/python3.9/site-packages (from notebook->jupyter->py-heat-magic) (21.3.0)\n",
      "Requirement already satisfied: Send2Trash>=1.5.0 in /Users/jbloom/ay250/lib/python3.9/site-packages (from notebook->jupyter->py-heat-magic) (1.8.0)\n",
      "Requirement already satisfied: qtpy in /Users/jbloom/ay250/lib/python3.9/site-packages (from qtconsole->jupyter->py-heat-magic) (2.0.0)\n",
      "Requirement already satisfied: MarkupSafe>=2.0 in /Users/jbloom/ay250/lib/python3.9/site-packages (from jinja2>=2.4->nbconvert->jupyter->py-heat-magic) (2.0.1)\n",
      "Requirement already satisfied: jsonschema!=2.5.0,>=2.4 in /Users/jbloom/ay250/lib/python3.9/site-packages (from nbformat>=4.2.0->ipywidgets->jupyter->py-heat-magic) (4.3.3)\n",
      "Requirement already satisfied: argon2-cffi-bindings in /Users/jbloom/ay250/lib/python3.9/site-packages (from argon2-cffi->notebook->jupyter->py-heat-magic) (21.2.0)\n",
      "Requirement already satisfied: webencodings in /Users/jbloom/ay250/lib/python3.9/site-packages (from bleach->nbconvert->jupyter->py-heat-magic) (0.5.1)\n",
      "Requirement already satisfied: pyrsistent!=0.17.0,!=0.17.1,!=0.17.2,>=0.14.0 in /Users/jbloom/ay250/lib/python3.9/site-packages (from jsonschema!=2.5.0,>=2.4->nbformat>=4.2.0->ipywidgets->jupyter->py-heat-magic) (0.18.0)\n",
      "Requirement already satisfied: attrs>=17.4.0 in /Users/jbloom/ay250/lib/python3.9/site-packages (from jsonschema!=2.5.0,>=2.4->nbformat>=4.2.0->ipywidgets->jupyter->py-heat-magic) (21.4.0)\n",
      "Requirement already satisfied: cffi>=1.0.1 in /Users/jbloom/ay250/lib/python3.9/site-packages (from argon2-cffi-bindings->argon2-cffi->notebook->jupyter->py-heat-magic) (1.15.0)\n",
      "Requirement already satisfied: pycparser in /Users/jbloom/ay250/lib/python3.9/site-packages (from cffi>=1.0.1->argon2-cffi-bindings->argon2-cffi->notebook->jupyter->py-heat-magic) (2.21)\n",
      "Building wheels for collected packages: py-heat-magic, py-heat, pprofile\n",
      "  Building wheel for py-heat-magic (setup.py) ... \u001b[?25ldone\n",
      "\u001b[?25h  Created wheel for py-heat-magic: filename=py_heat_magic-0.0.2-py3-none-any.whl size=3160 sha256=b168022bb59b8bd5aa6c08a211cc9befe8b3875caa63f186903f627b0f4384ca\n",
      "  Stored in directory: /Users/jbloom/Library/Caches/pip/wheels/f6/0b/58/4c95098dfdd6870497f918d63519673b6006357c4356545192\n",
      "  Building wheel for py-heat (setup.py) ... \u001b[?25ldone\n",
      "\u001b[?25h  Created wheel for py-heat: filename=py_heat-0.0.6-py2.py3-none-any.whl size=7811 sha256=b7034335f6d09e98e86a2d124530822a75fb49d2903b613de30d41f743045581\n",
      "  Stored in directory: /Users/jbloom/Library/Caches/pip/wheels/29/91/d9/626429dece427775d4662ac1408c774d8a8ab62afbeb845230\n",
      "  Building wheel for pprofile (setup.py) ... \u001b[?25ldone\n",
      "\u001b[?25h  Created wheel for pprofile: filename=pprofile-2.1.0-py3-none-any.whl size=36290 sha256=c066cc6ed54f2ca24ae5d3364443e03c6b0cb7cff776084f2293e759fc7dafa1\n",
      "  Stored in directory: /Users/jbloom/Library/Caches/pip/wheels/fc/42/97/c5dfca025ad09187c1381b514fbcd1bd6c2d47c715370b174b\n",
      "Successfully built py-heat-magic py-heat pprofile\n",
      "Installing collected packages: pprofile, py-heat, py-heat-magic\n",
      "Successfully installed pprofile-2.1.0 py-heat-0.0.6 py-heat-magic-0.0.2\n"
     ]
    }
   ],
   "source": [
    "!pip install snakeviz py-heat-magic"
   ]
  },
  {
   "cell_type": "code",
   "execution_count": 12,
   "metadata": {},
   "outputs": [
    {
     "name": "stdout",
     "output_type": "stream",
     "text": [
      "snakeviz web server started on 127.0.0.1:8080; enter Ctrl-C to exit\n",
      "http://127.0.0.1:8080/snakeviz/%2FUsers%2Fjbloom%2FClasses%2Fpython-seminar%2FLectures%2F11_Cython%2Fdemos%2Fprofile%2Fsometask.profile\n",
      "^C\n",
      "\n",
      "Bye!\n"
     ]
    }
   ],
   "source": [
    "!snakeviz sometask.profile"
   ]
  },
  {
   "cell_type": "code",
   "execution_count": 13,
   "metadata": {},
   "outputs": [],
   "source": [
    "%load_ext snakeviz"
   ]
  },
  {
   "cell_type": "code",
   "execution_count": 14,
   "metadata": {},
   "outputs": [
    {
     "name": "stdout",
     "output_type": "stream",
     "text": [
      "Squaring some numbers...\n",
      " \n",
      "*** Profile stats marshalled to file '/var/folders/l6/qxz619j9671dr9wn886bbk540000gn/T/tmpt72rvoqj'. \n",
      "Embedding SnakeViz in this document...\n"
     ]
    },
    {
     "data": {
      "text/html": [
       "\n",
       "<iframe id='snakeviz-f940ed0e-c282-11ec-b6f9-acde48001122' frameborder=0 seamless width='100%' height='1000'></iframe>\n",
       "<script>document.getElementById(\"snakeviz-f940ed0e-c282-11ec-b6f9-acde48001122\").setAttribute(\"src\", \"http://\" + document.location.hostname + \":8080/snakeviz/%2Fvar%2Ffolders%2Fl6%2Fqxz619j9671dr9wn886bbk540000gn%2FT%2Ftmpt72rvoqj\")</script>\n"
      ],
      "text/plain": [
       "<IPython.core.display.HTML object>"
      ]
     },
     "metadata": {},
     "output_type": "display_data"
    }
   ],
   "source": [
    "%%snakeviz\n",
    "sometask.execute()"
   ]
  },
  {
   "cell_type": "markdown",
   "metadata": {},
   "source": [
    "## Profiling line-by-line\n",
    "\n",
    "    %lprun\n",
    "    \n",
    "This magic is not built into Jupyter, it is provided by the [line_profiler package by Robert Kern](http://pythonhosted.org/line_profiler/)."
   ]
  },
  {
   "cell_type": "code",
   "execution_count": 16,
   "metadata": {},
   "outputs": [],
   "source": [
    "#!conda install line_profiler -y"
   ]
  },
  {
   "cell_type": "code",
   "execution_count": 17,
   "metadata": {},
   "outputs": [],
   "source": [
    "%load_ext line_profiler"
   ]
  },
  {
   "cell_type": "markdown",
   "metadata": {},
   "source": [
    "Run the code, but only run the line profiler on the function `square()`"
   ]
  },
  {
   "cell_type": "code",
   "execution_count": 18,
   "metadata": {},
   "outputs": [],
   "source": [
    "import sometask"
   ]
  },
  {
   "cell_type": "code",
   "execution_count": 19,
   "metadata": {},
   "outputs": [
    {
     "name": "stdout",
     "output_type": "stream",
     "text": [
      "import numpy as np\n",
      "\n",
      "def expensive_square(x):\n",
      "    x = x.copy()\n",
      "    y = x.copy()\n",
      "    for i in range(x.size):\n",
      "        x[i] = x[i] ** 2\n",
      "    \n",
      "    del y\n",
      "    return x\n",
      "\n",
      "def cheap_square(x):\n",
      "    return x**2\n",
      "\n",
      "square = expensive_square\n",
      "#square = cheap_square\n",
      "\n",
      "def execute():\n",
      "    print(\"Squaring some numbers...\")\n",
      "    x = np.arange((5000))\n",
      "    y = square(x)\n",
      "\n",
      "#    np.testing.assert_equal(x**2, y)\n",
      "\n",
      "if __name__ == \"__main__\":\n",
      "    execute()\n"
     ]
    }
   ],
   "source": [
    "!cat sometask.py"
   ]
  },
  {
   "cell_type": "code",
   "execution_count": 20,
   "metadata": {},
   "outputs": [
    {
     "name": "stdout",
     "output_type": "stream",
     "text": [
      "Squaring some numbers...\n"
     ]
    }
   ],
   "source": [
    "%lprun -f sometask.square sometask.execute()"
   ]
  },
  {
   "cell_type": "code",
   "execution_count": 21,
   "metadata": {},
   "outputs": [],
   "source": [
    "%load_ext heat "
   ]
  },
  {
   "cell_type": "code",
   "execution_count": 23,
   "metadata": {},
   "outputs": [],
   "source": [
    "import numpy as np"
   ]
  },
  {
   "cell_type": "code",
   "execution_count": 27,
   "metadata": {},
   "outputs": [
    {
     "name": "stdout",
     "output_type": "stream",
     "text": [
      "Squaring some numbers...\n"
     ]
    },
    {
     "data": {
      "image/png": "[encoded data removed]",
      "text/plain": [
       "<Figure size 351x528 with 2 Axes>"
      ]
     },
     "metadata": {
      "needs_background": "light"
     },
     "output_type": "display_data"
    }
   ],
   "source": [
    "%%heat \n",
    "import numpy as np\n",
    "def expensive_square(x):\n",
    "    x = x.copy()\n",
    "    y = x.copy()\n",
    "    for i in range(x.size):\n",
    "        x[i] = x[i] ** 2\n",
    "    \n",
    "    del y\n",
    "    return x\n",
    "\n",
    "def cheap_square(x):\n",
    "    return x**2\n",
    "\n",
    "square = expensive_square\n",
    "square = cheap_square\n",
    "\n",
    "def execute():\n",
    "    print(\"Squaring some numbers...\")\n",
    "    x = np.arange((5000))\n",
    "    y = square(x)\n",
    "    \n",
    "execute()"
   ]
  },
  {
   "cell_type": "markdown",
   "metadata": {},
   "source": [
    "## Profiling memory usage (line-by-line)\n",
    "\n",
    "    %mprun\n",
    "    \n",
    "        \n",
    "This magic is not built into Jupyter, it is provided by the [memory_profiler package by Fabian Pedregosa](https://pypi.python.org/pypi/memory_profiler)."
   ]
  },
  {
   "cell_type": "code",
   "execution_count": 28,
   "metadata": {},
   "outputs": [
    {
     "name": "stdout",
     "output_type": "stream",
     "text": [
      "Requirement already satisfied: memory_profiler in /Users/jbloom/ay250/lib/python3.9/site-packages (0.60.0)\n",
      "Requirement already satisfied: psutil in /Users/jbloom/ay250/lib/python3.9/site-packages (from memory_profiler) (5.9.0)\n"
     ]
    }
   ],
   "source": [
    "!pip install  -U memory_profiler"
   ]
  },
  {
   "cell_type": "code",
   "execution_count": 29,
   "metadata": {},
   "outputs": [],
   "source": [
    "%load_ext memory_profiler"
   ]
  },
  {
   "cell_type": "code",
   "execution_count": 30,
   "metadata": {},
   "outputs": [],
   "source": [
    "%mprun?"
   ]
  },
  {
   "cell_type": "code",
   "execution_count": 31,
   "metadata": {},
   "outputs": [
    {
     "name": "stdout",
     "output_type": "stream",
     "text": [
      "[Errno 2] No such file or directory: 'demos/profile'\n",
      "/Users/jbloom/Classes/python-seminar/Lectures/11_Cython/demos/profile\n"
     ]
    }
   ],
   "source": [
    "cd demos/profile"
   ]
  },
  {
   "cell_type": "code",
   "execution_count": 32,
   "metadata": {},
   "outputs": [],
   "source": [
    "import sometask"
   ]
  },
  {
   "cell_type": "code",
   "execution_count": 33,
   "metadata": {},
   "outputs": [
    {
     "name": "stdout",
     "output_type": "stream",
     "text": [
      "import numpy as np\n",
      "\n",
      "def expensive_square(x):\n",
      "    x = x.copy()\n",
      "    y = x.copy()\n",
      "    for i in range(x.size):\n",
      "        x[i] = x[i] ** 2\n",
      "    \n",
      "    del y\n",
      "    return x\n",
      "\n",
      "def cheap_square(x):\n",
      "    return x**2\n",
      "\n",
      "square = expensive_square\n",
      "#square = cheap_square\n",
      "\n",
      "def execute():\n",
      "    print(\"Squaring some numbers...\")\n",
      "    x = np.arange((5000))\n",
      "    y = square(x)\n",
      "\n",
      "#    np.testing.assert_equal(x**2, y)\n",
      "\n",
      "if __name__ == \"__main__\":\n",
      "    execute()\n"
     ]
    }
   ],
   "source": [
    "!cat sometask.py"
   ]
  },
  {
   "cell_type": "code",
   "execution_count": 34,
   "metadata": {},
   "outputs": [
    {
     "name": "stdout",
     "output_type": "stream",
     "text": [
      "Squaring some numbers...\n",
      "\n"
     ]
    }
   ],
   "source": [
    "%mprun -f sometask.square sometask.execute()"
   ]
  },
  {
   "cell_type": "markdown",
   "metadata": {},
   "source": [
    "# Other tools for profiling:\n",
    "\n",
    "[gprof](http://en.wikipedia.org/wiki/Gprof) -- command line profiling tool for C code. [GNU Gprof documentation](https://sourceware.org/binutils/docs/gprof/) is pretty good.\n",
    "\n",
    "[valgrind](http://valgrind.org/docs/manual/cl-manual.html) -- very complex suite for analyzing callgrind and kcachegrind. \"*Valgrind is an instrumentation framework for building dynamic analysis tools. There are Valgrind tools that can automatically detect many memory management and threading bugs, and profile your programs in detail.*\"\n",
    "\n",
    "[memray](https://github.com/bloomberg/memray) track memory allocations in Python code, in native extension modules, and in the Python interpreter itself. It can generate several different types of reports to help you analyze the captured memory usage data. Works on linux."
   ]
  },
  {
   "cell_type": "markdown",
   "metadata": {},
   "source": [
    "[Timing and Profiling in IPython](http://pynash.org/2013/03/06/timing-and-profiling/) : Blogpost at the PyNash"
   ]
  },
  {
   "cell_type": "markdown",
   "metadata": {},
   "source": [
    "Calculate the variance\n",
    "\n",
    "$$\\sigma^2 = \\frac {\\sum_{i=1}^N (x_i - \\sum_{j=1}^N x_j/N)^2}{N - 1}. $$\n",
    "\n",
    "problem here is that you must first pass over all the data (to get the mean) then pass over the data again.  There's a bunch of Pythonic ways to do this. Here's a few..."
   ]
  },
  {
   "cell_type": "code",
   "execution_count": 10,
   "metadata": {},
   "outputs": [],
   "source": [
    "#%%writefile var.py\n",
    "def variance(data):\n",
    "    sample_mean = 0.0\n",
    "    \n",
    "    # 1st loop\n",
    "    for x in data:\n",
    "        sample_mean += float(x)\n",
    "    \n",
    "    sample_mean /= len(data)\n",
    "    \n",
    "    # second loop\n",
    "    sum_of_squared_errors = 0.0\n",
    "    for x in data:\n",
    "        sum_of_squared_errors += (float(x) - sample_mean) ** 2\n",
    "    \n",
    "    return sum_of_squared_errors / (float(len(data)) - 1.0)\n",
    "    \n",
    "def variance0(data):\n",
    "    sample_mean = sum(data) / len(data) # loop 1\n",
    "    sum_of_squared_errors = sum((i - sample_mean) ** 2 for i in data) # loop 2\n",
    "    return sum_of_squared_errors / (len(data) - 1)\n",
    "\n",
    "import functools\n",
    "def variance1(data):\n",
    "    mean = float(functools.reduce(lambda x,y : x+y, data)) / len(data)\n",
    "    return functools.reduce(lambda x,y: x+y, map(lambda xi: (xi-mean)**2, data))/ (len(data) - 1)\n",
    "\n",
    "def execute():\n",
    "    variance(range(100000))\n",
    "    \n",
    "def execute1():\n",
    "    variance1(range(100000))"
   ]
  },
  {
   "cell_type": "code",
   "execution_count": 3,
   "metadata": {},
   "outputs": [
    {
     "name": "stdout",
     "output_type": "stream",
     "text": [
      "41.5 ms ± 3.18 ms per loop (mean ± std. dev. of 7 runs, 10 loops each)\n"
     ]
    }
   ],
   "source": [
    "%timeit variance(range(100000))"
   ]
  },
  {
   "cell_type": "code",
   "execution_count": 4,
   "metadata": {},
   "outputs": [
    {
     "name": "stdout",
     "output_type": "stream",
     "text": [
      "22.3 ms ± 604 µs per loop (mean ± std. dev. of 7 runs, 10 loops each)\n"
     ]
    }
   ],
   "source": [
    "%timeit variance0(range(100000))"
   ]
  },
  {
   "cell_type": "code",
   "execution_count": 5,
   "metadata": {},
   "outputs": [
    {
     "name": "stdout",
     "output_type": "stream",
     "text": [
      "43.6 ms ± 1.14 ms per loop (mean ± std. dev. of 7 runs, 10 loops each)\n"
     ]
    }
   ],
   "source": [
    "%timeit variance1(range(100000))"
   ]
  },
  {
   "cell_type": "markdown",
   "metadata": {},
   "source": [
    "We'd like to do this with just one pass over the data. Have a look at Welford's Method (1962):"
   ]
  },
  {
   "cell_type": "code",
   "execution_count": 6,
   "metadata": {},
   "outputs": [],
   "source": [
    "def online_variance(data):\n",
    "    mean,M2= 0.,0.\n",
    "    for n,d in enumerate(data):\n",
    "        delta = d - mean\n",
    "        mean += delta/(n + 1)\n",
    "        M2 += delta*(d - mean)  \n",
    "    return M2/n"
   ]
  },
  {
   "cell_type": "code",
   "execution_count": 7,
   "metadata": {},
   "outputs": [
    {
     "name": "stdout",
     "output_type": "stream",
     "text": [
      "31.2 ms ± 1.31 ms per loop (mean ± std. dev. of 7 runs, 10 loops each)\n"
     ]
    }
   ],
   "source": [
    "%timeit online_variance(range(100000))"
   ]
  },
  {
   "cell_type": "code",
   "execution_count": 11,
   "metadata": {},
   "outputs": [
    {
     "data": {
      "text/plain": [
       "<module 'var' from '/Users/jbloom/Classes/python-seminar/Lectures/11_Cython/var.py'>"
      ]
     },
     "execution_count": 11,
     "metadata": {},
     "output_type": "execute_result"
    }
   ],
   "source": [
    "import var\n",
    "import importlib\n",
    "importlib.reload(var)"
   ]
  },
  {
   "cell_type": "code",
   "execution_count": 12,
   "metadata": {},
   "outputs": [],
   "source": [
    "%load_ext line_profiler"
   ]
  },
  {
   "cell_type": "code",
   "execution_count": 13,
   "metadata": {},
   "outputs": [],
   "source": [
    "%lprun -f var.variance var.execute()"
   ]
  }
 ],
 "metadata": {
  "kernelspec": {
   "display_name": "Python 3 (ipykernel)",
   "language": "python",
   "name": "python3"
  },
  "language_info": {
   "codemirror_mode": {
    "name": "ipython",
    "version": 3
   },
   "file_extension": ".py",
   "mimetype": "text/x-python",
   "name": "python",
   "nbconvert_exporter": "python",
   "pygments_lexer": "ipython3",
   "version": "3.9.9"
  },
  "toc": {
   "base_numbering": 1,
   "nav_menu": {},
   "number_sections": true,
   "sideBar": true,
   "skip_h1_title": false,
   "title_cell": "Table of Contents",
   "title_sidebar": "Contents",
   "toc_cell": false,
   "toc_position": {},
   "toc_section_display": true,
   "toc_window_display": false
  },
  "varInspector": {
   "cols": {
    "lenName": 16,
    "lenType": 16,
    "lenVar": 40
   },
   "kernels_config": {
    "python": {
     "delete_cmd_postfix": "",
     "delete_cmd_prefix": "del ",
     "library": "var_list.py",
     "varRefreshCmd": "print(var_dic_list())"
    },
    "r": {
     "delete_cmd_postfix": ") ",
     "delete_cmd_prefix": "rm(",
     "library": "var_list.r",
     "varRefreshCmd": "cat(var_dic_list()) "
    }
   },
   "types_to_exclude": [
    "module",
    "function",
    "builtin_function_or_method",
    "instance",
    "_Feature"
   ],
   "window_display": false
  }
 },
 "nbformat": 4,
 "nbformat_minor": 4
}
